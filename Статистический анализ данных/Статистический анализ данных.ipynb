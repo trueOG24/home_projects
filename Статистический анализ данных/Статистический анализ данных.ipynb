{
 "cells": [
  {
   "cell_type": "markdown",
   "id": "c42cbe00",
   "metadata": {},
   "source": [
    "#### Шаг 1. Импорт бибилотек. Загрузка данных"
   ]
  },
  {
   "cell_type": "code",
   "execution_count": 50,
   "id": "11efa3f6",
   "metadata": {},
   "outputs": [],
   "source": [
    "#импортируем все необходимые для обработки и последующего анализа библиотеки\n",
    "#импорт библиотеки pandas\n",
    "import pandas as pd\n",
    "#импорт библиотеки matplotlib\n",
    "import matplotlib.pyplot as plt\n",
    "#импорт библиотеки numpy\n",
    "import numpy as np\n",
    "#импорт библиотеки stats\n",
    "from scipy import stats as st"
   ]
  },
  {
   "cell_type": "code",
   "execution_count": 2,
   "id": "eff9f206",
   "metadata": {},
   "outputs": [],
   "source": [
    "#читаем необходимые файлы и сохраняем в трех датафрэймах\n",
    "try:\n",
    "    user = pd.read_csv('/datasets/users_go.csv')\n",
    "except: \n",
    "    user = pd.read_csv('https://code.s3.yandex.net/datasets/users_go.csv')"
   ]
  },
  {
   "cell_type": "code",
   "execution_count": 3,
   "id": "3f84a98d",
   "metadata": {},
   "outputs": [],
   "source": [
    "try:\n",
    "    ride = pd.read_csv('/datasets/rides_go.csv')\n",
    "except: \n",
    "    ride = pd.read_csv('https://code.s3.yandex.net/datasets/rides_go.csv')"
   ]
  },
  {
   "cell_type": "code",
   "execution_count": 4,
   "id": "5b8efd3d",
   "metadata": {},
   "outputs": [],
   "source": [
    "try:\n",
    "    subscribe = pd.read_csv('/datasets/subscriptions_go.csv')\n",
    "except: \n",
    "    subscribe = pd.read_csv('https://code.s3.yandex.net/datasets/subscriptions_go.csv')"
   ]
  },
  {
   "cell_type": "code",
   "execution_count": 5,
   "id": "2d9ae8b3",
   "metadata": {},
   "outputs": [
    {
     "data": {
      "text/html": [
       "<div>\n",
       "<style scoped>\n",
       "    .dataframe tbody tr th:only-of-type {\n",
       "        vertical-align: middle;\n",
       "    }\n",
       "\n",
       "    .dataframe tbody tr th {\n",
       "        vertical-align: top;\n",
       "    }\n",
       "\n",
       "    .dataframe thead th {\n",
       "        text-align: right;\n",
       "    }\n",
       "</style>\n",
       "<table border=\"1\" class=\"dataframe\">\n",
       "  <thead>\n",
       "    <tr style=\"text-align: right;\">\n",
       "      <th></th>\n",
       "      <th>user_id</th>\n",
       "      <th>name</th>\n",
       "      <th>age</th>\n",
       "      <th>city</th>\n",
       "      <th>subscription_type</th>\n",
       "    </tr>\n",
       "  </thead>\n",
       "  <tbody>\n",
       "    <tr>\n",
       "      <th>0</th>\n",
       "      <td>1</td>\n",
       "      <td>Кира</td>\n",
       "      <td>22</td>\n",
       "      <td>Тюмень</td>\n",
       "      <td>ultra</td>\n",
       "    </tr>\n",
       "    <tr>\n",
       "      <th>1</th>\n",
       "      <td>2</td>\n",
       "      <td>Станислав</td>\n",
       "      <td>31</td>\n",
       "      <td>Омск</td>\n",
       "      <td>ultra</td>\n",
       "    </tr>\n",
       "    <tr>\n",
       "      <th>2</th>\n",
       "      <td>3</td>\n",
       "      <td>Алексей</td>\n",
       "      <td>20</td>\n",
       "      <td>Москва</td>\n",
       "      <td>ultra</td>\n",
       "    </tr>\n",
       "    <tr>\n",
       "      <th>3</th>\n",
       "      <td>4</td>\n",
       "      <td>Константин</td>\n",
       "      <td>26</td>\n",
       "      <td>Ростов-на-Дону</td>\n",
       "      <td>ultra</td>\n",
       "    </tr>\n",
       "    <tr>\n",
       "      <th>4</th>\n",
       "      <td>5</td>\n",
       "      <td>Адель</td>\n",
       "      <td>28</td>\n",
       "      <td>Омск</td>\n",
       "      <td>ultra</td>\n",
       "    </tr>\n",
       "    <tr>\n",
       "      <th>5</th>\n",
       "      <td>6</td>\n",
       "      <td>Регина</td>\n",
       "      <td>25</td>\n",
       "      <td>Краснодар</td>\n",
       "      <td>ultra</td>\n",
       "    </tr>\n",
       "    <tr>\n",
       "      <th>6</th>\n",
       "      <td>7</td>\n",
       "      <td>Игорь</td>\n",
       "      <td>23</td>\n",
       "      <td>Омск</td>\n",
       "      <td>ultra</td>\n",
       "    </tr>\n",
       "    <tr>\n",
       "      <th>7</th>\n",
       "      <td>8</td>\n",
       "      <td>Юрий</td>\n",
       "      <td>23</td>\n",
       "      <td>Краснодар</td>\n",
       "      <td>ultra</td>\n",
       "    </tr>\n",
       "    <tr>\n",
       "      <th>8</th>\n",
       "      <td>9</td>\n",
       "      <td>Ян</td>\n",
       "      <td>21</td>\n",
       "      <td>Пятигорск</td>\n",
       "      <td>ultra</td>\n",
       "    </tr>\n",
       "    <tr>\n",
       "      <th>9</th>\n",
       "      <td>10</td>\n",
       "      <td>Валерий</td>\n",
       "      <td>18</td>\n",
       "      <td>Екатеринбург</td>\n",
       "      <td>ultra</td>\n",
       "    </tr>\n",
       "  </tbody>\n",
       "</table>\n",
       "</div>"
      ],
      "text/plain": [
       "   user_id        name  age            city subscription_type\n",
       "0        1        Кира   22          Тюмень             ultra\n",
       "1        2   Станислав   31            Омск             ultra\n",
       "2        3     Алексей   20          Москва             ultra\n",
       "3        4  Константин   26  Ростов-на-Дону             ultra\n",
       "4        5       Адель   28            Омск             ultra\n",
       "5        6      Регина   25       Краснодар             ultra\n",
       "6        7       Игорь   23            Омск             ultra\n",
       "7        8        Юрий   23       Краснодар             ultra\n",
       "8        9          Ян   21       Пятигорск             ultra\n",
       "9       10     Валерий   18    Екатеринбург             ultra"
      ]
     },
     "execution_count": 5,
     "metadata": {},
     "output_type": "execute_result"
    }
   ],
   "source": [
    "#выведем первые строки каждого набора данных для первоначальной оценки\n",
    "#датафрэйм с информацией о пользователях\n",
    "user.head(10)"
   ]
  },
  {
   "cell_type": "code",
   "execution_count": 6,
   "id": "5261e0ea",
   "metadata": {},
   "outputs": [
    {
     "name": "stdout",
     "output_type": "stream",
     "text": [
      "<class 'pandas.core.frame.DataFrame'>\n",
      "RangeIndex: 1565 entries, 0 to 1564\n",
      "Data columns (total 5 columns):\n",
      " #   Column             Non-Null Count  Dtype \n",
      "---  ------             --------------  ----- \n",
      " 0   user_id            1565 non-null   int64 \n",
      " 1   name               1565 non-null   object\n",
      " 2   age                1565 non-null   int64 \n",
      " 3   city               1565 non-null   object\n",
      " 4   subscription_type  1565 non-null   object\n",
      "dtypes: int64(2), object(3)\n",
      "memory usage: 61.3+ KB\n",
      "Исходное состояние DataFrame (1565, 5)\n"
     ]
    }
   ],
   "source": [
    "#общие характеристики данных в user\n",
    "user.info()\n",
    "#первоначальные размерные характеристики user\n",
    "print('Исходное состояние DataFrame', user.shape)"
   ]
  },
  {
   "cell_type": "code",
   "execution_count": 7,
   "id": "45283065",
   "metadata": {},
   "outputs": [
    {
     "data": {
      "text/html": [
       "<div>\n",
       "<style scoped>\n",
       "    .dataframe tbody tr th:only-of-type {\n",
       "        vertical-align: middle;\n",
       "    }\n",
       "\n",
       "    .dataframe tbody tr th {\n",
       "        vertical-align: top;\n",
       "    }\n",
       "\n",
       "    .dataframe thead th {\n",
       "        text-align: right;\n",
       "    }\n",
       "</style>\n",
       "<table border=\"1\" class=\"dataframe\">\n",
       "  <thead>\n",
       "    <tr style=\"text-align: right;\">\n",
       "      <th></th>\n",
       "      <th>user_id</th>\n",
       "      <th>distance</th>\n",
       "      <th>duration</th>\n",
       "      <th>date</th>\n",
       "    </tr>\n",
       "  </thead>\n",
       "  <tbody>\n",
       "    <tr>\n",
       "      <th>0</th>\n",
       "      <td>1</td>\n",
       "      <td>4409.919140</td>\n",
       "      <td>25.599769</td>\n",
       "      <td>2021-01-01</td>\n",
       "    </tr>\n",
       "    <tr>\n",
       "      <th>1</th>\n",
       "      <td>1</td>\n",
       "      <td>2617.592153</td>\n",
       "      <td>15.816871</td>\n",
       "      <td>2021-01-18</td>\n",
       "    </tr>\n",
       "    <tr>\n",
       "      <th>2</th>\n",
       "      <td>1</td>\n",
       "      <td>754.159807</td>\n",
       "      <td>6.232113</td>\n",
       "      <td>2021-04-20</td>\n",
       "    </tr>\n",
       "    <tr>\n",
       "      <th>3</th>\n",
       "      <td>1</td>\n",
       "      <td>2694.783254</td>\n",
       "      <td>18.511000</td>\n",
       "      <td>2021-08-11</td>\n",
       "    </tr>\n",
       "    <tr>\n",
       "      <th>4</th>\n",
       "      <td>1</td>\n",
       "      <td>4028.687306</td>\n",
       "      <td>26.265803</td>\n",
       "      <td>2021-08-28</td>\n",
       "    </tr>\n",
       "    <tr>\n",
       "      <th>5</th>\n",
       "      <td>1</td>\n",
       "      <td>2770.890808</td>\n",
       "      <td>16.650138</td>\n",
       "      <td>2021-10-09</td>\n",
       "    </tr>\n",
       "    <tr>\n",
       "      <th>6</th>\n",
       "      <td>1</td>\n",
       "      <td>3039.020292</td>\n",
       "      <td>14.927879</td>\n",
       "      <td>2021-10-19</td>\n",
       "    </tr>\n",
       "    <tr>\n",
       "      <th>7</th>\n",
       "      <td>1</td>\n",
       "      <td>2842.118050</td>\n",
       "      <td>23.117468</td>\n",
       "      <td>2021-11-06</td>\n",
       "    </tr>\n",
       "    <tr>\n",
       "      <th>8</th>\n",
       "      <td>1</td>\n",
       "      <td>3412.690668</td>\n",
       "      <td>15.238072</td>\n",
       "      <td>2021-11-14</td>\n",
       "    </tr>\n",
       "    <tr>\n",
       "      <th>9</th>\n",
       "      <td>1</td>\n",
       "      <td>748.690645</td>\n",
       "      <td>15.041884</td>\n",
       "      <td>2021-11-22</td>\n",
       "    </tr>\n",
       "  </tbody>\n",
       "</table>\n",
       "</div>"
      ],
      "text/plain": [
       "   user_id     distance   duration        date\n",
       "0        1  4409.919140  25.599769  2021-01-01\n",
       "1        1  2617.592153  15.816871  2021-01-18\n",
       "2        1   754.159807   6.232113  2021-04-20\n",
       "3        1  2694.783254  18.511000  2021-08-11\n",
       "4        1  4028.687306  26.265803  2021-08-28\n",
       "5        1  2770.890808  16.650138  2021-10-09\n",
       "6        1  3039.020292  14.927879  2021-10-19\n",
       "7        1  2842.118050  23.117468  2021-11-06\n",
       "8        1  3412.690668  15.238072  2021-11-14\n",
       "9        1   748.690645  15.041884  2021-11-22"
      ]
     },
     "execution_count": 7,
     "metadata": {},
     "output_type": "execute_result"
    }
   ],
   "source": [
    "#датафрэйм с информацией о поездках пользователей\n",
    "ride.head(10)"
   ]
  },
  {
   "cell_type": "code",
   "execution_count": 8,
   "id": "ce6a7b5f",
   "metadata": {},
   "outputs": [
    {
     "name": "stdout",
     "output_type": "stream",
     "text": [
      "<class 'pandas.core.frame.DataFrame'>\n",
      "RangeIndex: 18068 entries, 0 to 18067\n",
      "Data columns (total 4 columns):\n",
      " #   Column    Non-Null Count  Dtype  \n",
      "---  ------    --------------  -----  \n",
      " 0   user_id   18068 non-null  int64  \n",
      " 1   distance  18068 non-null  float64\n",
      " 2   duration  18068 non-null  float64\n",
      " 3   date      18068 non-null  object \n",
      "dtypes: float64(2), int64(1), object(1)\n",
      "memory usage: 564.8+ KB\n",
      "Исходное состояние DataFrame (18068, 4)\n"
     ]
    }
   ],
   "source": [
    "#общие характеристики данных в ride\n",
    "ride.info()\n",
    "#первоначальные размерные характеристики ride\n",
    "print('Исходное состояние DataFrame', ride.shape)"
   ]
  },
  {
   "cell_type": "code",
   "execution_count": 9,
   "id": "f36ef125",
   "metadata": {},
   "outputs": [
    {
     "data": {
      "text/html": [
       "<div>\n",
       "<style scoped>\n",
       "    .dataframe tbody tr th:only-of-type {\n",
       "        vertical-align: middle;\n",
       "    }\n",
       "\n",
       "    .dataframe tbody tr th {\n",
       "        vertical-align: top;\n",
       "    }\n",
       "\n",
       "    .dataframe thead th {\n",
       "        text-align: right;\n",
       "    }\n",
       "</style>\n",
       "<table border=\"1\" class=\"dataframe\">\n",
       "  <thead>\n",
       "    <tr style=\"text-align: right;\">\n",
       "      <th></th>\n",
       "      <th>subscription_type</th>\n",
       "      <th>minute_price</th>\n",
       "      <th>start_ride_price</th>\n",
       "      <th>subscription_fee</th>\n",
       "    </tr>\n",
       "  </thead>\n",
       "  <tbody>\n",
       "    <tr>\n",
       "      <th>0</th>\n",
       "      <td>free</td>\n",
       "      <td>8</td>\n",
       "      <td>50</td>\n",
       "      <td>0</td>\n",
       "    </tr>\n",
       "    <tr>\n",
       "      <th>1</th>\n",
       "      <td>ultra</td>\n",
       "      <td>6</td>\n",
       "      <td>0</td>\n",
       "      <td>199</td>\n",
       "    </tr>\n",
       "  </tbody>\n",
       "</table>\n",
       "</div>"
      ],
      "text/plain": [
       "  subscription_type  minute_price  start_ride_price  subscription_fee\n",
       "0              free             8                50                 0\n",
       "1             ultra             6                 0               199"
      ]
     },
     "execution_count": 9,
     "metadata": {},
     "output_type": "execute_result"
    }
   ],
   "source": [
    "#датафрэйм с информацией о типе подписки \n",
    "subscribe"
   ]
  },
  {
   "cell_type": "code",
   "execution_count": 10,
   "id": "ba4fc057",
   "metadata": {},
   "outputs": [
    {
     "name": "stdout",
     "output_type": "stream",
     "text": [
      "<class 'pandas.core.frame.DataFrame'>\n",
      "RangeIndex: 2 entries, 0 to 1\n",
      "Data columns (total 4 columns):\n",
      " #   Column             Non-Null Count  Dtype \n",
      "---  ------             --------------  ----- \n",
      " 0   subscription_type  2 non-null      object\n",
      " 1   minute_price       2 non-null      int64 \n",
      " 2   start_ride_price   2 non-null      int64 \n",
      " 3   subscription_fee   2 non-null      int64 \n",
      "dtypes: int64(3), object(1)\n",
      "memory usage: 196.0+ bytes\n",
      "Исходное состояние DataFrame (2, 4)\n"
     ]
    }
   ],
   "source": [
    "#общие характеристики данных в subscribe\n",
    "subscribe.info()\n",
    "#первоначальные размерные характеристики subscribe\n",
    "print('Исходное состояние DataFrame', subscribe.shape)"
   ]
  },
  {
   "cell_type": "markdown",
   "id": "66fd2b6e",
   "metadata": {},
   "source": [
    "**Вывод:**\n",
    "* на первый взгляд данные вполне корректны\n",
    "* определенно стоит изменить тип данных в столбце 'date', датафрэйм ride"
   ]
  },
  {
   "cell_type": "markdown",
   "id": "e95ebca7",
   "metadata": {},
   "source": [
    "#### Шаг 2. Предобработка данных"
   ]
  },
  {
   "cell_type": "markdown",
   "id": "7d37c370",
   "metadata": {},
   "source": [
    "##### Замена типа данных"
   ]
  },
  {
   "cell_type": "code",
   "execution_count": 11,
   "id": "af6d202c",
   "metadata": {},
   "outputs": [
    {
     "name": "stdout",
     "output_type": "stream",
     "text": [
      "<class 'pandas.core.frame.DataFrame'>\n",
      "RangeIndex: 18068 entries, 0 to 18067\n",
      "Data columns (total 4 columns):\n",
      " #   Column    Non-Null Count  Dtype         \n",
      "---  ------    --------------  -----         \n",
      " 0   user_id   18068 non-null  int64         \n",
      " 1   distance  18068 non-null  float64       \n",
      " 2   duration  18068 non-null  float64       \n",
      " 3   date      18068 non-null  datetime64[ns]\n",
      "dtypes: datetime64[ns](1), float64(2), int64(1)\n",
      "memory usage: 564.8 KB\n"
     ]
    }
   ],
   "source": [
    "#по итогам этапа загрузки данных и поверхностной оценки их состояния\n",
    "#прибегнем к замене типа данных в столбце 'date' датафрэйма ride на более предпочтительный\n",
    "ride['date'] = pd.to_datetime(ride['date'], format='%Y.%m.%d')\n",
    "#проверим как сработал примененный метод\n",
    "ride.info()"
   ]
  },
  {
   "cell_type": "markdown",
   "id": "36a61a68",
   "metadata": {},
   "source": [
    "##### Создание нового столдца"
   ]
  },
  {
   "cell_type": "code",
   "execution_count": 12,
   "id": "6cacadfd",
   "metadata": {},
   "outputs": [
    {
     "name": "stdout",
     "output_type": "stream",
     "text": [
      "Дата начала исследуемого периода 2021-01-01 00:00:00\n",
      "Дата окончания исследуемого периода 2021-12-30 00:00:00\n"
     ]
    }
   ],
   "source": [
    "#предварительно, убедимся в том, что исследуемый временной отрезок\n",
    "#не превышает одного года, иначе данные по повторяющимся месяцам попадут в единый массив\n",
    "#дата начала периода\n",
    "print('Дата начала исследуемого периода', ride['date'].min())\n",
    "#дата окончания исследуемого периода\n",
    "print('Дата окончания исследуемого периода', ride['date'].max())"
   ]
  },
  {
   "cell_type": "code",
   "execution_count": 13,
   "id": "0c36b14d",
   "metadata": {},
   "outputs": [
    {
     "data": {
      "text/html": [
       "<div>\n",
       "<style scoped>\n",
       "    .dataframe tbody tr th:only-of-type {\n",
       "        vertical-align: middle;\n",
       "    }\n",
       "\n",
       "    .dataframe tbody tr th {\n",
       "        vertical-align: top;\n",
       "    }\n",
       "\n",
       "    .dataframe thead th {\n",
       "        text-align: right;\n",
       "    }\n",
       "</style>\n",
       "<table border=\"1\" class=\"dataframe\">\n",
       "  <thead>\n",
       "    <tr style=\"text-align: right;\">\n",
       "      <th></th>\n",
       "      <th>user_id</th>\n",
       "      <th>distance</th>\n",
       "      <th>duration</th>\n",
       "      <th>date</th>\n",
       "      <th>date_month</th>\n",
       "    </tr>\n",
       "  </thead>\n",
       "  <tbody>\n",
       "    <tr>\n",
       "      <th>0</th>\n",
       "      <td>1</td>\n",
       "      <td>4409.919140</td>\n",
       "      <td>25.599769</td>\n",
       "      <td>2021-01-01</td>\n",
       "      <td>1</td>\n",
       "    </tr>\n",
       "    <tr>\n",
       "      <th>1</th>\n",
       "      <td>1</td>\n",
       "      <td>2617.592153</td>\n",
       "      <td>15.816871</td>\n",
       "      <td>2021-01-18</td>\n",
       "      <td>1</td>\n",
       "    </tr>\n",
       "    <tr>\n",
       "      <th>2</th>\n",
       "      <td>1</td>\n",
       "      <td>754.159807</td>\n",
       "      <td>6.232113</td>\n",
       "      <td>2021-04-20</td>\n",
       "      <td>4</td>\n",
       "    </tr>\n",
       "    <tr>\n",
       "      <th>3</th>\n",
       "      <td>1</td>\n",
       "      <td>2694.783254</td>\n",
       "      <td>18.511000</td>\n",
       "      <td>2021-08-11</td>\n",
       "      <td>8</td>\n",
       "    </tr>\n",
       "    <tr>\n",
       "      <th>4</th>\n",
       "      <td>1</td>\n",
       "      <td>4028.687306</td>\n",
       "      <td>26.265803</td>\n",
       "      <td>2021-08-28</td>\n",
       "      <td>8</td>\n",
       "    </tr>\n",
       "  </tbody>\n",
       "</table>\n",
       "</div>"
      ],
      "text/plain": [
       "   user_id     distance   duration       date  date_month\n",
       "0        1  4409.919140  25.599769 2021-01-01           1\n",
       "1        1  2617.592153  15.816871 2021-01-18           1\n",
       "2        1   754.159807   6.232113 2021-04-20           4\n",
       "3        1  2694.783254  18.511000 2021-08-11           8\n",
       "4        1  4028.687306  26.265803 2021-08-28           8"
      ]
     },
     "execution_count": 13,
     "metadata": {},
     "output_type": "execute_result"
    }
   ],
   "source": [
    "#создадим отдельный столбец 'date_month', отражающий месяц, в датафрэйме ride\n",
    "ride['date_month'] = pd.DatetimeIndex(ride['date']).month\n",
    "#далее выведем первые строки \n",
    "ride.head()"
   ]
  },
  {
   "cell_type": "markdown",
   "id": "745f6815",
   "metadata": {},
   "source": [
    "##### Проверка на наличие пропущенных значений и дубликатов"
   ]
  },
  {
   "cell_type": "code",
   "execution_count": 14,
   "id": "60059fcd",
   "metadata": {},
   "outputs": [
    {
     "data": {
      "text/plain": [
       "user_id              0\n",
       "name                 0\n",
       "age                  0\n",
       "city                 0\n",
       "subscription_type    0\n",
       "dtype: int64"
      ]
     },
     "execution_count": 14,
     "metadata": {},
     "output_type": "execute_result"
    }
   ],
   "source": [
    "#на данным этапе работы актуальным будет проверить наши наборы данных\n",
    "#на наличие пропущеных значений, начнем с user\n",
    "user.isna().sum()"
   ]
  },
  {
   "cell_type": "code",
   "execution_count": 15,
   "id": "7e9834c6",
   "metadata": {},
   "outputs": [
    {
     "data": {
      "text/plain": [
       "user_id       0\n",
       "distance      0\n",
       "duration      0\n",
       "date          0\n",
       "date_month    0\n",
       "dtype: int64"
      ]
     },
     "execution_count": 15,
     "metadata": {},
     "output_type": "execute_result"
    }
   ],
   "source": [
    "#проверка ride на наличие пропусков\n",
    "ride.isna().sum()"
   ]
  },
  {
   "cell_type": "code",
   "execution_count": 16,
   "id": "9342cd54",
   "metadata": {},
   "outputs": [
    {
     "data": {
      "text/plain": [
       "31"
      ]
     },
     "execution_count": 16,
     "metadata": {},
     "output_type": "execute_result"
    }
   ],
   "source": [
    "#с пропусками все хорошо, а вот как обстоит ситуация с дубликатами\n",
    "#на этот факт будет кстати проверить в датафрэйм user методом duplicated()\n",
    "user.duplicated().sum()"
   ]
  },
  {
   "cell_type": "code",
   "execution_count": 17,
   "id": "4a582551",
   "metadata": {},
   "outputs": [],
   "source": [
    "#удалим выявленные дубликаты методом drop_duplicates()\n",
    "user.drop_duplicates(inplace=True)"
   ]
  },
  {
   "cell_type": "code",
   "execution_count": 18,
   "id": "a9a06f62",
   "metadata": {},
   "outputs": [
    {
     "data": {
      "text/plain": [
       "0"
      ]
     },
     "execution_count": 18,
     "metadata": {},
     "output_type": "execute_result"
    }
   ],
   "source": [
    "#оценим результат\n",
    "user.duplicated().sum()"
   ]
  },
  {
   "cell_type": "code",
   "execution_count": 19,
   "id": "8051b4fc",
   "metadata": {},
   "outputs": [
    {
     "data": {
      "text/plain": [
       "0"
      ]
     },
     "execution_count": 19,
     "metadata": {},
     "output_type": "execute_result"
    }
   ],
   "source": [
    "#проверим датафрэйм ride на дубликаты\n",
    "ride.duplicated().sum()"
   ]
  },
  {
   "cell_type": "code",
   "execution_count": 20,
   "id": "5ae142a0",
   "metadata": {},
   "outputs": [
    {
     "data": {
      "text/plain": [
       "0"
      ]
     },
     "execution_count": 20,
     "metadata": {},
     "output_type": "execute_result"
    }
   ],
   "source": [
    "#и датафрэйм subscribe\n",
    "subscribe.duplicated().sum()"
   ]
  },
  {
   "cell_type": "markdown",
   "id": "fdef354b",
   "metadata": {},
   "source": [
    "**Вывод**\n",
    "* во всех трех наборах данных пропуски отсутствуют, что не может не радовать\n",
    "* проверка на дубликаты выявила их наличие в датафрэйме user, после чего мы от них избавились"
   ]
  },
  {
   "cell_type": "markdown",
   "id": "212593c7",
   "metadata": {},
   "source": [
    "#### Шаг 3. Исследовательский анализ данных"
   ]
  },
  {
   "cell_type": "code",
   "execution_count": 21,
   "id": "4195f9f2",
   "metadata": {},
   "outputs": [
    {
     "data": {
      "text/plain": [
       "Пятигорск         219\n",
       "Екатеринбург      204\n",
       "Ростов-на-Дону    198\n",
       "Краснодар         193\n",
       "Сочи              189\n",
       "Омск              183\n",
       "Тюмень            180\n",
       "Москва            168\n",
       "Name: city, dtype: int64"
      ]
     },
     "execution_count": 21,
     "metadata": {},
     "output_type": "execute_result"
    }
   ],
   "source": [
    "#приступаем к описанию и визуализации интересующих нас данных\n",
    "#первоначально сформируем понимание распределения пользователей по городам\n",
    "city_count = user['city'].value_counts()\n",
    "city_count"
   ]
  },
  {
   "cell_type": "code",
   "execution_count": 22,
   "id": "e3a4274c",
   "metadata": {},
   "outputs": [
    {
     "data": {
      "image/png": "[encoded data removed]",
      "text/plain": [
       "<Figure size 1000x400 with 1 Axes>"
      ]
     },
     "metadata": {},
     "output_type": "display_data"
    }
   ],
   "source": [
    "#начнем с частоты встречаемости городов, построим для этого столбца диаграмму\n",
    "user['city'].value_counts().plot(kind='barh', y=city_count, figsize=(10, 4), title='Частота встречаемости городов')\n",
    "plt.xlabel('Количество')\n",
    "plt.ylabel('Город')\n",
    "plt.text(221, 0, '219')\n",
    "plt.text(206, 1, '204')\n",
    "plt.text(200, 2, '198')\n",
    "plt.text(195, 3, '193')\n",
    "plt.text(191, 4, '189')\n",
    "plt.text(185, 5, '183')\n",
    "plt.text(182, 6, '180')\n",
    "plt.text(170, 7, '168')\n",
    "plt.show()"
   ]
  },
  {
   "cell_type": "markdown",
   "id": "507eac97",
   "metadata": {},
   "source": [
    "По полученной диаграмме можно сделать вывод, что наименьшее количество пользователей в исследуемом датафрэйме проживает в Москве (168). А в свою очередь наибольшее количество в Пятигорске (219)."
   ]
  },
  {
   "cell_type": "code",
   "execution_count": 23,
   "id": "01a3f094",
   "metadata": {},
   "outputs": [
    {
     "data": {
      "text/plain": [
       "free     835\n",
       "ultra    699\n",
       "Name: subscription_type, dtype: int64"
      ]
     },
     "execution_count": 23,
     "metadata": {},
     "output_type": "execute_result"
    }
   ],
   "source": [
    "#перед визуализацией распределения пользователей по признаку подписки\n",
    "#выведем их численно\n",
    "sub_type = user['subscription_type'].value_counts()\n",
    "sub_type"
   ]
  },
  {
   "cell_type": "code",
   "execution_count": 24,
   "id": "6ff4e270",
   "metadata": {},
   "outputs": [
    {
     "data": {
      "image/png": "[encoded data removed]",
      "text/plain": [
       "<Figure size 500x500 with 1 Axes>"
      ]
     },
     "metadata": {},
     "output_type": "display_data"
    }
   ],
   "source": [
    "#посредством круговой диаграммы определим соотношение пользователей с подпиской и без\n",
    "user['subscription_type'].value_counts().plot(\n",
    "    kind='pie', y=sub_type, autopct = '%1.0f%%', \n",
    "    figsize=(5, 5), title='Соотношение пользователей в зависимости от тарифа')\n",
    "plt.text(0.25, -0.67, '(699)')\n",
    "plt.text(0.1, 0.55, '(835)')\n",
    "plt.show()"
   ]
  },
  {
   "cell_type": "markdown",
   "id": "83f3873e",
   "metadata": {},
   "source": [
    "Пользователи, не имеющие регулярную подписку преобладают, но разница не так велика, их 54% (835) от общего количества пользователей. Пользователи обладающие подпиской представлены в объеме 46% (699)."
   ]
  },
  {
   "cell_type": "code",
   "execution_count": 25,
   "id": "de569768",
   "metadata": {},
   "outputs": [
    {
     "data": {
      "image/png": "[encoded data removed]",
      "text/plain": [
       "<Figure size 1000x400 with 1 Axes>"
      ]
     },
     "metadata": {},
     "output_type": "display_data"
    }
   ],
   "source": [
    "#перейдем к оценке распределения возраста пользователей через гистограмму\n",
    "user['age'].hist(bins=30, grid=True, figsize=(10, 4))\n",
    "plt.title('Возраст пользователей')\n",
    "plt.xlabel('Возраст')\n",
    "plt.ylabel('Количество')\n",
    "plt.show()"
   ]
  },
  {
   "cell_type": "code",
   "execution_count": 26,
   "id": "3a9cbd52",
   "metadata": {},
   "outputs": [
    {
     "data": {
      "text/plain": [
       "count    1534.000000\n",
       "mean       24.903520\n",
       "std         4.572367\n",
       "min        12.000000\n",
       "25%        22.000000\n",
       "50%        25.000000\n",
       "75%        28.000000\n",
       "max        43.000000\n",
       "Name: age, dtype: float64"
      ]
     },
     "execution_count": 26,
     "metadata": {},
     "output_type": "execute_result"
    }
   ],
   "source": [
    "#применив метод describe() можно понять\n",
    "#в каком возрастном диапазоне находится основная часть пользователей\n",
    "user['age'].describe()"
   ]
  },
  {
   "cell_type": "markdown",
   "id": "3aef6e52",
   "metadata": {},
   "source": [
    "В результате на гистаграмме мы наблюдаем классическое нормальное распределение, со средним значением равным 25. Условно, глядя на персентили 25 и 75, можно выделить возраст основной части пользователей и это 22 - 28 лет."
   ]
  },
  {
   "cell_type": "code",
   "execution_count": 27,
   "id": "f97fb0d6",
   "metadata": {},
   "outputs": [
    {
     "data": {
      "image/png": "[encoded data removed]",
      "text/plain": [
       "<Figure size 1000x400 with 1 Axes>"
      ]
     },
     "metadata": {},
     "output_type": "display_data"
    }
   ],
   "source": [
    "#гистагромма, отображающая распределение данных в столбце 'distance', датафрэйм ride \n",
    "ride['distance'].hist(bins=30, grid=True, figsize=(10,4))\n",
    "plt.title('Протяженность поездок')\n",
    "plt.xlabel('Расстрояние')\n",
    "plt.ylabel('Количество')\n",
    "plt.show()"
   ]
  },
  {
   "cell_type": "code",
   "execution_count": 28,
   "id": "757b5395",
   "metadata": {},
   "outputs": [
    {
     "data": {
      "text/plain": [
       "count    18068.000000\n",
       "mean      3070.659976\n",
       "std       1116.831209\n",
       "min          0.855683\n",
       "25%       2543.226360\n",
       "50%       3133.609994\n",
       "75%       3776.222735\n",
       "max       7211.007745\n",
       "Name: distance, dtype: float64"
      ]
     },
     "execution_count": 28,
     "metadata": {},
     "output_type": "execute_result"
    }
   ],
   "source": [
    "#применив метод describe() можно понять\n",
    "#в каком диапазоне находится наиболее частая протяженность поездок\n",
    "ride['distance'].describe()"
   ]
  },
  {
   "cell_type": "markdown",
   "id": "b537f4f6",
   "metadata": {},
   "source": [
    "Данные по расстоянию за одну поездку скорее напоминают нормальное распределение со средним значением - 3000 метров, что вполне правдоподобно. Единственное что может смущать, это участок от 0 до 1000 метров, где наблюдается рост, а затем снижение количества поездок в этом диапазоне. Дабы объяснить полученную особенность, можно предположить, что на это влияет цель поездки. Вероятно, поездки в 2000 метров и более имеют своей целью прогулку (в сквере, парке и т.д.). А в свою очередь короткие, до 1000 метров, могут быть в качестве транзитных, между двумя остановками общественного транспорта. По итогам метода describe() персентили 25 и 75 установили диапазон наиболее популярных дистанций поездок - от 2543 до 3776 метров, со среднем значением 3133 метров. "
   ]
  },
  {
   "cell_type": "code",
   "execution_count": 29,
   "id": "a4fbdcfb",
   "metadata": {},
   "outputs": [
    {
     "data": {
      "image/png": "[encoded data removed]",
      "text/plain": [
       "<Figure size 1000x400 with 1 Axes>"
      ]
     },
     "metadata": {},
     "output_type": "display_data"
    }
   ],
   "source": [
    "#гистограмма, отображающая распределение данных в столбце 'duration', датафрэйм ride \n",
    "ride['duration'].hist(bins=30, grid=True, figsize=(10,4))\n",
    "plt.title('Длительность поездок')\n",
    "plt.xlabel('Длительность')\n",
    "plt.ylabel('Количество')\n",
    "plt.show()"
   ]
  },
  {
   "cell_type": "code",
   "execution_count": 30,
   "id": "ae424a8d",
   "metadata": {},
   "outputs": [
    {
     "data": {
      "text/plain": [
       "count    18068.000000\n",
       "mean        17.805011\n",
       "std          6.091051\n",
       "min          0.500000\n",
       "25%         13.597563\n",
       "50%         17.678395\n",
       "75%         21.724800\n",
       "max         40.823963\n",
       "Name: duration, dtype: float64"
      ]
     },
     "execution_count": 30,
     "metadata": {},
     "output_type": "execute_result"
    }
   ],
   "source": [
    "#метод describe, для понимания наиболее актуальной продолжительности поездки\n",
    "ride['duration'].describe()"
   ]
  },
  {
   "cell_type": "markdown",
   "id": "b4c07aa2",
   "metadata": {},
   "source": [
    "Данные по продолжительности поездок распределены нормально. Основная масса поездок сконцентрированна в диапазоне от 14 до 22 минут, а среднее значение находится на уровне 18 минут."
   ]
  },
  {
   "cell_type": "markdown",
   "id": "7939ae1d",
   "metadata": {},
   "source": [
    "**Вывод**\n",
    "* визуализировали интересующие нас данные, для оценки их распределения\n",
    "* распределение пользователей имеет свой минимум в городе Москва (вероятно по причине большей конкуренции среди подобных сервисов), а максимум в городе Пятигорск\n",
    "* пользователи без подписки занимают долю в 54%, соответственно с подпиской - 46%\n",
    "* основной возраст среднего пользователя равен диапазону от 22 до 28 лет (со средним значением 25 лет)\n",
    "* протяженность основной массы поездок сконцентрировалась в диапазоне 2.5 - 3.7 км (со средним значением в районе 3.1 км) и небольшим пиком в районе 1 км, что можно объяснить логистической целью\n",
    "* длительность поездок наиболее часто принимает значения из диапазона 14 - 22 минут (со средним в районе 18)\n",
    "* полученные распределения выглядят корректно, при имеющихся условиях"
   ]
  },
  {
   "cell_type": "markdown",
   "id": "4ef51331",
   "metadata": {},
   "source": [
    "#### Шаг 4. Объединение данных"
   ]
  },
  {
   "cell_type": "markdown",
   "id": "ea64f561",
   "metadata": {},
   "source": [
    "##### Объединение данных о пользователях, их поездках и подписках в один датафрэйм"
   ]
  },
  {
   "cell_type": "code",
   "execution_count": 31,
   "id": "6bf288b5",
   "metadata": {},
   "outputs": [
    {
     "data": {
      "text/html": [
       "<div>\n",
       "<style scoped>\n",
       "    .dataframe tbody tr th:only-of-type {\n",
       "        vertical-align: middle;\n",
       "    }\n",
       "\n",
       "    .dataframe tbody tr th {\n",
       "        vertical-align: top;\n",
       "    }\n",
       "\n",
       "    .dataframe thead th {\n",
       "        text-align: right;\n",
       "    }\n",
       "</style>\n",
       "<table border=\"1\" class=\"dataframe\">\n",
       "  <thead>\n",
       "    <tr style=\"text-align: right;\">\n",
       "      <th></th>\n",
       "      <th>user_id</th>\n",
       "      <th>name</th>\n",
       "      <th>age</th>\n",
       "      <th>city</th>\n",
       "      <th>subscription_type</th>\n",
       "      <th>distance</th>\n",
       "      <th>duration</th>\n",
       "      <th>date</th>\n",
       "      <th>date_month</th>\n",
       "      <th>minute_price</th>\n",
       "      <th>start_ride_price</th>\n",
       "      <th>subscription_fee</th>\n",
       "    </tr>\n",
       "  </thead>\n",
       "  <tbody>\n",
       "    <tr>\n",
       "      <th>0</th>\n",
       "      <td>1</td>\n",
       "      <td>Кира</td>\n",
       "      <td>22</td>\n",
       "      <td>Тюмень</td>\n",
       "      <td>ultra</td>\n",
       "      <td>4409.919140</td>\n",
       "      <td>25.599769</td>\n",
       "      <td>2021-01-01</td>\n",
       "      <td>1</td>\n",
       "      <td>6</td>\n",
       "      <td>0</td>\n",
       "      <td>199</td>\n",
       "    </tr>\n",
       "    <tr>\n",
       "      <th>1</th>\n",
       "      <td>1</td>\n",
       "      <td>Кира</td>\n",
       "      <td>22</td>\n",
       "      <td>Тюмень</td>\n",
       "      <td>ultra</td>\n",
       "      <td>2617.592153</td>\n",
       "      <td>15.816871</td>\n",
       "      <td>2021-01-18</td>\n",
       "      <td>1</td>\n",
       "      <td>6</td>\n",
       "      <td>0</td>\n",
       "      <td>199</td>\n",
       "    </tr>\n",
       "    <tr>\n",
       "      <th>2</th>\n",
       "      <td>1</td>\n",
       "      <td>Кира</td>\n",
       "      <td>22</td>\n",
       "      <td>Тюмень</td>\n",
       "      <td>ultra</td>\n",
       "      <td>754.159807</td>\n",
       "      <td>6.232113</td>\n",
       "      <td>2021-04-20</td>\n",
       "      <td>4</td>\n",
       "      <td>6</td>\n",
       "      <td>0</td>\n",
       "      <td>199</td>\n",
       "    </tr>\n",
       "    <tr>\n",
       "      <th>3</th>\n",
       "      <td>1</td>\n",
       "      <td>Кира</td>\n",
       "      <td>22</td>\n",
       "      <td>Тюмень</td>\n",
       "      <td>ultra</td>\n",
       "      <td>2694.783254</td>\n",
       "      <td>18.511000</td>\n",
       "      <td>2021-08-11</td>\n",
       "      <td>8</td>\n",
       "      <td>6</td>\n",
       "      <td>0</td>\n",
       "      <td>199</td>\n",
       "    </tr>\n",
       "    <tr>\n",
       "      <th>4</th>\n",
       "      <td>1</td>\n",
       "      <td>Кира</td>\n",
       "      <td>22</td>\n",
       "      <td>Тюмень</td>\n",
       "      <td>ultra</td>\n",
       "      <td>4028.687306</td>\n",
       "      <td>26.265803</td>\n",
       "      <td>2021-08-28</td>\n",
       "      <td>8</td>\n",
       "      <td>6</td>\n",
       "      <td>0</td>\n",
       "      <td>199</td>\n",
       "    </tr>\n",
       "    <tr>\n",
       "      <th>5</th>\n",
       "      <td>1</td>\n",
       "      <td>Кира</td>\n",
       "      <td>22</td>\n",
       "      <td>Тюмень</td>\n",
       "      <td>ultra</td>\n",
       "      <td>2770.890808</td>\n",
       "      <td>16.650138</td>\n",
       "      <td>2021-10-09</td>\n",
       "      <td>10</td>\n",
       "      <td>6</td>\n",
       "      <td>0</td>\n",
       "      <td>199</td>\n",
       "    </tr>\n",
       "    <tr>\n",
       "      <th>6</th>\n",
       "      <td>1</td>\n",
       "      <td>Кира</td>\n",
       "      <td>22</td>\n",
       "      <td>Тюмень</td>\n",
       "      <td>ultra</td>\n",
       "      <td>3039.020292</td>\n",
       "      <td>14.927879</td>\n",
       "      <td>2021-10-19</td>\n",
       "      <td>10</td>\n",
       "      <td>6</td>\n",
       "      <td>0</td>\n",
       "      <td>199</td>\n",
       "    </tr>\n",
       "    <tr>\n",
       "      <th>7</th>\n",
       "      <td>1</td>\n",
       "      <td>Кира</td>\n",
       "      <td>22</td>\n",
       "      <td>Тюмень</td>\n",
       "      <td>ultra</td>\n",
       "      <td>2842.118050</td>\n",
       "      <td>23.117468</td>\n",
       "      <td>2021-11-06</td>\n",
       "      <td>11</td>\n",
       "      <td>6</td>\n",
       "      <td>0</td>\n",
       "      <td>199</td>\n",
       "    </tr>\n",
       "    <tr>\n",
       "      <th>8</th>\n",
       "      <td>1</td>\n",
       "      <td>Кира</td>\n",
       "      <td>22</td>\n",
       "      <td>Тюмень</td>\n",
       "      <td>ultra</td>\n",
       "      <td>3412.690668</td>\n",
       "      <td>15.238072</td>\n",
       "      <td>2021-11-14</td>\n",
       "      <td>11</td>\n",
       "      <td>6</td>\n",
       "      <td>0</td>\n",
       "      <td>199</td>\n",
       "    </tr>\n",
       "    <tr>\n",
       "      <th>9</th>\n",
       "      <td>1</td>\n",
       "      <td>Кира</td>\n",
       "      <td>22</td>\n",
       "      <td>Тюмень</td>\n",
       "      <td>ultra</td>\n",
       "      <td>748.690645</td>\n",
       "      <td>15.041884</td>\n",
       "      <td>2021-11-22</td>\n",
       "      <td>11</td>\n",
       "      <td>6</td>\n",
       "      <td>0</td>\n",
       "      <td>199</td>\n",
       "    </tr>\n",
       "  </tbody>\n",
       "</table>\n",
       "</div>"
      ],
      "text/plain": [
       "   user_id  name  age    city subscription_type     distance   duration  \\\n",
       "0        1  Кира   22  Тюмень             ultra  4409.919140  25.599769   \n",
       "1        1  Кира   22  Тюмень             ultra  2617.592153  15.816871   \n",
       "2        1  Кира   22  Тюмень             ultra   754.159807   6.232113   \n",
       "3        1  Кира   22  Тюмень             ultra  2694.783254  18.511000   \n",
       "4        1  Кира   22  Тюмень             ultra  4028.687306  26.265803   \n",
       "5        1  Кира   22  Тюмень             ultra  2770.890808  16.650138   \n",
       "6        1  Кира   22  Тюмень             ultra  3039.020292  14.927879   \n",
       "7        1  Кира   22  Тюмень             ultra  2842.118050  23.117468   \n",
       "8        1  Кира   22  Тюмень             ultra  3412.690668  15.238072   \n",
       "9        1  Кира   22  Тюмень             ultra   748.690645  15.041884   \n",
       "\n",
       "        date  date_month  minute_price  start_ride_price  subscription_fee  \n",
       "0 2021-01-01           1             6                 0               199  \n",
       "1 2021-01-18           1             6                 0               199  \n",
       "2 2021-04-20           4             6                 0               199  \n",
       "3 2021-08-11           8             6                 0               199  \n",
       "4 2021-08-28           8             6                 0               199  \n",
       "5 2021-10-09          10             6                 0               199  \n",
       "6 2021-10-19          10             6                 0               199  \n",
       "7 2021-11-06          11             6                 0               199  \n",
       "8 2021-11-14          11             6                 0               199  \n",
       "9 2021-11-22          11             6                 0               199  "
      ]
     },
     "execution_count": 31,
     "metadata": {},
     "output_type": "execute_result"
    }
   ],
   "source": [
    "#применим для этого метод merge() чтобы объеденить user и ride\n",
    "user_ride1 = user.merge(ride, on='user_id', how='inner')\n",
    "#а затем добавим subscribe\n",
    "user_ride = user_ride1.merge(subscribe, on='subscription_type', how='inner')\n",
    "#выведем несколько первых строк\n",
    "user_ride.head(10)"
   ]
  },
  {
   "cell_type": "code",
   "execution_count": 32,
   "id": "871e5894",
   "metadata": {},
   "outputs": [
    {
     "data": {
      "text/plain": [
       "(18068, 12)"
      ]
     },
     "execution_count": 32,
     "metadata": {},
     "output_type": "execute_result"
    }
   ],
   "source": [
    "#оценим размерные характеристики только что полученного датафрэйма\n",
    "user_ride.shape"
   ]
  },
  {
   "cell_type": "code",
   "execution_count": 33,
   "id": "32f35fc0",
   "metadata": {},
   "outputs": [
    {
     "data": {
      "text/plain": [
       "user_id              0\n",
       "name                 0\n",
       "age                  0\n",
       "city                 0\n",
       "subscription_type    0\n",
       "distance             0\n",
       "duration             0\n",
       "date                 0\n",
       "date_month           0\n",
       "minute_price         0\n",
       "start_ride_price     0\n",
       "subscription_fee     0\n",
       "dtype: int64"
      ]
     },
     "execution_count": 33,
     "metadata": {},
     "output_type": "execute_result"
    }
   ],
   "source": [
    "#произведем проверку на пропуски\n",
    "user_ride.isna().sum()"
   ]
  },
  {
   "cell_type": "markdown",
   "id": "8e9d66cd",
   "metadata": {},
   "source": [
    "##### Создание дополнительных датафрэймов"
   ]
  },
  {
   "cell_type": "code",
   "execution_count": 34,
   "id": "1a24dd96",
   "metadata": {},
   "outputs": [
    {
     "data": {
      "text/html": [
       "<div>\n",
       "<style scoped>\n",
       "    .dataframe tbody tr th:only-of-type {\n",
       "        vertical-align: middle;\n",
       "    }\n",
       "\n",
       "    .dataframe tbody tr th {\n",
       "        vertical-align: top;\n",
       "    }\n",
       "\n",
       "    .dataframe thead th {\n",
       "        text-align: right;\n",
       "    }\n",
       "</style>\n",
       "<table border=\"1\" class=\"dataframe\">\n",
       "  <thead>\n",
       "    <tr style=\"text-align: right;\">\n",
       "      <th></th>\n",
       "      <th>user_id</th>\n",
       "      <th>name</th>\n",
       "      <th>age</th>\n",
       "      <th>city</th>\n",
       "      <th>subscription_type</th>\n",
       "      <th>distance</th>\n",
       "      <th>duration</th>\n",
       "      <th>date</th>\n",
       "      <th>date_month</th>\n",
       "      <th>minute_price</th>\n",
       "      <th>start_ride_price</th>\n",
       "      <th>subscription_fee</th>\n",
       "    </tr>\n",
       "  </thead>\n",
       "  <tbody>\n",
       "    <tr>\n",
       "      <th>6500</th>\n",
       "      <td>700</td>\n",
       "      <td>Айдар</td>\n",
       "      <td>22</td>\n",
       "      <td>Омск</td>\n",
       "      <td>free</td>\n",
       "      <td>2515.690719</td>\n",
       "      <td>14.944286</td>\n",
       "      <td>2021-01-02</td>\n",
       "      <td>1</td>\n",
       "      <td>8</td>\n",
       "      <td>50</td>\n",
       "      <td>0</td>\n",
       "    </tr>\n",
       "    <tr>\n",
       "      <th>6501</th>\n",
       "      <td>700</td>\n",
       "      <td>Айдар</td>\n",
       "      <td>22</td>\n",
       "      <td>Омск</td>\n",
       "      <td>free</td>\n",
       "      <td>846.932642</td>\n",
       "      <td>16.234663</td>\n",
       "      <td>2021-02-01</td>\n",
       "      <td>2</td>\n",
       "      <td>8</td>\n",
       "      <td>50</td>\n",
       "      <td>0</td>\n",
       "    </tr>\n",
       "    <tr>\n",
       "      <th>6502</th>\n",
       "      <td>700</td>\n",
       "      <td>Айдар</td>\n",
       "      <td>22</td>\n",
       "      <td>Омск</td>\n",
       "      <td>free</td>\n",
       "      <td>4004.434142</td>\n",
       "      <td>20.016628</td>\n",
       "      <td>2021-02-04</td>\n",
       "      <td>2</td>\n",
       "      <td>8</td>\n",
       "      <td>50</td>\n",
       "      <td>0</td>\n",
       "    </tr>\n",
       "    <tr>\n",
       "      <th>6503</th>\n",
       "      <td>700</td>\n",
       "      <td>Айдар</td>\n",
       "      <td>22</td>\n",
       "      <td>Омск</td>\n",
       "      <td>free</td>\n",
       "      <td>1205.911290</td>\n",
       "      <td>9.782872</td>\n",
       "      <td>2021-02-10</td>\n",
       "      <td>2</td>\n",
       "      <td>8</td>\n",
       "      <td>50</td>\n",
       "      <td>0</td>\n",
       "    </tr>\n",
       "    <tr>\n",
       "      <th>6504</th>\n",
       "      <td>700</td>\n",
       "      <td>Айдар</td>\n",
       "      <td>22</td>\n",
       "      <td>Омск</td>\n",
       "      <td>free</td>\n",
       "      <td>3047.379435</td>\n",
       "      <td>17.427673</td>\n",
       "      <td>2021-02-14</td>\n",
       "      <td>2</td>\n",
       "      <td>8</td>\n",
       "      <td>50</td>\n",
       "      <td>0</td>\n",
       "    </tr>\n",
       "  </tbody>\n",
       "</table>\n",
       "</div>"
      ],
      "text/plain": [
       "      user_id   name  age  city subscription_type     distance   duration  \\\n",
       "6500      700  Айдар   22  Омск              free  2515.690719  14.944286   \n",
       "6501      700  Айдар   22  Омск              free   846.932642  16.234663   \n",
       "6502      700  Айдар   22  Омск              free  4004.434142  20.016628   \n",
       "6503      700  Айдар   22  Омск              free  1205.911290   9.782872   \n",
       "6504      700  Айдар   22  Омск              free  3047.379435  17.427673   \n",
       "\n",
       "           date  date_month  minute_price  start_ride_price  subscription_fee  \n",
       "6500 2021-01-02           1             8                50                 0  \n",
       "6501 2021-02-01           2             8                50                 0  \n",
       "6502 2021-02-04           2             8                50                 0  \n",
       "6503 2021-02-10           2             8                50                 0  \n",
       "6504 2021-02-14           2             8                50                 0  "
      ]
     },
     "execution_count": 34,
     "metadata": {},
     "output_type": "execute_result"
    }
   ],
   "source": [
    "#в первом датафрэйм мы соберем данные о пользователях без подписки\n",
    "#а во втором - с подпиской, используем для этой цели полученный выше датафрэйм\n",
    "#применив логическую индексацию отберем пользователей без подписки из датафрэйм user_ride\n",
    "sub_free = user_ride.loc[user_ride['subscription_type'] == 'free']\n",
    "#выведем первые несколько строк\n",
    "sub_free.head()"
   ]
  },
  {
   "cell_type": "code",
   "execution_count": 35,
   "id": "b1b837b7",
   "metadata": {},
   "outputs": [
    {
     "data": {
      "text/html": [
       "<div>\n",
       "<style scoped>\n",
       "    .dataframe tbody tr th:only-of-type {\n",
       "        vertical-align: middle;\n",
       "    }\n",
       "\n",
       "    .dataframe tbody tr th {\n",
       "        vertical-align: top;\n",
       "    }\n",
       "\n",
       "    .dataframe thead th {\n",
       "        text-align: right;\n",
       "    }\n",
       "</style>\n",
       "<table border=\"1\" class=\"dataframe\">\n",
       "  <thead>\n",
       "    <tr style=\"text-align: right;\">\n",
       "      <th></th>\n",
       "      <th>user_id</th>\n",
       "      <th>name</th>\n",
       "      <th>age</th>\n",
       "      <th>city</th>\n",
       "      <th>subscription_type</th>\n",
       "      <th>distance</th>\n",
       "      <th>duration</th>\n",
       "      <th>date</th>\n",
       "      <th>date_month</th>\n",
       "      <th>minute_price</th>\n",
       "      <th>start_ride_price</th>\n",
       "      <th>subscription_fee</th>\n",
       "    </tr>\n",
       "  </thead>\n",
       "  <tbody>\n",
       "    <tr>\n",
       "      <th>0</th>\n",
       "      <td>1</td>\n",
       "      <td>Кира</td>\n",
       "      <td>22</td>\n",
       "      <td>Тюмень</td>\n",
       "      <td>ultra</td>\n",
       "      <td>4409.919140</td>\n",
       "      <td>25.599769</td>\n",
       "      <td>2021-01-01</td>\n",
       "      <td>1</td>\n",
       "      <td>6</td>\n",
       "      <td>0</td>\n",
       "      <td>199</td>\n",
       "    </tr>\n",
       "    <tr>\n",
       "      <th>1</th>\n",
       "      <td>1</td>\n",
       "      <td>Кира</td>\n",
       "      <td>22</td>\n",
       "      <td>Тюмень</td>\n",
       "      <td>ultra</td>\n",
       "      <td>2617.592153</td>\n",
       "      <td>15.816871</td>\n",
       "      <td>2021-01-18</td>\n",
       "      <td>1</td>\n",
       "      <td>6</td>\n",
       "      <td>0</td>\n",
       "      <td>199</td>\n",
       "    </tr>\n",
       "    <tr>\n",
       "      <th>2</th>\n",
       "      <td>1</td>\n",
       "      <td>Кира</td>\n",
       "      <td>22</td>\n",
       "      <td>Тюмень</td>\n",
       "      <td>ultra</td>\n",
       "      <td>754.159807</td>\n",
       "      <td>6.232113</td>\n",
       "      <td>2021-04-20</td>\n",
       "      <td>4</td>\n",
       "      <td>6</td>\n",
       "      <td>0</td>\n",
       "      <td>199</td>\n",
       "    </tr>\n",
       "    <tr>\n",
       "      <th>3</th>\n",
       "      <td>1</td>\n",
       "      <td>Кира</td>\n",
       "      <td>22</td>\n",
       "      <td>Тюмень</td>\n",
       "      <td>ultra</td>\n",
       "      <td>2694.783254</td>\n",
       "      <td>18.511000</td>\n",
       "      <td>2021-08-11</td>\n",
       "      <td>8</td>\n",
       "      <td>6</td>\n",
       "      <td>0</td>\n",
       "      <td>199</td>\n",
       "    </tr>\n",
       "    <tr>\n",
       "      <th>4</th>\n",
       "      <td>1</td>\n",
       "      <td>Кира</td>\n",
       "      <td>22</td>\n",
       "      <td>Тюмень</td>\n",
       "      <td>ultra</td>\n",
       "      <td>4028.687306</td>\n",
       "      <td>26.265803</td>\n",
       "      <td>2021-08-28</td>\n",
       "      <td>8</td>\n",
       "      <td>6</td>\n",
       "      <td>0</td>\n",
       "      <td>199</td>\n",
       "    </tr>\n",
       "  </tbody>\n",
       "</table>\n",
       "</div>"
      ],
      "text/plain": [
       "   user_id  name  age    city subscription_type     distance   duration  \\\n",
       "0        1  Кира   22  Тюмень             ultra  4409.919140  25.599769   \n",
       "1        1  Кира   22  Тюмень             ultra  2617.592153  15.816871   \n",
       "2        1  Кира   22  Тюмень             ultra   754.159807   6.232113   \n",
       "3        1  Кира   22  Тюмень             ultra  2694.783254  18.511000   \n",
       "4        1  Кира   22  Тюмень             ultra  4028.687306  26.265803   \n",
       "\n",
       "        date  date_month  minute_price  start_ride_price  subscription_fee  \n",
       "0 2021-01-01           1             6                 0               199  \n",
       "1 2021-01-18           1             6                 0               199  \n",
       "2 2021-04-20           4             6                 0               199  \n",
       "3 2021-08-11           8             6                 0               199  \n",
       "4 2021-08-28           8             6                 0               199  "
      ]
     },
     "execution_count": 35,
     "metadata": {},
     "output_type": "execute_result"
    }
   ],
   "source": [
    "#тем же самым путем отберем пользователей с подпиской\n",
    "sub_ultra = user_ride.loc[user_ride['subscription_type'] == 'ultra']\n",
    "#выведем превые несколько строк\n",
    "sub_ultra.head()"
   ]
  },
  {
   "cell_type": "markdown",
   "id": "2e46ae61",
   "metadata": {},
   "source": [
    "##### Визуализация информации о расстоянии и времени поездок для пользователей категорий"
   ]
  },
  {
   "cell_type": "code",
   "execution_count": 36,
   "id": "d2fb321b",
   "metadata": {},
   "outputs": [
    {
     "data": {
      "image/png": "[encoded data removed]",
      "text/plain": [
       "<Figure size 640x480 with 1 Axes>"
      ]
     },
     "metadata": {},
     "output_type": "display_data"
    }
   ],
   "source": [
    "#гистограммы, отображающие сравнение распределений данных в столбце 'distance'\n",
    "#в зависимости есть подписка ли нет\n",
    "plt.hist(sub_free['distance'], label='без подписки', alpha=0.8, bins=30, edgecolor='yellow')\n",
    "plt.hist(sub_ultra['distance'], label='с подпиской', alpha=0.7, bins=30, edgecolor='brown')\n",
    "plt.title('Сравнение протяженности поездок пользователей без подписки/с подпиской')\n",
    "plt.xlabel('Расстояние')\n",
    "plt.ylabel('Количество')\n",
    "plt.legend()\n",
    "plt.show()"
   ]
  },
  {
   "cell_type": "code",
   "execution_count": 37,
   "id": "379ad090",
   "metadata": {},
   "outputs": [
    {
     "data": {
      "text/plain": [
       "count    6500.000000\n",
       "mean     3115.445388\n",
       "std       836.895330\n",
       "min       244.210438\n",
       "25%      2785.444017\n",
       "50%      3148.637229\n",
       "75%      3560.574425\n",
       "max      5699.769662\n",
       "Name: distance, dtype: float64"
      ]
     },
     "execution_count": 37,
     "metadata": {},
     "output_type": "execute_result"
    }
   ],
   "source": [
    "#размах значений расстояния по пользователям с подпиской\n",
    "sub_ultra['distance'].describe()"
   ]
  },
  {
   "cell_type": "code",
   "execution_count": 38,
   "id": "e0cbfa6a",
   "metadata": {},
   "outputs": [
    {
     "data": {
      "text/plain": [
       "count    11568.000000\n",
       "mean      3045.495282\n",
       "std       1246.173806\n",
       "min          0.855683\n",
       "25%       2366.562689\n",
       "50%       3114.648465\n",
       "75%       3905.697894\n",
       "max       7211.007745\n",
       "Name: distance, dtype: float64"
      ]
     },
     "execution_count": 38,
     "metadata": {},
     "output_type": "execute_result"
    }
   ],
   "source": [
    "#размах значений расстояния по пользователям без подписки\n",
    "sub_free['distance'].describe()"
   ]
  },
  {
   "cell_type": "markdown",
   "id": "2d62267c",
   "metadata": {},
   "source": [
    "Сравнивая две гистограммы можно выделить, что формы распределения практически идентичны. Нормальные распределения со средним значением в районе 3000 метров, снова наблюдаем малый пик в районе 1000 метров. Основное отличие в том, что у пользователей с подпиской основной массив поездок сконцентрирован ближе в среднему значения (меньший размах значений). С 2366 по 3905 у пользователей без подписки, со средним 3114 метров. Против 2785 по 3560, со средним 3148 метров у пользователей с ней. Что указывает на предпочтение пользователями с подпиской более протяженных поездок."
   ]
  },
  {
   "cell_type": "code",
   "execution_count": 39,
   "id": "7f8c432c",
   "metadata": {},
   "outputs": [
    {
     "data": {
      "image/png": "[encoded data removed]",
      "text/plain": [
       "<Figure size 640x480 with 1 Axes>"
      ]
     },
     "metadata": {},
     "output_type": "display_data"
    }
   ],
   "source": [
    "#гистаграммы, отображающие сравнение распределений данных в столбце 'duration'\n",
    "#в зависимости есть подписка ли нет\n",
    "plt.hist(sub_free['duration'], label='без подписки', alpha=0.8, bins=30, edgecolor='yellow')\n",
    "plt.hist(sub_ultra['duration'], label='с подпиской', alpha=0.7, bins=30, edgecolor='brown')\n",
    "plt.title('Сравнение продолжительности поездок пользователей без подписки/с подпиской')\n",
    "plt.xlabel('Продолжительность')\n",
    "plt.ylabel('Количество')\n",
    "plt.legend()\n",
    "plt.show()"
   ]
  },
  {
   "cell_type": "code",
   "execution_count": 40,
   "id": "fb4a0831",
   "metadata": {},
   "outputs": [
    {
     "data": {
      "text/plain": [
       "count    6500.000000\n",
       "mean       18.541985\n",
       "std         5.572048\n",
       "min         3.760353\n",
       "25%        14.524654\n",
       "50%        18.178153\n",
       "75%        21.884129\n",
       "max        40.823963\n",
       "Name: duration, dtype: float64"
      ]
     },
     "execution_count": 40,
     "metadata": {},
     "output_type": "execute_result"
    }
   ],
   "source": [
    "#размах значений расстояния по пользователям с подпиской\n",
    "sub_ultra['duration'].describe()"
   ]
  },
  {
   "cell_type": "code",
   "execution_count": 41,
   "id": "dd68d3df",
   "metadata": {},
   "outputs": [
    {
     "data": {
      "text/plain": [
       "count    11568.000000\n",
       "mean        17.390909\n",
       "std          6.326803\n",
       "min          0.500000\n",
       "25%         12.958437\n",
       "50%         17.326890\n",
       "75%         21.594071\n",
       "max         34.948498\n",
       "Name: duration, dtype: float64"
      ]
     },
     "execution_count": 41,
     "metadata": {},
     "output_type": "execute_result"
    }
   ],
   "source": [
    "#размах значений расстояния по пользователям без подписки\n",
    "sub_free['duration'].describe()"
   ]
  },
  {
   "cell_type": "markdown",
   "id": "fe7a5184",
   "metadata": {},
   "source": [
    "Распределение значений по продолжительности у двух категорий представлены нормальным, основное отличие в количестве поездок. Практически на любом уровне продолжительности поездки оно больше у пользователей без подписки (напомним, их 54% от общего количества пользователей). Например на уровне среднего значения (а оно практически совпадает у всех пользователей и условно равно 18 минутам), количество таких поездок у пользователей с подпиской равно 600, а без нее 800. Это лишь указывает на численное преобладание пользователей без подписки."
   ]
  },
  {
   "cell_type": "markdown",
   "id": "c77e387e",
   "metadata": {},
   "source": [
    "**Вывод**\n",
    "* после разделения пользователей на имеющих подписку и не имеющих, проведена ещё одна визуализация\n",
    "* глядя на объединенные гистограммы по протяженности поездок можно вывести, что оба распределения похожи по форме, распределение пользователей без подписки имеет больший размах, чем пользователей с ней. Можно сделать вывод, что пользователи с подпиской наиболее склонны к запланированным, протяженным поездкам\n",
    "* в случае с гистограммами продолжительности поездок мы так же видим схожесть по форме. Основное отличие в большем размахе данных по продолжительности и количеству поездок в сторону пользователей без подписки."
   ]
  },
  {
   "cell_type": "markdown",
   "id": "402d620f",
   "metadata": {},
   "source": [
    "#### Шаг 5. Подсчёт выручки"
   ]
  },
  {
   "cell_type": "markdown",
   "id": "91bcfb5a",
   "metadata": {},
   "source": [
    "##### Создание датафрэйма с агрегированными данными"
   ]
  },
  {
   "cell_type": "code",
   "execution_count": 42,
   "id": "81e20403",
   "metadata": {},
   "outputs": [
    {
     "data": {
      "text/plain": [
       "0    26.0\n",
       "1    16.0\n",
       "2     7.0\n",
       "3    19.0\n",
       "4    27.0\n",
       "Name: duration, dtype: float64"
      ]
     },
     "execution_count": 42,
     "metadata": {},
     "output_type": "execute_result"
    }
   ],
   "source": [
    "#предварительно округлим значения в столбце 'duration' датафрэйма user_ride\n",
    "user_ride['duration'] = np.ceil(user_ride['duration'])\n",
    "#проверим разельтат округления\n",
    "user_ride['duration'].head()"
   ]
  },
  {
   "cell_type": "code",
   "execution_count": 43,
   "id": "53049e0a",
   "metadata": {},
   "outputs": [
    {
     "data": {
      "text/html": [
       "<div>\n",
       "<style scoped>\n",
       "    .dataframe tbody tr th:only-of-type {\n",
       "        vertical-align: middle;\n",
       "    }\n",
       "\n",
       "    .dataframe tbody tr th {\n",
       "        vertical-align: top;\n",
       "    }\n",
       "\n",
       "    .dataframe thead th {\n",
       "        text-align: right;\n",
       "    }\n",
       "</style>\n",
       "<table border=\"1\" class=\"dataframe\">\n",
       "  <thead>\n",
       "    <tr style=\"text-align: right;\">\n",
       "      <th></th>\n",
       "      <th></th>\n",
       "      <th>sum_distance</th>\n",
       "      <th>count_ride</th>\n",
       "      <th>sum_duration</th>\n",
       "      <th>subscription_type</th>\n",
       "    </tr>\n",
       "    <tr>\n",
       "      <th>user_id</th>\n",
       "      <th>date_month</th>\n",
       "      <th></th>\n",
       "      <th></th>\n",
       "      <th></th>\n",
       "      <th></th>\n",
       "    </tr>\n",
       "  </thead>\n",
       "  <tbody>\n",
       "    <tr>\n",
       "      <th rowspan=\"6\" valign=\"top\">1</th>\n",
       "      <th>1</th>\n",
       "      <td>7027.511294</td>\n",
       "      <td>2</td>\n",
       "      <td>42.0</td>\n",
       "      <td>ultra</td>\n",
       "    </tr>\n",
       "    <tr>\n",
       "      <th>4</th>\n",
       "      <td>754.159807</td>\n",
       "      <td>1</td>\n",
       "      <td>7.0</td>\n",
       "      <td>ultra</td>\n",
       "    </tr>\n",
       "    <tr>\n",
       "      <th>8</th>\n",
       "      <td>6723.470560</td>\n",
       "      <td>2</td>\n",
       "      <td>46.0</td>\n",
       "      <td>ultra</td>\n",
       "    </tr>\n",
       "    <tr>\n",
       "      <th>10</th>\n",
       "      <td>5809.911100</td>\n",
       "      <td>2</td>\n",
       "      <td>32.0</td>\n",
       "      <td>ultra</td>\n",
       "    </tr>\n",
       "    <tr>\n",
       "      <th>11</th>\n",
       "      <td>7003.499363</td>\n",
       "      <td>3</td>\n",
       "      <td>56.0</td>\n",
       "      <td>ultra</td>\n",
       "    </tr>\n",
       "    <tr>\n",
       "      <th>12</th>\n",
       "      <td>6751.629942</td>\n",
       "      <td>2</td>\n",
       "      <td>28.0</td>\n",
       "      <td>ultra</td>\n",
       "    </tr>\n",
       "    <tr>\n",
       "      <th rowspan=\"4\" valign=\"top\">2</th>\n",
       "      <th>3</th>\n",
       "      <td>10187.723006</td>\n",
       "      <td>3</td>\n",
       "      <td>63.0</td>\n",
       "      <td>ultra</td>\n",
       "    </tr>\n",
       "    <tr>\n",
       "      <th>4</th>\n",
       "      <td>6164.381824</td>\n",
       "      <td>2</td>\n",
       "      <td>40.0</td>\n",
       "      <td>ultra</td>\n",
       "    </tr>\n",
       "    <tr>\n",
       "      <th>6</th>\n",
       "      <td>3255.338202</td>\n",
       "      <td>1</td>\n",
       "      <td>14.0</td>\n",
       "      <td>ultra</td>\n",
       "    </tr>\n",
       "    <tr>\n",
       "      <th>7</th>\n",
       "      <td>6780.722964</td>\n",
       "      <td>2</td>\n",
       "      <td>48.0</td>\n",
       "      <td>ultra</td>\n",
       "    </tr>\n",
       "  </tbody>\n",
       "</table>\n",
       "</div>"
      ],
      "text/plain": [
       "                    sum_distance  count_ride  sum_duration subscription_type\n",
       "user_id date_month                                                          \n",
       "1       1            7027.511294           2          42.0             ultra\n",
       "        4             754.159807           1           7.0             ultra\n",
       "        8            6723.470560           2          46.0             ultra\n",
       "        10           5809.911100           2          32.0             ultra\n",
       "        11           7003.499363           3          56.0             ultra\n",
       "        12           6751.629942           2          28.0             ultra\n",
       "2       3           10187.723006           3          63.0             ultra\n",
       "        4            6164.381824           2          40.0             ultra\n",
       "        6            3255.338202           1          14.0             ultra\n",
       "        7            6780.722964           2          48.0             ultra"
      ]
     },
     "execution_count": 43,
     "metadata": {},
     "output_type": "execute_result"
    }
   ],
   "source": [
    "#создадим датафрэйм с агрегированными данными о поездках каждого пользователя на основе user_ride\n",
    "data_ride = user_ride.groupby(['user_id', 'date_month']).\\\n",
    "agg({'distance': ['sum'], 'user_id': ['count'], 'duration': ['sum'], 'subscription_type': ['min']})\n",
    "#зададим более удобные названия столбцов\n",
    "data_ride.columns = ['sum_distance', 'count_ride', 'sum_duration', 'subscription_type']\n",
    "#выведем несколько первых строк нового датафрэйма\n",
    "data_ride.head(10)"
   ]
  },
  {
   "cell_type": "code",
   "execution_count": 44,
   "id": "b3a567b9",
   "metadata": {},
   "outputs": [
    {
     "data": {
      "text/plain": [
       "sum_distance         0\n",
       "count_ride           0\n",
       "sum_duration         0\n",
       "subscription_type    0\n",
       "dtype: int64"
      ]
     },
     "execution_count": 44,
     "metadata": {},
     "output_type": "execute_result"
    }
   ],
   "source": [
    "#проверим новый датафрэйм на пропуски\n",
    "data_ride.isna().sum()"
   ]
  },
  {
   "cell_type": "markdown",
   "id": "0eebed00",
   "metadata": {},
   "source": [
    "##### Добавление в новый датафрэйм столбца"
   ]
  },
  {
   "cell_type": "code",
   "execution_count": 45,
   "id": "de525c32",
   "metadata": {},
   "outputs": [],
   "source": [
    "#добавим в датафрэйм data_ride новый столбец с информацией о месячной выручке\n",
    "#по каждому пользователю\n",
    "#под данную цель создадим функцию\n",
    "def money(row):\n",
    "    if row['subscription_type'] == 'free':\n",
    "        return 8 * row['sum_duration'] + 50 * row['count_ride']\n",
    "    elif row['subscription_type'] == 'ultra':\n",
    "        return 6 * row['sum_duration'] + 199"
   ]
  },
  {
   "cell_type": "code",
   "execution_count": 46,
   "id": "3a35d262",
   "metadata": {},
   "outputs": [
    {
     "data": {
      "text/html": [
       "<div>\n",
       "<style scoped>\n",
       "    .dataframe tbody tr th:only-of-type {\n",
       "        vertical-align: middle;\n",
       "    }\n",
       "\n",
       "    .dataframe tbody tr th {\n",
       "        vertical-align: top;\n",
       "    }\n",
       "\n",
       "    .dataframe thead th {\n",
       "        text-align: right;\n",
       "    }\n",
       "</style>\n",
       "<table border=\"1\" class=\"dataframe\">\n",
       "  <thead>\n",
       "    <tr style=\"text-align: right;\">\n",
       "      <th></th>\n",
       "      <th></th>\n",
       "      <th>sum_distance</th>\n",
       "      <th>count_ride</th>\n",
       "      <th>sum_duration</th>\n",
       "      <th>subscription_type</th>\n",
       "      <th>month_bill</th>\n",
       "    </tr>\n",
       "    <tr>\n",
       "      <th>user_id</th>\n",
       "      <th>date_month</th>\n",
       "      <th></th>\n",
       "      <th></th>\n",
       "      <th></th>\n",
       "      <th></th>\n",
       "      <th></th>\n",
       "    </tr>\n",
       "  </thead>\n",
       "  <tbody>\n",
       "    <tr>\n",
       "      <th rowspan=\"6\" valign=\"top\">1</th>\n",
       "      <th>1</th>\n",
       "      <td>7027.511294</td>\n",
       "      <td>2</td>\n",
       "      <td>42.0</td>\n",
       "      <td>ultra</td>\n",
       "      <td>451.0</td>\n",
       "    </tr>\n",
       "    <tr>\n",
       "      <th>4</th>\n",
       "      <td>754.159807</td>\n",
       "      <td>1</td>\n",
       "      <td>7.0</td>\n",
       "      <td>ultra</td>\n",
       "      <td>241.0</td>\n",
       "    </tr>\n",
       "    <tr>\n",
       "      <th>8</th>\n",
       "      <td>6723.470560</td>\n",
       "      <td>2</td>\n",
       "      <td>46.0</td>\n",
       "      <td>ultra</td>\n",
       "      <td>475.0</td>\n",
       "    </tr>\n",
       "    <tr>\n",
       "      <th>10</th>\n",
       "      <td>5809.911100</td>\n",
       "      <td>2</td>\n",
       "      <td>32.0</td>\n",
       "      <td>ultra</td>\n",
       "      <td>391.0</td>\n",
       "    </tr>\n",
       "    <tr>\n",
       "      <th>11</th>\n",
       "      <td>7003.499363</td>\n",
       "      <td>3</td>\n",
       "      <td>56.0</td>\n",
       "      <td>ultra</td>\n",
       "      <td>535.0</td>\n",
       "    </tr>\n",
       "    <tr>\n",
       "      <th>12</th>\n",
       "      <td>6751.629942</td>\n",
       "      <td>2</td>\n",
       "      <td>28.0</td>\n",
       "      <td>ultra</td>\n",
       "      <td>367.0</td>\n",
       "    </tr>\n",
       "    <tr>\n",
       "      <th rowspan=\"4\" valign=\"top\">2</th>\n",
       "      <th>3</th>\n",
       "      <td>10187.723006</td>\n",
       "      <td>3</td>\n",
       "      <td>63.0</td>\n",
       "      <td>ultra</td>\n",
       "      <td>577.0</td>\n",
       "    </tr>\n",
       "    <tr>\n",
       "      <th>4</th>\n",
       "      <td>6164.381824</td>\n",
       "      <td>2</td>\n",
       "      <td>40.0</td>\n",
       "      <td>ultra</td>\n",
       "      <td>439.0</td>\n",
       "    </tr>\n",
       "    <tr>\n",
       "      <th>6</th>\n",
       "      <td>3255.338202</td>\n",
       "      <td>1</td>\n",
       "      <td>14.0</td>\n",
       "      <td>ultra</td>\n",
       "      <td>283.0</td>\n",
       "    </tr>\n",
       "    <tr>\n",
       "      <th>7</th>\n",
       "      <td>6780.722964</td>\n",
       "      <td>2</td>\n",
       "      <td>48.0</td>\n",
       "      <td>ultra</td>\n",
       "      <td>487.0</td>\n",
       "    </tr>\n",
       "  </tbody>\n",
       "</table>\n",
       "</div>"
      ],
      "text/plain": [
       "                    sum_distance  count_ride  sum_duration subscription_type  \\\n",
       "user_id date_month                                                             \n",
       "1       1            7027.511294           2          42.0             ultra   \n",
       "        4             754.159807           1           7.0             ultra   \n",
       "        8            6723.470560           2          46.0             ultra   \n",
       "        10           5809.911100           2          32.0             ultra   \n",
       "        11           7003.499363           3          56.0             ultra   \n",
       "        12           6751.629942           2          28.0             ultra   \n",
       "2       3           10187.723006           3          63.0             ultra   \n",
       "        4            6164.381824           2          40.0             ultra   \n",
       "        6            3255.338202           1          14.0             ultra   \n",
       "        7            6780.722964           2          48.0             ultra   \n",
       "\n",
       "                    month_bill  \n",
       "user_id date_month              \n",
       "1       1                451.0  \n",
       "        4                241.0  \n",
       "        8                475.0  \n",
       "        10               391.0  \n",
       "        11               535.0  \n",
       "        12               367.0  \n",
       "2       3                577.0  \n",
       "        4                439.0  \n",
       "        6                283.0  \n",
       "        7                487.0  "
      ]
     },
     "execution_count": 46,
     "metadata": {},
     "output_type": "execute_result"
    }
   ],
   "source": [
    "#применим функцию money к датафрэйму data_ride\n",
    "#и создадим тем самым новый столбец 'month_bill'\n",
    "data_ride['month_bill'] = data_ride.apply(money, axis=1)\n",
    "#выведем несколько первых строк\n",
    "data_ride.head(10)"
   ]
  },
  {
   "cell_type": "markdown",
   "id": "fa2e6699",
   "metadata": {},
   "source": [
    "**Вывод**\n",
    "* суммировали характеристики времени, расстояния, а также вывели количество поездок по каждому пользователю, агрегировав данные по датафрэйму user_ride, предварительно округлив значения в столбце с продолжительностью поездок. Все эти данные сохранили в датафрэйм data_ride\n",
    "* вывели месячный чек каждого пользователя, построив столбец 'month_bill' в новом датафрэйм"
   ]
  },
  {
   "cell_type": "markdown",
   "id": "41545ac0",
   "metadata": {},
   "source": [
    "#### Шаг 6. Проверка гипотез"
   ]
  },
  {
   "cell_type": "markdown",
   "id": "ee29b605",
   "metadata": {},
   "source": [
    "##### Гипотеза \"Тратят ли пользователи с подпиской больше времени на поездки, чем пользователи без нее\""
   ]
  },
  {
   "cell_type": "code",
   "execution_count": 47,
   "id": "23ea867b",
   "metadata": {},
   "outputs": [
    {
     "name": "stdout",
     "output_type": "stream",
     "text": [
      "p-значение: 1.2804098316645618e-34\n",
      "Отвергаем нулевую гипотезу\n"
     ]
    }
   ],
   "source": [
    "'''В качестве гипотезы H0 мы установим тот факт, что среднее время поездки пользователей с подпиской\n",
    "не отличается от времени поездки пользователей без. Тогда гипотезой H1 станет факт того, \n",
    "что пользователи с подпиской тратят времени на поездку больше. \n",
    "В данном случае мы имеем дело с односторонней, правой гипотезой'''\n",
    "\n",
    "#создадим переменную, содержащую series с информацией о времени поездок пользователей с подпиской\n",
    "ultra_duration = sub_ultra['duration']\n",
    "#и переменную, содержащую среднее по времени поездок пользователей без подписки\n",
    "free_duration = sub_free['duration']\n",
    "#уровень статистической значимости\n",
    "alpha = 0.05\n",
    "#применим метод st.ttest_ind\n",
    "results = st.ttest_ind(ultra_duration, free_duration, alternative='greater')\n",
    "\n",
    "print('p-значение:', results.pvalue)\n",
    "\n",
    "if results.pvalue < alpha:\n",
    "    print('Отвергаем нулевую гипотезу')\n",
    "else:\n",
    "    print('Не отвергаем нулевую гипотезу')"
   ]
  },
  {
   "cell_type": "markdown",
   "id": "84d69455",
   "metadata": {},
   "source": [
    "Отвергая гипотезу H0, мы тем самым можем сказать, что длительность поездок пользователей с подпиской в среднем более продолжительна. Из чего следует что подписку оформляют пользователи, заинтересованные в более продолжительных поездках."
   ]
  },
  {
   "cell_type": "markdown",
   "id": "f8bfbdda",
   "metadata": {},
   "source": [
    "##### Гипотеза \"Не превышает ли расстояние, которое преодолевают пользователи с подпиской за одну поездку 3130 метров\""
   ]
  },
  {
   "cell_type": "code",
   "execution_count": 48,
   "id": "c91227b7",
   "metadata": {},
   "outputs": [
    {
     "name": "stdout",
     "output_type": "stream",
     "text": [
      "p-значение: 0.9195368847849785\n",
      "Не отвергаем нулевую гипотезу\n"
     ]
    }
   ],
   "source": [
    "'''В качестве гипотезы H0 мы установим тот факт, \n",
    "что расстояние поездки пользователей с подпиской условно равно оптимальному в 3130 метров.\n",
    "Тогда гипотезой H1 станет факт того, \n",
    "что расстояние поездок пользователей с подпиской превышает 3130 метров. \n",
    "В данном случае мы имеем дело с односторонней правой, гипотезой'''\n",
    "\n",
    "#создадим переменную, содержащую series с информацией о протяженности поездок пользователей с подпиской\n",
    "ultra_distance = sub_ultra['distance']\n",
    "#и переменную, содержащую оптимальную протяженность поездки\n",
    "opt_distance = 3130\n",
    "#уровень статистической значимости\n",
    "alpha = 0.05\n",
    "#применим метод st.ttest_1samp\n",
    "results1 = st.ttest_1samp(ultra_distance, opt_distance, alternative='greater')\n",
    "\n",
    "print('p-значение:', results1.pvalue)\n",
    "\n",
    "if results1.pvalue < alpha:\n",
    "    print('Отвергаем нулевую гипотезу')\n",
    "else:\n",
    "    print('Не отвергаем нулевую гипотезу')"
   ]
  },
  {
   "cell_type": "markdown",
   "id": "9720b012",
   "metadata": {},
   "source": [
    "Исходя из полученных результатов мы не отвергаем гипотезу H0. А это означает, что средняя протяженность поездки пользователей с подпиской не превышает оптимальную в 3130 метров."
   ]
  },
  {
   "cell_type": "markdown",
   "id": "5415b7bc",
   "metadata": {},
   "source": [
    "##### Гипотеза \"Выше ли выручка, которую приносят пользователи с подпиской выручки от пользователей без нее\""
   ]
  },
  {
   "cell_type": "code",
   "execution_count": 49,
   "id": "57004dfe",
   "metadata": {},
   "outputs": [
    {
     "name": "stdout",
     "output_type": "stream",
     "text": [
      "p-значение: 1.8850394384715216e-31\n",
      "Отвергаем нулевую гипотезу\n"
     ]
    }
   ],
   "source": [
    "'''В качестве гипотезы H0 мы установим тот факт, \n",
    "что выручка от пользователей с подпиской условно равна выручке от пользователей без.\n",
    "А гипотезой H1 установим факт того, \n",
    "что выручка от пользователей с подпиской превышает выручку от пользователей без подписки. \n",
    "Давайте ответим на вопросы, поставленные односторонней, правой гипотезой'''\n",
    "\n",
    "#создадим переменную series, содержащую данные о выручке пользователей с подпиской\n",
    "ultra_bill = data_ride.loc[data_ride['subscription_type'] == 'ultra']['month_bill']\n",
    "#переменная, с данными о выручке пользователей без подписки\n",
    "free_bill = data_ride.loc[data_ride['subscription_type'] == 'free']['month_bill']\n",
    "#зададим уровень статистической значимости\n",
    "alpha = 0.05\n",
    "#используем метод st.ttest_ind\n",
    "results2 = st.ttest_ind(ultra_bill, free_bill, alternative='greater')\n",
    "\n",
    "print('p-значение:', results2.pvalue)\n",
    "\n",
    "if results2.pvalue < alpha:\n",
    "    print('Отвергаем нулевую гипотезу')\n",
    "else:\n",
    "    print('Не отвергаем нулевую гипотезу')"
   ]
  },
  {
   "cell_type": "markdown",
   "id": "0cbbf701",
   "metadata": {},
   "source": [
    "Вывод, который мы можем сделать исходя из расчетов гласит, что пользователи, имеющие подписку приносят выручку, превышающую по размерам выручку от пользователей без подписки, не смотря на преобладающее количество вторых. В таком случае компании нужно быть заинтересованной, в вопросе продвижения этой опции."
   ]
  },
  {
   "cell_type": "markdown",
   "id": "563bf3cc",
   "metadata": {},
   "source": [
    "##### Порядок оценки теории, при возможном обновлении изучаемого сервиса"
   ]
  },
  {
   "cell_type": "markdown",
   "id": "51bc0cde",
   "metadata": {},
   "source": [
    "Предполагаемая ситуация: техническая команда сервиса обновила сервера, с которыми взаимодействует мобильное приложение. Она надеется, что из-за этого количество обращений в техподдержку значимо снизилось. Некоторый файл содержит для каждого пользователя данные о количестве обращений до обновления и после него. В данном случае необходимо было бы воспользоваться гипотезой о равенстве средного генеральной совокупности для зависимых, парных выборок. Выборок до и после некоторых изменений. Осуществить это можно, прибегнув к методу st.ttest_rel(). Гипотеза H0 в данной ситуации устанавливала бы условное равенство двух показателй, тогда как гипотеза H1 говорила бы о том, что количество обращений снизилось. Подобная формулировка является односторонней, левой гипотезой."
   ]
  },
  {
   "cell_type": "markdown",
   "id": "61213c5e",
   "metadata": {},
   "source": [
    "#### Общий вывод"
   ]
  },
  {
   "cell_type": "markdown",
   "id": "75c9009c",
   "metadata": {},
   "source": [
    "##### Общая информация\n",
    "\n",
    "После импорта необходимых для работы библиотек pandas, matplotlib, numpy и stats, были созданы три датафрэйма (user, ride, subscribe) с данными о пользователях. Затем применив функции head, info и shape поверхностно оценили состояние и типы имеющихся данных. Было определено заменить тип данных в одном из столбцов в датафрэйм ride.\n",
    "\n",
    "##### Этап предобработки\n",
    "\n",
    "Проверка данных на пропуски и дубликаты показала только, что датафрэйм user все же имеет некоторое количество дубликатов, которые были затем удалены. Далее тип данных в столбце 'date' датафрэйм ride был успешно заменен на datetime64, методом pd.to_datetime(data['column'], format='%Y.%m.%d'), для предстоящих обработок. На базе вышеупомянутого столбца был создан дополнительный через метод pd.DatetimeIndex(data['column']).month, содержащий только месяц поездки.\n",
    "\n",
    "##### Исследовательский анализ данных\n",
    "\n",
    "На данном же этапе мы посредстром гистограмм и разного рода диаграмм применив метод plt визуализировали и описали все особенности полученных характеристик наборов данных:\n",
    "\n",
    "* частота встречаемости городов\n",
    "* соотношение пользователей с подпиской и без подписки\n",
    "* возраст пользователей\n",
    "* расстояние, которое пользователь преодолел за одну поездку\n",
    "* продолжительность поездок\n",
    "\n",
    "На основе инструментов визуализации было установлено следующее:\n",
    "\n",
    "* наибольшее количество пользователей проживает в городе Пятигорск, в количестве 219. А наименьшее - в городе Москва, в количестве 168\n",
    "* пользователи без подписки преобладают, но на незначительный объем. 54% против 46%. В количественном отношении это 835 и 699 соответственно\n",
    "* основной возраст пользователей представлен диапазоном от 22 до 28 лет, со средним значением в 25 лет\n",
    "* основная протяженность поездок сконцентрирована в диапазоне от 2543 до 3776, со средним значением 3133. Не оставили без внимания небольшой пик в районе 1000 метров, который объяснили потребностью в короткой поездке для транспортных целей\n",
    "* продолжительность поездок оказалась без сюрпризов. От 14 до 22 - диапазон, который представляет основную продолжительность, со средним значением в 18 минут\n",
    "\n",
    "\n",
    "##### Объединение данных\n",
    "\n",
    "На следующем этапе мы объединили все три датафрэйма в один user_ride для удобства анализа. Помог в этом нам метод merge(). После чего стало возможным создать два отдельных датафрэйма: sub_free - пользователи без подписки, sub_ultra - пользователи с подпиской, разделенных по признаку наличия подписки. Разделение произвели, использовав логическую индексацию. На базе новых датафрэймов, содержащих данные о пользователях отдельно с и без подписки, применив метод plt.hist() визуализировали, сравнили и описали имеющиеся различия категорий пользователей:\n",
    "\n",
    "* сравним показатели по протяженности поездок у пользователей без подписки и с ней. Сами распределения по форме близки, но основное отличие в том, что у пользователей с подпиской основной массив поездок сконцентрирован ближе в среднему значения (меньший размах значений). С 2366 по 3905 у пользователей без подписки, со средним 3114 метров. Против 2785 по 3560, со средним 3148 метров у пользователей с ней. Что указывает на предпочтение пользователями с подпиской более протяженных поездок\n",
    "\n",
    "* как можно сравнить показатели продолжительности поездок у разных типов пользователей. Распределение значений по продолжительности у двух категорий схожи по форме, они нормальные. Основное отличие в количестве поездок. Практически на любом уровне продолжительности поездки оно больше у пользователей без подписки (напомним, их 54% от общего количества пользователей). Например на уровне среднего значения (а оно практически совпадает у всех пользователей и условно равно 18 минутам), количество таких поездок у пользователей с подпиской равно 600, а без нее 800. Это лишь указывает на численное преобладание пользователей без подписки\n",
    "\n",
    "##### Подсчет выручки\n",
    "\n",
    "Для последующих задач будет кстати иметь агрегированные данные. Необходимо выполнив группировку по пользователям и месяцам, оценить суммарную протяженность и продолжительность а так же количество поездок. На данном этапе в этом нам помогли функции groupby и agg. Сформировав новый датафрэйм data_ride, добавим столбец 'month_bill' c месячной выручкой по каждому пользователю. В этом нам поможет функция money, примененная к датафрэйм data_ride.\n",
    "\n",
    "##### Проверка гипотез\n",
    "\n",
    "1. Первую гипотезу сформулируем следующим образом. Тратят ли пользователи с подпиской ежемесячно больше времени, чем пользователи без нее. В качестве гипотезы H0 мы установим тот факт, что среднее время поездки пользователей с подпиской не отличается от времени поездки пользователей без. Тогда гипотезой H1 станет факт того, что пользователи с подпиской тратят времени на поездку больше. В данном случае мы имеем дело с односторонней, правой гипотезой. Применив метод st.ttest_ind, с аргументом alternative='greater' получили следующие результаты. Гипотеза H0 отвергнута в сторону альтернативной и мы можем сказать, что длительность поездок пользователей с подпиской в среднем более продолжительна. Из чего следует что подписку оформляют пользователи, заинтересованные в более продолжительных поездках.\n",
    "2. Вторая гипотеза выглядит так. Было установлено, что с точки зрения износа электросамоката средней, оптимальной протяженностью одной поездки является расстояние в 3130 метров. Можно ли сказать, что расстояние, которое проезжают пользователи с подпиской за одну поездку, не превышает данного порога. В качестве гипотезы H0 мы установим тот факт, что расстояние поездки пользователей с подпиской условно равно оптимальному в 3130 метров. Тогда альтернативной гипотезой H1 станет факт того, что расстояние поездки пользователей с подпиской превышает 3130 метров. В данном случае это одностороняя, правая гипотеза. Применив метод st.ttest_1samp, с аргументом alternative='greater', гипотеза H0 отвергнута не была. Из чего следует, что средняя протяженность поездки пользователей с подпиской не превышает оптимальной в 3130 метров.\n",
    "3. Третья гипотеза призвана ответить на вопрос, будет ли помесячная выручка от пользователей с подпиской по месяцам выше, чем выручка от пользователей без подписки. Определим в качестве гипотезы H0 тот факт, что выручка для пользователей с подпиской условно равна выручке для пользователей без. А гипотезой H1 установим факт того, что выручка для пользователей с подпиской превышает выручку для пользователей без подписки. Ответить на имеющийся вопрос снова поможет метод st.ttest_ind, с аргументом alternative='greater'. После выполненных расчетов можем сказать, что пользователи, имеющие подписку приносят выручку, превышающую размерами выручку от пользователей без подписки.\n",
    "4. Было предложено определить тип теста, для проверки предложеной гипотезы. Суть гипотезы заключается в предпологаемой ситуации, при которой техническая команда сервиса обновила сервера, с которыми взаимодействует мобильное приложение. Она надеется, что из-за этого количество обращений в техподдержку значимо снизилось. Некоторый файл содержит для каждого пользователя данные о количестве обращений до обновления и после него. В данном случае необходимо было бы воспользоваться гипотезой о равенстве средного генеральной совокупности для зависимых, парных выборок. Выборок до и после некоторых изменений. Осуществить это можно, прибегнув к методу st.ttest_rel(). Подобная формулировка является односторонней, левой гипотезой.\n",
    "\n",
    "##### Итог всего исследования\n",
    "\n",
    "Из всего рассмотренного выше можно вывести, что пользователи с подпиской имеют поездки более продолжительные, при этом не превышая по расстоянию установленный порог повышенного износа (3133 метров). К тому же при всех этих условиях выручка от пользователей с подпиской превышает выручку от пользователей без нее. Следовательно имеет смысл дополнительно стимулировать пользователя на покупку подписки. "
   ]
  }
 ],
 "metadata": {
  "ExecuteTimeLog": [
   {
    "duration": 1017,
    "start_time": "2023-08-02T23:41:04.452Z"
   },
   {
    "duration": 3,
    "start_time": "2023-08-02T23:42:12.482Z"
   },
   {
    "duration": 216,
    "start_time": "2023-08-02T23:45:30.417Z"
   },
   {
    "duration": 14,
    "start_time": "2023-08-02T23:47:40.919Z"
   },
   {
    "duration": 13,
    "start_time": "2023-08-02T23:48:20.710Z"
   },
   {
    "duration": 9,
    "start_time": "2023-08-02T23:48:29.166Z"
   },
   {
    "duration": 11,
    "start_time": "2023-08-02T23:49:18.010Z"
   },
   {
    "duration": 11,
    "start_time": "2023-08-02T23:49:55.231Z"
   },
   {
    "duration": 87,
    "start_time": "2023-08-02T23:50:20.047Z"
   },
   {
    "duration": 22,
    "start_time": "2023-08-02T23:50:39.579Z"
   },
   {
    "duration": 10,
    "start_time": "2023-08-02T23:51:23.159Z"
   },
   {
    "duration": 12,
    "start_time": "2023-08-02T23:52:05.324Z"
   },
   {
    "duration": 10,
    "start_time": "2023-08-02T23:53:25.211Z"
   },
   {
    "duration": 13,
    "start_time": "2023-08-02T23:54:50.751Z"
   },
   {
    "duration": 7,
    "start_time": "2023-08-02T23:57:53.552Z"
   },
   {
    "duration": 17,
    "start_time": "2023-08-02T23:58:18.782Z"
   },
   {
    "duration": 11,
    "start_time": "2023-08-02T23:58:56.207Z"
   },
   {
    "duration": 8,
    "start_time": "2023-08-03T00:07:58.510Z"
   },
   {
    "duration": 20,
    "start_time": "2023-08-03T00:08:16.316Z"
   },
   {
    "duration": 19,
    "start_time": "2023-08-03T00:09:23.463Z"
   },
   {
    "duration": 5,
    "start_time": "2023-08-03T00:12:44.663Z"
   },
   {
    "duration": 12,
    "start_time": "2023-08-03T00:13:01.139Z"
   },
   {
    "duration": 12,
    "start_time": "2023-08-03T00:13:36.688Z"
   },
   {
    "duration": 6,
    "start_time": "2023-08-03T00:16:29.552Z"
   },
   {
    "duration": 6,
    "start_time": "2023-08-03T00:17:23.879Z"
   },
   {
    "duration": 6,
    "start_time": "2023-08-03T00:17:49.902Z"
   },
   {
    "duration": 6,
    "start_time": "2023-08-03T00:18:31.389Z"
   },
   {
    "duration": 6,
    "start_time": "2023-08-03T00:19:48.573Z"
   },
   {
    "duration": 6,
    "start_time": "2023-08-03T00:23:09.942Z"
   },
   {
    "duration": 6,
    "start_time": "2023-08-03T00:23:49.548Z"
   },
   {
    "duration": 7,
    "start_time": "2023-08-03T00:25:06.485Z"
   },
   {
    "duration": 5,
    "start_time": "2023-08-03T00:25:23.611Z"
   },
   {
    "duration": 5,
    "start_time": "2023-08-03T00:25:34.917Z"
   },
   {
    "duration": 5,
    "start_time": "2023-08-03T00:28:57.004Z"
   },
   {
    "duration": 3,
    "start_time": "2023-08-03T00:38:36.700Z"
   },
   {
    "duration": 1012,
    "start_time": "2023-08-03T03:48:14.649Z"
   },
   {
    "duration": 236,
    "start_time": "2023-08-03T03:48:15.662Z"
   },
   {
    "duration": 19,
    "start_time": "2023-08-03T03:48:15.904Z"
   },
   {
    "duration": 28,
    "start_time": "2023-08-03T03:48:15.925Z"
   },
   {
    "duration": 17,
    "start_time": "2023-08-03T03:48:15.954Z"
   },
   {
    "duration": 16,
    "start_time": "2023-08-03T03:48:15.973Z"
   },
   {
    "duration": 8,
    "start_time": "2023-08-03T03:48:15.990Z"
   },
   {
    "duration": 49,
    "start_time": "2023-08-03T03:48:16.010Z"
   },
   {
    "duration": 26,
    "start_time": "2023-08-03T03:48:16.061Z"
   },
   {
    "duration": 26,
    "start_time": "2023-08-03T03:48:16.090Z"
   },
   {
    "duration": 29,
    "start_time": "2023-08-03T03:48:16.134Z"
   },
   {
    "duration": 18,
    "start_time": "2023-08-03T03:48:16.164Z"
   },
   {
    "duration": 22,
    "start_time": "2023-08-03T03:48:16.184Z"
   },
   {
    "duration": 143,
    "start_time": "2023-08-03T03:57:53.684Z"
   },
   {
    "duration": 134,
    "start_time": "2023-08-03T03:58:16.346Z"
   },
   {
    "duration": 223,
    "start_time": "2023-08-03T03:58:30.252Z"
   },
   {
    "duration": 193,
    "start_time": "2023-08-03T03:58:37.586Z"
   },
   {
    "duration": 187,
    "start_time": "2023-08-03T03:59:00.679Z"
   },
   {
    "duration": 150,
    "start_time": "2023-08-03T03:59:06.830Z"
   },
   {
    "duration": 160,
    "start_time": "2023-08-03T03:59:11.802Z"
   },
   {
    "duration": 206,
    "start_time": "2023-08-03T03:59:20.626Z"
   },
   {
    "duration": 150,
    "start_time": "2023-08-03T03:59:27.509Z"
   },
   {
    "duration": 132,
    "start_time": "2023-08-03T03:59:32.850Z"
   },
   {
    "duration": 127,
    "start_time": "2023-08-03T04:06:04.647Z"
   },
   {
    "duration": 116,
    "start_time": "2023-08-03T04:06:12.330Z"
   },
   {
    "duration": 109,
    "start_time": "2023-08-03T04:06:18.429Z"
   },
   {
    "duration": 176,
    "start_time": "2023-08-03T04:11:27.149Z"
   },
   {
    "duration": 275,
    "start_time": "2023-08-03T04:12:13.692Z"
   },
   {
    "duration": 158,
    "start_time": "2023-08-03T04:13:55.421Z"
   },
   {
    "duration": 158,
    "start_time": "2023-08-03T04:16:38.877Z"
   },
   {
    "duration": 174,
    "start_time": "2023-08-03T04:34:49.454Z"
   },
   {
    "duration": 30,
    "start_time": "2023-08-03T04:49:17.791Z"
   },
   {
    "duration": 24,
    "start_time": "2023-08-03T04:50:33.348Z"
   },
   {
    "duration": 76,
    "start_time": "2023-08-03T04:53:29.315Z"
   },
   {
    "duration": 13,
    "start_time": "2023-08-03T04:54:56.985Z"
   },
   {
    "duration": 10,
    "start_time": "2023-08-03T05:00:10.845Z"
   },
   {
    "duration": 19,
    "start_time": "2023-08-03T05:00:28.532Z"
   },
   {
    "duration": 27,
    "start_time": "2023-08-03T05:02:05.410Z"
   },
   {
    "duration": 24,
    "start_time": "2023-08-03T05:02:16.898Z"
   },
   {
    "duration": 24,
    "start_time": "2023-08-03T05:07:23.580Z"
   },
   {
    "duration": 23,
    "start_time": "2023-08-03T05:07:47.637Z"
   },
   {
    "duration": 20,
    "start_time": "2023-08-03T05:15:11.989Z"
   },
   {
    "duration": 11,
    "start_time": "2023-08-03T05:21:27.380Z"
   },
   {
    "duration": 13,
    "start_time": "2023-08-03T05:21:35.888Z"
   },
   {
    "duration": 25,
    "start_time": "2023-08-03T05:23:26.999Z"
   },
   {
    "duration": 7,
    "start_time": "2023-08-03T05:27:24.845Z"
   },
   {
    "duration": 5,
    "start_time": "2023-08-03T05:27:32.003Z"
   },
   {
    "duration": 7,
    "start_time": "2023-08-03T05:27:48.227Z"
   },
   {
    "duration": 13,
    "start_time": "2023-08-03T05:28:05.191Z"
   },
   {
    "duration": 11,
    "start_time": "2023-08-03T05:30:42.863Z"
   },
   {
    "duration": 14,
    "start_time": "2023-08-03T05:31:52.318Z"
   },
   {
    "duration": 13,
    "start_time": "2023-08-03T05:32:06.664Z"
   },
   {
    "duration": 15,
    "start_time": "2023-08-03T05:36:12.523Z"
   },
   {
    "duration": 13,
    "start_time": "2023-08-03T05:36:28.104Z"
   },
   {
    "duration": 6,
    "start_time": "2023-08-03T05:38:13.514Z"
   },
   {
    "duration": 4,
    "start_time": "2023-08-03T05:38:25.414Z"
   },
   {
    "duration": 7,
    "start_time": "2023-08-03T05:38:34.155Z"
   },
   {
    "duration": 8,
    "start_time": "2023-08-03T05:38:49.965Z"
   },
   {
    "duration": 8,
    "start_time": "2023-08-03T05:39:00.108Z"
   },
   {
    "duration": 8,
    "start_time": "2023-08-03T05:39:55.109Z"
   },
   {
    "duration": 7,
    "start_time": "2023-08-03T05:40:03.309Z"
   },
   {
    "duration": 7,
    "start_time": "2023-08-03T05:40:15.878Z"
   },
   {
    "duration": 5,
    "start_time": "2023-08-03T05:40:35.029Z"
   },
   {
    "duration": 4,
    "start_time": "2023-08-03T05:42:08.432Z"
   },
   {
    "duration": 8,
    "start_time": "2023-08-03T05:42:15.970Z"
   },
   {
    "duration": 4,
    "start_time": "2023-08-03T05:43:25.633Z"
   },
   {
    "duration": 11,
    "start_time": "2023-08-03T05:43:52.432Z"
   },
   {
    "duration": 128,
    "start_time": "2023-08-03T05:45:38.810Z"
   },
   {
    "duration": 125,
    "start_time": "2023-08-03T05:45:44.328Z"
   },
   {
    "duration": 141,
    "start_time": "2023-08-03T05:46:57.362Z"
   },
   {
    "duration": 141,
    "start_time": "2023-08-03T05:47:05.730Z"
   },
   {
    "duration": 13,
    "start_time": "2023-08-03T05:53:28.825Z"
   },
   {
    "duration": 137,
    "start_time": "2023-08-03T05:58:15.842Z"
   },
   {
    "duration": 144,
    "start_time": "2023-08-03T05:59:38.511Z"
   },
   {
    "duration": 222,
    "start_time": "2023-08-03T05:59:57.404Z"
   },
   {
    "duration": 124,
    "start_time": "2023-08-03T06:31:25.839Z"
   },
   {
    "duration": 5,
    "start_time": "2023-08-03T06:47:23.648Z"
   },
   {
    "duration": 13,
    "start_time": "2023-08-03T06:47:41.013Z"
   },
   {
    "duration": 6,
    "start_time": "2023-08-03T06:47:52.003Z"
   },
   {
    "duration": 14,
    "start_time": "2023-08-03T06:48:00.493Z"
   },
   {
    "duration": 12,
    "start_time": "2023-08-03T06:48:05.754Z"
   },
   {
    "duration": 9,
    "start_time": "2023-08-03T06:48:18.954Z"
   },
   {
    "duration": 7,
    "start_time": "2023-08-03T06:48:23.350Z"
   },
   {
    "duration": 4,
    "start_time": "2023-08-03T06:49:07.406Z"
   },
   {
    "duration": 4,
    "start_time": "2023-08-03T06:49:27.991Z"
   },
   {
    "duration": 11,
    "start_time": "2023-08-03T06:49:46.210Z"
   },
   {
    "duration": 8,
    "start_time": "2023-08-03T06:49:51.748Z"
   },
   {
    "duration": 3,
    "start_time": "2023-08-03T06:51:00.550Z"
   },
   {
    "duration": 3,
    "start_time": "2023-08-03T06:51:10.773Z"
   },
   {
    "duration": 17,
    "start_time": "2023-08-03T06:51:50.454Z"
   },
   {
    "duration": 5,
    "start_time": "2023-08-03T06:52:05.392Z"
   },
   {
    "duration": 8,
    "start_time": "2023-08-03T06:52:20.189Z"
   },
   {
    "duration": 18,
    "start_time": "2023-08-03T06:52:25.303Z"
   },
   {
    "duration": 6,
    "start_time": "2023-08-03T06:55:49.554Z"
   },
   {
    "duration": 6,
    "start_time": "2023-08-03T06:56:10.943Z"
   },
   {
    "duration": 5,
    "start_time": "2023-08-03T06:56:25.884Z"
   },
   {
    "duration": 4,
    "start_time": "2023-08-03T06:57:23.356Z"
   },
   {
    "duration": 138,
    "start_time": "2023-08-03T07:01:44.550Z"
   },
   {
    "duration": 162,
    "start_time": "2023-08-03T07:01:55.150Z"
   },
   {
    "duration": 15,
    "start_time": "2023-08-03T07:19:00.412Z"
   },
   {
    "duration": 14,
    "start_time": "2023-08-03T07:22:04.860Z"
   },
   {
    "duration": 16,
    "start_time": "2023-08-03T07:22:59.670Z"
   },
   {
    "duration": 15,
    "start_time": "2023-08-03T07:23:14.148Z"
   },
   {
    "duration": 35,
    "start_time": "2023-08-03T07:24:03.391Z"
   },
   {
    "duration": 25,
    "start_time": "2023-08-03T07:24:12.116Z"
   },
   {
    "duration": 23,
    "start_time": "2023-08-03T07:24:20.551Z"
   },
   {
    "duration": 25,
    "start_time": "2023-08-03T07:24:26.655Z"
   },
   {
    "duration": 23,
    "start_time": "2023-08-03T07:24:37.421Z"
   },
   {
    "duration": 32,
    "start_time": "2023-08-03T07:27:06.045Z"
   },
   {
    "duration": 13,
    "start_time": "2023-08-03T07:29:48.582Z"
   },
   {
    "duration": 23,
    "start_time": "2023-08-03T07:30:00.391Z"
   },
   {
    "duration": 13,
    "start_time": "2023-08-03T07:31:05.060Z"
   },
   {
    "duration": 25,
    "start_time": "2023-08-03T07:31:13.411Z"
   },
   {
    "duration": 19,
    "start_time": "2023-08-03T07:31:21.646Z"
   },
   {
    "duration": 20,
    "start_time": "2023-08-03T07:49:11.028Z"
   },
   {
    "duration": 16,
    "start_time": "2023-08-03T07:56:02.705Z"
   },
   {
    "duration": 10,
    "start_time": "2023-08-03T07:56:31.849Z"
   },
   {
    "duration": 15,
    "start_time": "2023-08-03T07:56:40.778Z"
   },
   {
    "duration": 662,
    "start_time": "2023-08-03T07:56:59.068Z"
   },
   {
    "duration": 65,
    "start_time": "2023-08-03T07:56:59.732Z"
   },
   {
    "duration": 17,
    "start_time": "2023-08-03T07:56:59.798Z"
   },
   {
    "duration": 18,
    "start_time": "2023-08-03T07:56:59.817Z"
   },
   {
    "duration": 11,
    "start_time": "2023-08-03T07:56:59.837Z"
   },
   {
    "duration": 15,
    "start_time": "2023-08-03T07:56:59.850Z"
   },
   {
    "duration": 6,
    "start_time": "2023-08-03T07:56:59.867Z"
   },
   {
    "duration": 46,
    "start_time": "2023-08-03T07:56:59.874Z"
   },
   {
    "duration": 74,
    "start_time": "2023-08-03T07:56:59.922Z"
   },
   {
    "duration": 56,
    "start_time": "2023-08-03T07:57:00.000Z"
   },
   {
    "duration": 36,
    "start_time": "2023-08-03T07:57:00.058Z"
   },
   {
    "duration": 45,
    "start_time": "2023-08-03T07:57:00.095Z"
   },
   {
    "duration": 21,
    "start_time": "2023-08-03T07:57:00.142Z"
   },
   {
    "duration": 171,
    "start_time": "2023-08-03T07:57:00.165Z"
   },
   {
    "duration": 94,
    "start_time": "2023-08-03T07:57:00.337Z"
   },
   {
    "duration": 141,
    "start_time": "2023-08-03T07:57:00.433Z"
   },
   {
    "duration": 160,
    "start_time": "2023-08-03T07:57:00.575Z"
   },
   {
    "duration": 191,
    "start_time": "2023-08-03T07:57:00.737Z"
   },
   {
    "duration": 15,
    "start_time": "2023-08-03T07:57:00.930Z"
   },
   {
    "duration": 31,
    "start_time": "2023-08-03T07:57:00.947Z"
   },
   {
    "duration": 18,
    "start_time": "2023-08-03T07:57:00.980Z"
   },
   {
    "duration": 165,
    "start_time": "2023-08-03T07:57:01.000Z"
   },
   {
    "duration": 154,
    "start_time": "2023-08-03T07:57:01.166Z"
   },
   {
    "duration": 123,
    "start_time": "2023-08-03T07:57:01.321Z"
   },
   {
    "duration": 167,
    "start_time": "2023-08-03T07:57:01.446Z"
   },
   {
    "duration": 21,
    "start_time": "2023-08-03T07:57:01.614Z"
   },
   {
    "duration": 185,
    "start_time": "2023-08-03T07:57:01.636Z"
   },
   {
    "duration": 1552,
    "start_time": "2023-08-03T09:29:24.489Z"
   },
   {
    "duration": 89,
    "start_time": "2023-08-03T09:29:26.043Z"
   },
   {
    "duration": 16,
    "start_time": "2023-08-03T09:29:26.134Z"
   },
   {
    "duration": 15,
    "start_time": "2023-08-03T09:29:26.153Z"
   },
   {
    "duration": 16,
    "start_time": "2023-08-03T09:29:26.170Z"
   },
   {
    "duration": 38,
    "start_time": "2023-08-03T09:29:26.188Z"
   },
   {
    "duration": 11,
    "start_time": "2023-08-03T09:29:26.228Z"
   },
   {
    "duration": 33,
    "start_time": "2023-08-03T09:29:26.241Z"
   },
   {
    "duration": 33,
    "start_time": "2023-08-03T09:29:26.276Z"
   },
   {
    "duration": 12,
    "start_time": "2023-08-03T09:29:26.313Z"
   },
   {
    "duration": 10,
    "start_time": "2023-08-03T09:29:26.326Z"
   },
   {
    "duration": 7,
    "start_time": "2023-08-03T09:29:26.338Z"
   },
   {
    "duration": 7,
    "start_time": "2023-08-03T09:29:26.346Z"
   },
   {
    "duration": 180,
    "start_time": "2023-08-03T09:29:26.355Z"
   },
   {
    "duration": 95,
    "start_time": "2023-08-03T09:29:26.537Z"
   },
   {
    "duration": 144,
    "start_time": "2023-08-03T09:29:26.633Z"
   },
   {
    "duration": 175,
    "start_time": "2023-08-03T09:29:26.778Z"
   },
   {
    "duration": 203,
    "start_time": "2023-08-03T09:29:26.956Z"
   },
   {
    "duration": 17,
    "start_time": "2023-08-03T09:29:27.161Z"
   },
   {
    "duration": 32,
    "start_time": "2023-08-03T09:29:27.180Z"
   },
   {
    "duration": 13,
    "start_time": "2023-08-03T09:29:27.214Z"
   },
   {
    "duration": 155,
    "start_time": "2023-08-03T09:29:27.229Z"
   },
   {
    "duration": 163,
    "start_time": "2023-08-03T09:29:27.386Z"
   },
   {
    "duration": 136,
    "start_time": "2023-08-03T09:29:27.551Z"
   },
   {
    "duration": 156,
    "start_time": "2023-08-03T09:29:27.689Z"
   },
   {
    "duration": 21,
    "start_time": "2023-08-03T09:29:27.846Z"
   },
   {
    "duration": 116,
    "start_time": "2023-08-03T09:29:27.868Z"
   },
   {
    "duration": 39,
    "start_time": "2023-08-03T09:32:05.374Z"
   },
   {
    "duration": 23,
    "start_time": "2023-08-03T09:33:15.449Z"
   },
   {
    "duration": 15,
    "start_time": "2023-08-03T09:33:58.558Z"
   },
   {
    "duration": 15,
    "start_time": "2023-08-03T09:34:11.159Z"
   },
   {
    "duration": 164,
    "start_time": "2023-08-03T09:34:18.678Z"
   },
   {
    "duration": 150,
    "start_time": "2023-08-03T09:34:23.686Z"
   },
   {
    "duration": 123,
    "start_time": "2023-08-03T09:34:34.781Z"
   },
   {
    "duration": 151,
    "start_time": "2023-08-03T09:34:38.942Z"
   },
   {
    "duration": 34,
    "start_time": "2023-08-03T09:34:46.046Z"
   },
   {
    "duration": 85,
    "start_time": "2023-08-03T09:44:47.446Z"
   },
   {
    "duration": 13,
    "start_time": "2023-08-03T10:13:22.095Z"
   },
   {
    "duration": 1707,
    "start_time": "2023-08-03T10:13:59.732Z"
   },
   {
    "duration": 198,
    "start_time": "2023-08-03T10:14:21.203Z"
   },
   {
    "duration": 3,
    "start_time": "2023-08-03T10:16:56.768Z"
   },
   {
    "duration": 19,
    "start_time": "2023-08-03T10:17:56.801Z"
   },
   {
    "duration": 2783,
    "start_time": "2023-08-03T10:18:08.527Z"
   },
   {
    "duration": 3,
    "start_time": "2023-08-03T10:18:49.374Z"
   },
   {
    "duration": 33,
    "start_time": "2023-08-03T10:18:52.702Z"
   },
   {
    "duration": 60,
    "start_time": "2023-08-03T10:19:12.886Z"
   },
   {
    "duration": 4,
    "start_time": "2023-08-03T10:21:34.824Z"
   },
   {
    "duration": 54,
    "start_time": "2023-08-03T10:21:38.973Z"
   },
   {
    "duration": 4,
    "start_time": "2023-08-03T10:22:37.958Z"
   },
   {
    "duration": 38,
    "start_time": "2023-08-03T10:22:40.934Z"
   },
   {
    "duration": 42,
    "start_time": "2023-08-03T10:25:22.411Z"
   },
   {
    "duration": 685,
    "start_time": "2023-08-03T10:32:00.671Z"
   },
   {
    "duration": 3,
    "start_time": "2023-08-03T10:32:21.790Z"
   },
   {
    "duration": 3,
    "start_time": "2023-08-03T10:32:30.715Z"
   },
   {
    "duration": 686,
    "start_time": "2023-08-03T10:32:40.732Z"
   },
   {
    "duration": 66,
    "start_time": "2023-08-03T10:32:41.420Z"
   },
   {
    "duration": 25,
    "start_time": "2023-08-03T10:32:41.487Z"
   },
   {
    "duration": 16,
    "start_time": "2023-08-03T10:32:41.518Z"
   },
   {
    "duration": 19,
    "start_time": "2023-08-03T10:32:41.535Z"
   },
   {
    "duration": 12,
    "start_time": "2023-08-03T10:32:41.555Z"
   },
   {
    "duration": 7,
    "start_time": "2023-08-03T10:32:41.569Z"
   },
   {
    "duration": 11,
    "start_time": "2023-08-03T10:32:41.578Z"
   },
   {
    "duration": 21,
    "start_time": "2023-08-03T10:32:41.591Z"
   },
   {
    "duration": 12,
    "start_time": "2023-08-03T10:32:41.616Z"
   },
   {
    "duration": 6,
    "start_time": "2023-08-03T10:32:41.629Z"
   },
   {
    "duration": 9,
    "start_time": "2023-08-03T10:32:41.636Z"
   },
   {
    "duration": 5,
    "start_time": "2023-08-03T10:32:41.646Z"
   },
   {
    "duration": 174,
    "start_time": "2023-08-03T10:32:41.652Z"
   },
   {
    "duration": 100,
    "start_time": "2023-08-03T10:32:41.828Z"
   },
   {
    "duration": 143,
    "start_time": "2023-08-03T10:32:41.930Z"
   },
   {
    "duration": 167,
    "start_time": "2023-08-03T10:32:42.075Z"
   },
   {
    "duration": 215,
    "start_time": "2023-08-03T10:32:42.244Z"
   },
   {
    "duration": 24,
    "start_time": "2023-08-03T10:32:42.460Z"
   },
   {
    "duration": 34,
    "start_time": "2023-08-03T10:32:42.485Z"
   },
   {
    "duration": 18,
    "start_time": "2023-08-03T10:32:42.520Z"
   },
   {
    "duration": 151,
    "start_time": "2023-08-03T10:32:42.539Z"
   },
   {
    "duration": 154,
    "start_time": "2023-08-03T10:32:42.692Z"
   },
   {
    "duration": 144,
    "start_time": "2023-08-03T10:32:42.847Z"
   },
   {
    "duration": 158,
    "start_time": "2023-08-03T10:32:42.993Z"
   },
   {
    "duration": 227,
    "start_time": "2023-08-03T10:32:43.153Z"
   },
   {
    "duration": 4,
    "start_time": "2023-08-03T10:32:43.382Z"
   },
   {
    "duration": 71,
    "start_time": "2023-08-03T10:32:43.389Z"
   },
   {
    "duration": 843,
    "start_time": "2023-08-04T00:31:27.590Z"
   },
   {
    "duration": 276,
    "start_time": "2023-08-04T00:31:28.435Z"
   },
   {
    "duration": 14,
    "start_time": "2023-08-04T00:31:28.712Z"
   },
   {
    "duration": 12,
    "start_time": "2023-08-04T00:31:28.728Z"
   },
   {
    "duration": 10,
    "start_time": "2023-08-04T00:31:28.741Z"
   },
   {
    "duration": 10,
    "start_time": "2023-08-04T00:31:28.753Z"
   },
   {
    "duration": 6,
    "start_time": "2023-08-04T00:31:28.765Z"
   },
   {
    "duration": 16,
    "start_time": "2023-08-04T00:31:28.773Z"
   },
   {
    "duration": 12,
    "start_time": "2023-08-04T00:31:28.791Z"
   },
   {
    "duration": 10,
    "start_time": "2023-08-04T00:31:28.805Z"
   },
   {
    "duration": 5,
    "start_time": "2023-08-04T00:31:28.816Z"
   },
   {
    "duration": 17,
    "start_time": "2023-08-04T00:31:28.822Z"
   },
   {
    "duration": 12,
    "start_time": "2023-08-04T00:31:28.840Z"
   },
   {
    "duration": 153,
    "start_time": "2023-08-04T00:31:28.853Z"
   },
   {
    "duration": 116,
    "start_time": "2023-08-04T00:31:29.007Z"
   },
   {
    "duration": 163,
    "start_time": "2023-08-04T00:31:29.125Z"
   },
   {
    "duration": 178,
    "start_time": "2023-08-04T00:31:29.289Z"
   },
   {
    "duration": 243,
    "start_time": "2023-08-04T00:31:29.469Z"
   },
   {
    "duration": 25,
    "start_time": "2023-08-04T00:31:29.714Z"
   },
   {
    "duration": 16,
    "start_time": "2023-08-04T00:31:29.740Z"
   },
   {
    "duration": 13,
    "start_time": "2023-08-04T00:31:29.774Z"
   },
   {
    "duration": 159,
    "start_time": "2023-08-04T00:31:29.788Z"
   },
   {
    "duration": 177,
    "start_time": "2023-08-04T00:31:29.948Z"
   },
   {
    "duration": 166,
    "start_time": "2023-08-04T00:31:30.127Z"
   },
   {
    "duration": 199,
    "start_time": "2023-08-04T00:31:30.295Z"
   },
   {
    "duration": 225,
    "start_time": "2023-08-04T00:31:30.496Z"
   },
   {
    "duration": 4,
    "start_time": "2023-08-04T00:31:30.722Z"
   },
   {
    "duration": 87,
    "start_time": "2023-08-04T00:31:30.728Z"
   },
   {
    "duration": 30,
    "start_time": "2023-08-04T00:44:22.035Z"
   },
   {
    "duration": 11,
    "start_time": "2023-08-04T00:44:52.224Z"
   },
   {
    "duration": 142,
    "start_time": "2023-08-04T00:46:47.866Z"
   },
   {
    "duration": 14,
    "start_time": "2023-08-04T00:51:38.243Z"
   },
   {
    "duration": 213,
    "start_time": "2023-08-04T00:56:48.093Z"
   },
   {
    "duration": 224,
    "start_time": "2023-08-04T00:56:57.283Z"
   },
   {
    "duration": 491,
    "start_time": "2023-08-04T01:05:51.138Z"
   },
   {
    "duration": 3,
    "start_time": "2023-08-04T01:14:21.216Z"
   },
   {
    "duration": 4,
    "start_time": "2023-08-04T01:19:50.668Z"
   },
   {
    "duration": 4,
    "start_time": "2023-08-04T01:25:24.705Z"
   },
   {
    "duration": 6,
    "start_time": "2023-08-04T01:26:24.530Z"
   },
   {
    "duration": 5,
    "start_time": "2023-08-04T01:28:18.491Z"
   },
   {
    "duration": 5,
    "start_time": "2023-08-04T01:47:11.076Z"
   },
   {
    "duration": 6,
    "start_time": "2023-08-04T02:17:40.389Z"
   },
   {
    "duration": 6,
    "start_time": "2023-08-04T02:18:17.225Z"
   },
   {
    "duration": 5,
    "start_time": "2023-08-04T02:18:26.738Z"
   },
   {
    "duration": 1027,
    "start_time": "2023-08-04T02:18:38.281Z"
   },
   {
    "duration": 67,
    "start_time": "2023-08-04T02:18:39.309Z"
   },
   {
    "duration": 12,
    "start_time": "2023-08-04T02:18:39.377Z"
   },
   {
    "duration": 10,
    "start_time": "2023-08-04T02:18:39.391Z"
   },
   {
    "duration": 18,
    "start_time": "2023-08-04T02:18:39.402Z"
   },
   {
    "duration": 18,
    "start_time": "2023-08-04T02:18:39.422Z"
   },
   {
    "duration": 6,
    "start_time": "2023-08-04T02:18:39.441Z"
   },
   {
    "duration": 14,
    "start_time": "2023-08-04T02:18:39.448Z"
   },
   {
    "duration": 11,
    "start_time": "2023-08-04T02:18:39.474Z"
   },
   {
    "duration": 9,
    "start_time": "2023-08-04T02:18:39.488Z"
   },
   {
    "duration": 13,
    "start_time": "2023-08-04T02:18:39.498Z"
   },
   {
    "duration": 8,
    "start_time": "2023-08-04T02:18:39.513Z"
   },
   {
    "duration": 4,
    "start_time": "2023-08-04T02:18:39.523Z"
   },
   {
    "duration": 163,
    "start_time": "2023-08-04T02:18:39.528Z"
   },
   {
    "duration": 104,
    "start_time": "2023-08-04T02:18:39.693Z"
   },
   {
    "duration": 153,
    "start_time": "2023-08-04T02:18:39.798Z"
   },
   {
    "duration": 158,
    "start_time": "2023-08-04T02:18:39.952Z"
   },
   {
    "duration": 181,
    "start_time": "2023-08-04T02:18:40.112Z"
   },
   {
    "duration": 35,
    "start_time": "2023-08-04T02:18:40.295Z"
   },
   {
    "duration": 21,
    "start_time": "2023-08-04T02:18:40.332Z"
   },
   {
    "duration": 34,
    "start_time": "2023-08-04T02:18:40.355Z"
   },
   {
    "duration": 197,
    "start_time": "2023-08-04T02:18:40.391Z"
   },
   {
    "duration": 178,
    "start_time": "2023-08-04T02:18:40.590Z"
   },
   {
    "duration": 144,
    "start_time": "2023-08-04T02:18:40.774Z"
   },
   {
    "duration": 158,
    "start_time": "2023-08-04T02:18:40.919Z"
   },
   {
    "duration": 245,
    "start_time": "2023-08-04T02:18:41.078Z"
   },
   {
    "duration": 3,
    "start_time": "2023-08-04T02:18:41.325Z"
   },
   {
    "duration": 44,
    "start_time": "2023-08-04T02:18:41.331Z"
   },
   {
    "duration": 5,
    "start_time": "2023-08-04T02:18:41.377Z"
   },
   {
    "duration": 19,
    "start_time": "2023-08-04T02:18:41.384Z"
   },
   {
    "duration": 5,
    "start_time": "2023-08-04T02:26:11.663Z"
   },
   {
    "duration": 6,
    "start_time": "2023-08-04T02:26:22.029Z"
   },
   {
    "duration": 5,
    "start_time": "2023-08-04T02:26:31.390Z"
   },
   {
    "duration": 5,
    "start_time": "2023-08-04T02:26:41.965Z"
   },
   {
    "duration": 5,
    "start_time": "2023-08-04T03:31:25.859Z"
   },
   {
    "duration": 11,
    "start_time": "2023-08-04T03:36:04.208Z"
   },
   {
    "duration": 12,
    "start_time": "2023-08-04T03:36:57.527Z"
   },
   {
    "duration": 16,
    "start_time": "2023-08-04T03:38:25.071Z"
   },
   {
    "duration": 7,
    "start_time": "2023-08-04T03:40:17.327Z"
   },
   {
    "duration": 114,
    "start_time": "2023-08-04T03:44:20.809Z"
   },
   {
    "duration": 9,
    "start_time": "2023-08-04T03:45:00.653Z"
   },
   {
    "duration": 11,
    "start_time": "2023-08-04T03:58:07.709Z"
   },
   {
    "duration": 11,
    "start_time": "2023-08-04T03:58:21.901Z"
   },
   {
    "duration": 15,
    "start_time": "2023-08-04T03:58:41.992Z"
   },
   {
    "duration": 14,
    "start_time": "2023-08-04T03:59:34.155Z"
   },
   {
    "duration": 10,
    "start_time": "2023-08-04T03:59:46.750Z"
   },
   {
    "duration": 9,
    "start_time": "2023-08-04T03:59:52.491Z"
   },
   {
    "duration": 7,
    "start_time": "2023-08-04T04:07:22.590Z"
   },
   {
    "duration": 6,
    "start_time": "2023-08-04T04:07:26.638Z"
   },
   {
    "duration": 9,
    "start_time": "2023-08-04T04:22:19.539Z"
   },
   {
    "duration": 11,
    "start_time": "2023-08-04T04:25:54.719Z"
   },
   {
    "duration": 11,
    "start_time": "2023-08-04T04:47:38.066Z"
   },
   {
    "duration": 9,
    "start_time": "2023-08-04T04:47:45.523Z"
   },
   {
    "duration": 6,
    "start_time": "2023-08-04T07:34:32.651Z"
   },
   {
    "duration": 7,
    "start_time": "2023-08-04T07:34:54.119Z"
   },
   {
    "duration": 6,
    "start_time": "2023-08-04T07:35:02.020Z"
   },
   {
    "duration": 9,
    "start_time": "2023-08-04T07:38:25.715Z"
   },
   {
    "duration": 11,
    "start_time": "2023-08-04T07:38:42.425Z"
   },
   {
    "duration": 6,
    "start_time": "2023-08-04T07:43:15.173Z"
   },
   {
    "duration": 8,
    "start_time": "2023-08-04T07:47:27.653Z"
   },
   {
    "duration": 8,
    "start_time": "2023-08-04T07:47:47.724Z"
   },
   {
    "duration": 1242,
    "start_time": "2023-08-04T13:22:07.223Z"
   },
   {
    "duration": 81,
    "start_time": "2023-08-04T13:22:08.468Z"
   },
   {
    "duration": 14,
    "start_time": "2023-08-04T13:22:08.551Z"
   },
   {
    "duration": 62,
    "start_time": "2023-08-04T13:22:08.567Z"
   },
   {
    "duration": 15,
    "start_time": "2023-08-04T13:22:08.632Z"
   },
   {
    "duration": 38,
    "start_time": "2023-08-04T13:22:08.649Z"
   },
   {
    "duration": 7,
    "start_time": "2023-08-04T13:22:08.689Z"
   },
   {
    "duration": 46,
    "start_time": "2023-08-04T13:22:08.697Z"
   },
   {
    "duration": 23,
    "start_time": "2023-08-04T13:22:08.745Z"
   },
   {
    "duration": 23,
    "start_time": "2023-08-04T13:22:08.772Z"
   },
   {
    "duration": 15,
    "start_time": "2023-08-04T13:22:08.797Z"
   },
   {
    "duration": 33,
    "start_time": "2023-08-04T13:22:08.814Z"
   },
   {
    "duration": 9,
    "start_time": "2023-08-04T13:22:08.850Z"
   },
   {
    "duration": 181,
    "start_time": "2023-08-04T13:22:08.861Z"
   },
   {
    "duration": 127,
    "start_time": "2023-08-04T13:22:09.044Z"
   },
   {
    "duration": 367,
    "start_time": "2023-08-04T13:22:09.173Z"
   },
   {
    "duration": 298,
    "start_time": "2023-08-04T13:22:09.542Z"
   },
   {
    "duration": 381,
    "start_time": "2023-08-04T13:22:09.842Z"
   },
   {
    "duration": 30,
    "start_time": "2023-08-04T13:22:10.225Z"
   },
   {
    "duration": 69,
    "start_time": "2023-08-04T13:22:10.257Z"
   },
   {
    "duration": 16,
    "start_time": "2023-08-04T13:22:10.328Z"
   },
   {
    "duration": 402,
    "start_time": "2023-08-04T13:22:10.409Z"
   },
   {
    "duration": 202,
    "start_time": "2023-08-04T13:22:10.812Z"
   },
   {
    "duration": 496,
    "start_time": "2023-08-04T13:22:11.016Z"
   },
   {
    "duration": 400,
    "start_time": "2023-08-04T13:22:11.514Z"
   },
   {
    "duration": 710,
    "start_time": "2023-08-04T13:22:11.916Z"
   },
   {
    "duration": 4,
    "start_time": "2023-08-04T13:22:12.628Z"
   },
   {
    "duration": 109,
    "start_time": "2023-08-04T13:22:12.710Z"
   },
   {
    "duration": 215,
    "start_time": "2023-08-04T13:22:12.821Z"
   },
   {
    "duration": 0,
    "start_time": "2023-08-04T13:22:13.038Z"
   },
   {
    "duration": 0,
    "start_time": "2023-08-04T13:22:13.039Z"
   },
   {
    "duration": 5,
    "start_time": "2023-08-04T13:22:30.725Z"
   },
   {
    "duration": 9,
    "start_time": "2023-08-04T13:22:33.455Z"
   },
   {
    "duration": 7,
    "start_time": "2023-08-04T13:22:47.222Z"
   },
   {
    "duration": 15,
    "start_time": "2023-08-04T13:38:14.345Z"
   },
   {
    "duration": 38,
    "start_time": "2023-08-04T13:38:42.888Z"
   },
   {
    "duration": 7,
    "start_time": "2023-08-04T13:43:44.806Z"
   },
   {
    "duration": 12,
    "start_time": "2023-08-04T13:54:40.164Z"
   },
   {
    "duration": 8,
    "start_time": "2023-08-04T13:54:48.085Z"
   },
   {
    "duration": 6,
    "start_time": "2023-08-04T13:55:09.014Z"
   },
   {
    "duration": 4,
    "start_time": "2023-08-04T13:55:14.432Z"
   },
   {
    "duration": 7,
    "start_time": "2023-08-05T05:34:44.941Z"
   },
   {
    "duration": 46,
    "start_time": "2023-08-05T05:35:17.721Z"
   },
   {
    "duration": 2,
    "start_time": "2023-08-05T05:36:21.763Z"
   },
   {
    "duration": 2,
    "start_time": "2023-08-05T05:36:53.498Z"
   },
   {
    "duration": 6,
    "start_time": "2023-08-05T05:37:10.985Z"
   },
   {
    "duration": 5,
    "start_time": "2023-08-05T05:38:16.910Z"
   },
   {
    "duration": 1286,
    "start_time": "2023-08-05T05:38:26.244Z"
   },
   {
    "duration": 317,
    "start_time": "2023-08-05T05:38:27.532Z"
   },
   {
    "duration": 12,
    "start_time": "2023-08-05T05:38:27.851Z"
   },
   {
    "duration": 3,
    "start_time": "2023-08-05T05:38:27.864Z"
   },
   {
    "duration": 101,
    "start_time": "2023-08-05T05:38:27.868Z"
   },
   {
    "duration": 0,
    "start_time": "2023-08-05T05:38:27.971Z"
   },
   {
    "duration": 0,
    "start_time": "2023-08-05T05:38:27.973Z"
   },
   {
    "duration": 0,
    "start_time": "2023-08-05T05:38:27.974Z"
   },
   {
    "duration": 0,
    "start_time": "2023-08-05T05:38:27.975Z"
   },
   {
    "duration": 0,
    "start_time": "2023-08-05T05:38:27.976Z"
   },
   {
    "duration": 0,
    "start_time": "2023-08-05T05:38:27.977Z"
   },
   {
    "duration": 0,
    "start_time": "2023-08-05T05:38:27.978Z"
   },
   {
    "duration": 0,
    "start_time": "2023-08-05T05:38:27.979Z"
   },
   {
    "duration": 0,
    "start_time": "2023-08-05T05:38:27.980Z"
   },
   {
    "duration": 0,
    "start_time": "2023-08-05T05:38:27.981Z"
   },
   {
    "duration": 0,
    "start_time": "2023-08-05T05:38:27.982Z"
   },
   {
    "duration": 0,
    "start_time": "2023-08-05T05:38:27.983Z"
   },
   {
    "duration": 0,
    "start_time": "2023-08-05T05:38:27.984Z"
   },
   {
    "duration": 0,
    "start_time": "2023-08-05T05:38:27.985Z"
   },
   {
    "duration": 0,
    "start_time": "2023-08-05T05:38:27.986Z"
   },
   {
    "duration": 0,
    "start_time": "2023-08-05T05:38:27.987Z"
   },
   {
    "duration": 0,
    "start_time": "2023-08-05T05:38:27.988Z"
   },
   {
    "duration": 0,
    "start_time": "2023-08-05T05:38:27.989Z"
   },
   {
    "duration": 0,
    "start_time": "2023-08-05T05:38:27.990Z"
   },
   {
    "duration": 0,
    "start_time": "2023-08-05T05:38:27.991Z"
   },
   {
    "duration": 0,
    "start_time": "2023-08-05T05:38:27.992Z"
   },
   {
    "duration": 0,
    "start_time": "2023-08-05T05:38:27.993Z"
   },
   {
    "duration": 0,
    "start_time": "2023-08-05T05:38:27.994Z"
   },
   {
    "duration": 0,
    "start_time": "2023-08-05T05:38:27.995Z"
   },
   {
    "duration": 0,
    "start_time": "2023-08-05T05:38:27.996Z"
   },
   {
    "duration": 0,
    "start_time": "2023-08-05T05:38:27.998Z"
   },
   {
    "duration": 0,
    "start_time": "2023-08-05T05:38:27.999Z"
   },
   {
    "duration": 0,
    "start_time": "2023-08-05T05:38:28.000Z"
   },
   {
    "duration": 15,
    "start_time": "2023-08-05T05:38:54.595Z"
   },
   {
    "duration": 3,
    "start_time": "2023-08-05T05:42:19.921Z"
   },
   {
    "duration": 20,
    "start_time": "2023-08-05T05:43:07.716Z"
   },
   {
    "duration": 3,
    "start_time": "2023-08-05T05:43:33.792Z"
   },
   {
    "duration": 19,
    "start_time": "2023-08-05T05:43:36.810Z"
   },
   {
    "duration": 15,
    "start_time": "2023-08-05T05:45:16.487Z"
   },
   {
    "duration": 27,
    "start_time": "2023-08-05T05:47:43.838Z"
   },
   {
    "duration": 16,
    "start_time": "2023-08-05T05:48:56.643Z"
   },
   {
    "duration": 9,
    "start_time": "2023-08-05T05:49:16.995Z"
   },
   {
    "duration": 7,
    "start_time": "2023-08-05T05:49:22.710Z"
   },
   {
    "duration": 11,
    "start_time": "2023-08-05T05:49:28.071Z"
   },
   {
    "duration": 16,
    "start_time": "2023-08-05T05:49:57.581Z"
   },
   {
    "duration": 3,
    "start_time": "2023-08-05T05:51:32.297Z"
   },
   {
    "duration": 158,
    "start_time": "2023-08-05T05:51:35.377Z"
   },
   {
    "duration": 3,
    "start_time": "2023-08-05T05:52:23.732Z"
   },
   {
    "duration": 146,
    "start_time": "2023-08-05T05:52:36.250Z"
   },
   {
    "duration": 3,
    "start_time": "2023-08-05T05:52:47.551Z"
   },
   {
    "duration": 258,
    "start_time": "2023-08-05T05:52:53.682Z"
   },
   {
    "duration": 3,
    "start_time": "2023-08-05T05:53:00.031Z"
   },
   {
    "duration": 51,
    "start_time": "2023-08-05T05:53:02.525Z"
   },
   {
    "duration": 4,
    "start_time": "2023-08-05T05:57:10.534Z"
   },
   {
    "duration": 62,
    "start_time": "2023-08-05T05:57:14.766Z"
   },
   {
    "duration": 6,
    "start_time": "2023-08-05T05:57:20.671Z"
   },
   {
    "duration": 187,
    "start_time": "2023-08-05T05:57:23.261Z"
   },
   {
    "duration": 3,
    "start_time": "2023-08-05T05:59:51.043Z"
   },
   {
    "duration": 21,
    "start_time": "2023-08-05T05:59:52.842Z"
   },
   {
    "duration": 3,
    "start_time": "2023-08-05T06:00:11.102Z"
   },
   {
    "duration": 15,
    "start_time": "2023-08-05T06:00:13.548Z"
   },
   {
    "duration": 3,
    "start_time": "2023-08-05T06:01:44.484Z"
   },
   {
    "duration": 15,
    "start_time": "2023-08-05T06:01:46.683Z"
   },
   {
    "duration": 3,
    "start_time": "2023-08-05T06:04:58.703Z"
   },
   {
    "duration": 3,
    "start_time": "2023-08-05T06:05:11.207Z"
   },
   {
    "duration": 15,
    "start_time": "2023-08-05T06:05:13.950Z"
   },
   {
    "duration": 14,
    "start_time": "2023-08-05T06:09:03.619Z"
   },
   {
    "duration": 15,
    "start_time": "2023-08-05T06:09:17.894Z"
   },
   {
    "duration": 13,
    "start_time": "2023-08-05T06:09:52.559Z"
   },
   {
    "duration": 9,
    "start_time": "2023-08-05T06:10:39.982Z"
   },
   {
    "duration": 3,
    "start_time": "2023-08-05T06:10:44.228Z"
   },
   {
    "duration": 7,
    "start_time": "2023-08-05T06:10:46.153Z"
   },
   {
    "duration": 15,
    "start_time": "2023-08-05T06:11:08.407Z"
   },
   {
    "duration": 16,
    "start_time": "2023-08-05T06:15:22.643Z"
   },
   {
    "duration": 3,
    "start_time": "2023-08-05T06:15:44.333Z"
   },
   {
    "duration": 14,
    "start_time": "2023-08-05T06:15:46.595Z"
   },
   {
    "duration": 1061,
    "start_time": "2023-08-05T06:16:02.251Z"
   },
   {
    "duration": 66,
    "start_time": "2023-08-05T06:16:03.313Z"
   },
   {
    "duration": 12,
    "start_time": "2023-08-05T06:16:03.380Z"
   },
   {
    "duration": 22,
    "start_time": "2023-08-05T06:16:03.393Z"
   },
   {
    "duration": 104,
    "start_time": "2023-08-05T06:16:03.417Z"
   },
   {
    "duration": 0,
    "start_time": "2023-08-05T06:16:03.523Z"
   },
   {
    "duration": 0,
    "start_time": "2023-08-05T06:16:03.523Z"
   },
   {
    "duration": 0,
    "start_time": "2023-08-05T06:16:03.524Z"
   },
   {
    "duration": 0,
    "start_time": "2023-08-05T06:16:03.525Z"
   },
   {
    "duration": 0,
    "start_time": "2023-08-05T06:16:03.526Z"
   },
   {
    "duration": 0,
    "start_time": "2023-08-05T06:16:03.527Z"
   },
   {
    "duration": 0,
    "start_time": "2023-08-05T06:16:03.528Z"
   },
   {
    "duration": 0,
    "start_time": "2023-08-05T06:16:03.529Z"
   },
   {
    "duration": 0,
    "start_time": "2023-08-05T06:16:03.530Z"
   },
   {
    "duration": 0,
    "start_time": "2023-08-05T06:16:03.531Z"
   },
   {
    "duration": 0,
    "start_time": "2023-08-05T06:16:03.532Z"
   },
   {
    "duration": 0,
    "start_time": "2023-08-05T06:16:03.533Z"
   },
   {
    "duration": 0,
    "start_time": "2023-08-05T06:16:03.534Z"
   },
   {
    "duration": 0,
    "start_time": "2023-08-05T06:16:03.535Z"
   },
   {
    "duration": 0,
    "start_time": "2023-08-05T06:16:03.535Z"
   },
   {
    "duration": 0,
    "start_time": "2023-08-05T06:16:03.536Z"
   },
   {
    "duration": 0,
    "start_time": "2023-08-05T06:16:03.537Z"
   },
   {
    "duration": 0,
    "start_time": "2023-08-05T06:16:03.538Z"
   },
   {
    "duration": 0,
    "start_time": "2023-08-05T06:16:03.539Z"
   },
   {
    "duration": 0,
    "start_time": "2023-08-05T06:16:03.540Z"
   },
   {
    "duration": 0,
    "start_time": "2023-08-05T06:16:03.541Z"
   },
   {
    "duration": 0,
    "start_time": "2023-08-05T06:16:03.542Z"
   },
   {
    "duration": 0,
    "start_time": "2023-08-05T06:16:03.543Z"
   },
   {
    "duration": 0,
    "start_time": "2023-08-05T06:16:03.544Z"
   },
   {
    "duration": 0,
    "start_time": "2023-08-05T06:16:03.574Z"
   },
   {
    "duration": 0,
    "start_time": "2023-08-05T06:16:03.575Z"
   },
   {
    "duration": 0,
    "start_time": "2023-08-05T06:16:03.577Z"
   },
   {
    "duration": 0,
    "start_time": "2023-08-05T06:16:03.578Z"
   },
   {
    "duration": 3,
    "start_time": "2023-08-05T06:16:47.586Z"
   },
   {
    "duration": 14,
    "start_time": "2023-08-05T06:16:49.445Z"
   },
   {
    "duration": 15,
    "start_time": "2023-08-05T06:17:08.196Z"
   },
   {
    "duration": 4,
    "start_time": "2023-08-05T06:18:44.487Z"
   },
   {
    "duration": 1833,
    "start_time": "2023-08-05T06:18:44.554Z"
   },
   {
    "duration": 3,
    "start_time": "2023-08-05T06:18:52.394Z"
   },
   {
    "duration": 1959,
    "start_time": "2023-08-05T06:18:54.587Z"
   },
   {
    "duration": 143,
    "start_time": "2023-08-05T06:19:37.286Z"
   },
   {
    "duration": 3,
    "start_time": "2023-08-05T06:19:45.246Z"
   },
   {
    "duration": 146,
    "start_time": "2023-08-05T06:19:48.570Z"
   },
   {
    "duration": 15,
    "start_time": "2023-08-05T06:20:03.877Z"
   },
   {
    "duration": 12,
    "start_time": "2023-08-05T06:20:12.589Z"
   },
   {
    "duration": 3,
    "start_time": "2023-08-05T06:20:18.770Z"
   },
   {
    "duration": 10,
    "start_time": "2023-08-05T06:20:20.947Z"
   },
   {
    "duration": 10,
    "start_time": "2023-08-05T06:20:36.622Z"
   },
   {
    "duration": 9,
    "start_time": "2023-08-05T06:20:42.194Z"
   },
   {
    "duration": 10,
    "start_time": "2023-08-05T06:20:42.284Z"
   },
   {
    "duration": 5,
    "start_time": "2023-08-05T06:20:54.229Z"
   },
   {
    "duration": 12,
    "start_time": "2023-08-05T06:20:56.102Z"
   },
   {
    "duration": 12,
    "start_time": "2023-08-05T06:21:06.568Z"
   },
   {
    "duration": 46,
    "start_time": "2023-08-05T06:21:14.007Z"
   },
   {
    "duration": 14,
    "start_time": "2023-08-05T06:21:20.996Z"
   },
   {
    "duration": 3,
    "start_time": "2023-08-05T06:21:29.961Z"
   },
   {
    "duration": 9,
    "start_time": "2023-08-05T06:21:33.603Z"
   },
   {
    "duration": 123,
    "start_time": "2023-08-05T06:24:29.940Z"
   },
   {
    "duration": 105,
    "start_time": "2023-08-05T06:24:36.828Z"
   },
   {
    "duration": 127,
    "start_time": "2023-08-05T06:24:46.586Z"
   },
   {
    "duration": 3,
    "start_time": "2023-08-05T06:25:03.323Z"
   },
   {
    "duration": 11,
    "start_time": "2023-08-05T06:25:03.399Z"
   },
   {
    "duration": 13,
    "start_time": "2023-08-05T06:25:06.152Z"
   },
   {
    "duration": 11,
    "start_time": "2023-08-05T06:25:06.234Z"
   },
   {
    "duration": 12,
    "start_time": "2023-08-05T06:25:16.378Z"
   },
   {
    "duration": 11,
    "start_time": "2023-08-05T06:25:25.075Z"
   },
   {
    "duration": 12,
    "start_time": "2023-08-05T06:25:26.924Z"
   },
   {
    "duration": 3,
    "start_time": "2023-08-05T06:25:34.989Z"
   },
   {
    "duration": 271,
    "start_time": "2023-08-05T06:25:43.687Z"
   },
   {
    "duration": 10,
    "start_time": "2023-08-05T06:25:51.158Z"
   },
   {
    "duration": 116,
    "start_time": "2023-08-05T06:26:04.311Z"
   },
   {
    "duration": 3,
    "start_time": "2023-08-05T06:26:17.455Z"
   },
   {
    "duration": 100,
    "start_time": "2023-08-05T06:28:29.831Z"
   },
   {
    "duration": 9,
    "start_time": "2023-08-05T06:28:32.087Z"
   },
   {
    "duration": 119,
    "start_time": "2023-08-05T06:28:38.065Z"
   },
   {
    "duration": 3,
    "start_time": "2023-08-05T06:28:59.194Z"
   },
   {
    "duration": 157,
    "start_time": "2023-08-05T06:29:05.373Z"
   },
   {
    "duration": 9,
    "start_time": "2023-08-05T06:29:16.478Z"
   },
   {
    "duration": 3,
    "start_time": "2023-08-05T06:29:57.510Z"
   },
   {
    "duration": 11,
    "start_time": "2023-08-05T06:30:00.104Z"
   },
   {
    "duration": 3,
    "start_time": "2023-08-05T06:30:09.836Z"
   },
   {
    "duration": 12,
    "start_time": "2023-08-05T06:30:12.906Z"
   },
   {
    "duration": 3,
    "start_time": "2023-08-05T06:30:18.055Z"
   },
   {
    "duration": 9,
    "start_time": "2023-08-05T06:30:19.859Z"
   },
   {
    "duration": 3,
    "start_time": "2023-08-05T06:33:20.455Z"
   },
   {
    "duration": 5,
    "start_time": "2023-08-05T06:35:31.261Z"
   },
   {
    "duration": 5,
    "start_time": "2023-08-05T06:35:41.987Z"
   },
   {
    "duration": 7,
    "start_time": "2023-08-05T06:36:02.655Z"
   },
   {
    "duration": 6,
    "start_time": "2023-08-05T06:38:53.296Z"
   },
   {
    "duration": 9,
    "start_time": "2023-08-05T06:41:50.206Z"
   },
   {
    "duration": 12,
    "start_time": "2023-08-05T06:41:55.687Z"
   },
   {
    "duration": 6,
    "start_time": "2023-08-05T06:41:58.754Z"
   },
   {
    "duration": 10,
    "start_time": "2023-08-05T06:41:58.819Z"
   },
   {
    "duration": 18,
    "start_time": "2023-08-05T06:42:04.874Z"
   },
   {
    "duration": 13,
    "start_time": "2023-08-05T06:42:26.803Z"
   },
   {
    "duration": 13,
    "start_time": "2023-08-05T06:42:32.799Z"
   },
   {
    "duration": 6,
    "start_time": "2023-08-05T06:42:44.991Z"
   },
   {
    "duration": 6,
    "start_time": "2023-08-05T06:42:48.286Z"
   },
   {
    "duration": 6,
    "start_time": "2023-08-05T06:43:12.049Z"
   },
   {
    "duration": 6,
    "start_time": "2023-08-05T06:43:50.659Z"
   },
   {
    "duration": 4,
    "start_time": "2023-08-05T06:44:03.913Z"
   },
   {
    "duration": 5,
    "start_time": "2023-08-05T06:44:12.159Z"
   },
   {
    "duration": 114,
    "start_time": "2023-08-05T06:49:01.688Z"
   },
   {
    "duration": 5,
    "start_time": "2023-08-05T06:49:11.050Z"
   },
   {
    "duration": 3,
    "start_time": "2023-08-05T06:51:33.011Z"
   },
   {
    "duration": 5,
    "start_time": "2023-08-05T06:52:59.551Z"
   },
   {
    "duration": 5,
    "start_time": "2023-08-05T06:53:24.504Z"
   },
   {
    "duration": 169,
    "start_time": "2023-08-05T06:53:41.488Z"
   },
   {
    "duration": 9,
    "start_time": "2023-08-05T07:00:47.931Z"
   },
   {
    "duration": 6,
    "start_time": "2023-08-05T07:00:55.791Z"
   },
   {
    "duration": 5,
    "start_time": "2023-08-05T07:01:04.738Z"
   },
   {
    "duration": 7,
    "start_time": "2023-08-05T07:01:17.787Z"
   },
   {
    "duration": 5,
    "start_time": "2023-08-05T07:02:46.805Z"
   },
   {
    "duration": 6,
    "start_time": "2023-08-05T07:02:49.417Z"
   },
   {
    "duration": 12,
    "start_time": "2023-08-05T07:04:15.196Z"
   },
   {
    "duration": 24,
    "start_time": "2023-08-05T07:04:54.467Z"
   },
   {
    "duration": 6,
    "start_time": "2023-08-05T07:06:00.052Z"
   },
   {
    "duration": 5,
    "start_time": "2023-08-05T07:07:27.889Z"
   },
   {
    "duration": 95,
    "start_time": "2023-08-05T07:10:04.914Z"
   },
   {
    "duration": 156,
    "start_time": "2023-08-05T07:10:12.863Z"
   },
   {
    "duration": 176,
    "start_time": "2023-08-05T07:10:18.629Z"
   },
   {
    "duration": 7,
    "start_time": "2023-08-05T07:18:42.999Z"
   },
   {
    "duration": 5,
    "start_time": "2023-08-05T07:19:00.992Z"
   },
   {
    "duration": 6,
    "start_time": "2023-08-05T07:19:06.288Z"
   },
   {
    "duration": 150,
    "start_time": "2023-08-05T07:19:06.386Z"
   },
   {
    "duration": 7,
    "start_time": "2023-08-05T07:20:50.988Z"
   },
   {
    "duration": 28,
    "start_time": "2023-08-05T07:28:21.665Z"
   },
   {
    "duration": 8,
    "start_time": "2023-08-05T07:29:35.804Z"
   },
   {
    "duration": 8,
    "start_time": "2023-08-05T07:30:29.889Z"
   },
   {
    "duration": 20,
    "start_time": "2023-08-05T07:36:21.567Z"
   },
   {
    "duration": 8,
    "start_time": "2023-08-05T07:36:55.593Z"
   },
   {
    "duration": 18,
    "start_time": "2023-08-05T07:37:12.869Z"
   },
   {
    "duration": 9,
    "start_time": "2023-08-05T07:37:17.022Z"
   },
   {
    "duration": 8,
    "start_time": "2023-08-05T07:37:23.110Z"
   },
   {
    "duration": 8,
    "start_time": "2023-08-05T07:39:07.723Z"
   },
   {
    "duration": 14,
    "start_time": "2023-08-05T07:39:29.488Z"
   },
   {
    "duration": 20,
    "start_time": "2023-08-05T07:41:49.667Z"
   },
   {
    "duration": 12,
    "start_time": "2023-08-05T07:42:16.479Z"
   },
   {
    "duration": 182,
    "start_time": "2023-08-05T07:42:52.573Z"
   },
   {
    "duration": 2041,
    "start_time": "2023-08-05T07:47:27.061Z"
   },
   {
    "duration": 2432,
    "start_time": "2023-08-05T07:48:06.202Z"
   },
   {
    "duration": 9,
    "start_time": "2023-08-05T07:49:29.187Z"
   },
   {
    "duration": 9,
    "start_time": "2023-08-05T07:49:54.908Z"
   },
   {
    "duration": 9,
    "start_time": "2023-08-05T07:50:05.628Z"
   },
   {
    "duration": 11,
    "start_time": "2023-08-05T07:50:53.794Z"
   },
   {
    "duration": 8,
    "start_time": "2023-08-05T07:51:11.138Z"
   },
   {
    "duration": 134,
    "start_time": "2023-08-05T08:07:33.987Z"
   },
   {
    "duration": 127,
    "start_time": "2023-08-05T08:07:49.854Z"
   },
   {
    "duration": 14,
    "start_time": "2023-08-05T08:13:19.224Z"
   },
   {
    "duration": 17,
    "start_time": "2023-08-05T08:14:22.782Z"
   },
   {
    "duration": 34,
    "start_time": "2023-08-05T08:16:24.168Z"
   },
   {
    "duration": 4,
    "start_time": "2023-08-05T08:17:01.323Z"
   },
   {
    "duration": 4,
    "start_time": "2023-08-05T08:17:39.963Z"
   },
   {
    "duration": 8,
    "start_time": "2023-08-05T08:17:49.087Z"
   },
   {
    "duration": 7,
    "start_time": "2023-08-05T08:19:13.096Z"
   },
   {
    "duration": 8,
    "start_time": "2023-08-05T08:19:29.493Z"
   },
   {
    "duration": 14,
    "start_time": "2023-08-05T08:19:33.018Z"
   },
   {
    "duration": 6,
    "start_time": "2023-08-05T08:25:55.853Z"
   },
   {
    "duration": 134,
    "start_time": "2023-08-05T08:27:22.909Z"
   },
   {
    "duration": 161,
    "start_time": "2023-08-05T08:28:00.147Z"
   },
   {
    "duration": 133,
    "start_time": "2023-08-05T08:28:32.112Z"
   },
   {
    "duration": 147,
    "start_time": "2023-08-05T08:28:44.443Z"
   },
   {
    "duration": 204,
    "start_time": "2023-08-05T08:31:14.816Z"
   },
   {
    "duration": 186,
    "start_time": "2023-08-05T08:31:49.936Z"
   },
   {
    "duration": 1558,
    "start_time": "2023-08-05T13:08:41.275Z"
   },
   {
    "duration": 707,
    "start_time": "2023-08-05T13:08:42.836Z"
   },
   {
    "duration": 25,
    "start_time": "2023-08-05T13:08:43.545Z"
   },
   {
    "duration": 13,
    "start_time": "2023-08-05T13:08:43.574Z"
   },
   {
    "duration": 20,
    "start_time": "2023-08-05T13:08:43.590Z"
   },
   {
    "duration": 16,
    "start_time": "2023-08-05T13:08:43.612Z"
   },
   {
    "duration": 12,
    "start_time": "2023-08-05T13:08:43.630Z"
   },
   {
    "duration": 17,
    "start_time": "2023-08-05T13:08:43.644Z"
   },
   {
    "duration": 37,
    "start_time": "2023-08-05T13:08:43.663Z"
   },
   {
    "duration": 15,
    "start_time": "2023-08-05T13:08:43.703Z"
   },
   {
    "duration": 8,
    "start_time": "2023-08-05T13:08:43.720Z"
   },
   {
    "duration": 13,
    "start_time": "2023-08-05T13:08:43.730Z"
   },
   {
    "duration": 13,
    "start_time": "2023-08-05T13:08:43.761Z"
   },
   {
    "duration": 17,
    "start_time": "2023-08-05T13:08:43.777Z"
   },
   {
    "duration": 9,
    "start_time": "2023-08-05T13:08:43.796Z"
   },
   {
    "duration": 8,
    "start_time": "2023-08-05T13:08:43.808Z"
   },
   {
    "duration": 9,
    "start_time": "2023-08-05T13:08:43.818Z"
   },
   {
    "duration": 52,
    "start_time": "2023-08-05T13:08:43.846Z"
   },
   {
    "duration": 8,
    "start_time": "2023-08-05T13:08:43.900Z"
   },
   {
    "duration": 6,
    "start_time": "2023-08-05T13:08:43.910Z"
   },
   {
    "duration": 195,
    "start_time": "2023-08-05T13:08:43.917Z"
   },
   {
    "duration": 153,
    "start_time": "2023-08-05T13:08:44.115Z"
   },
   {
    "duration": 234,
    "start_time": "2023-08-05T13:08:44.278Z"
   },
   {
    "duration": 236,
    "start_time": "2023-08-05T13:08:44.514Z"
   },
   {
    "duration": 222,
    "start_time": "2023-08-05T13:08:44.753Z"
   },
   {
    "duration": 35,
    "start_time": "2023-08-05T13:08:44.976Z"
   },
   {
    "duration": 24,
    "start_time": "2023-08-05T13:08:45.013Z"
   },
   {
    "duration": 56,
    "start_time": "2023-08-05T13:08:45.040Z"
   },
   {
    "duration": 222,
    "start_time": "2023-08-05T13:08:45.098Z"
   },
   {
    "duration": 221,
    "start_time": "2023-08-05T13:08:45.322Z"
   },
   {
    "duration": 190,
    "start_time": "2023-08-05T13:08:45.544Z"
   },
   {
    "duration": 214,
    "start_time": "2023-08-05T13:08:45.736Z"
   },
   {
    "duration": 358,
    "start_time": "2023-08-05T13:08:45.956Z"
   },
   {
    "duration": 4,
    "start_time": "2023-08-05T13:08:46.315Z"
   },
   {
    "duration": 79,
    "start_time": "2023-08-05T13:08:46.321Z"
   },
   {
    "duration": 7,
    "start_time": "2023-08-05T13:08:46.401Z"
   },
   {
    "duration": 13,
    "start_time": "2023-08-05T13:08:46.410Z"
   },
   {
    "duration": 10,
    "start_time": "2023-08-05T13:08:46.425Z"
   },
   {
    "duration": 227,
    "start_time": "2023-08-05T13:20:57.986Z"
   },
   {
    "duration": 273,
    "start_time": "2023-08-05T13:23:18.171Z"
   },
   {
    "duration": 189,
    "start_time": "2023-08-05T13:23:40.812Z"
   },
   {
    "duration": 170,
    "start_time": "2023-08-05T14:03:47.294Z"
   },
   {
    "duration": 178,
    "start_time": "2023-08-05T14:04:43.600Z"
   },
   {
    "duration": 206,
    "start_time": "2023-08-05T14:05:08.541Z"
   },
   {
    "duration": 147,
    "start_time": "2023-08-05T14:05:16.979Z"
   },
   {
    "duration": 589,
    "start_time": "2023-08-05T14:09:07.437Z"
   },
   {
    "duration": 683,
    "start_time": "2023-08-05T14:09:20.919Z"
   },
   {
    "duration": 164,
    "start_time": "2023-08-05T14:09:50.385Z"
   },
   {
    "duration": 182,
    "start_time": "2023-08-05T14:10:01.129Z"
   },
   {
    "duration": 164,
    "start_time": "2023-08-05T14:10:24.282Z"
   },
   {
    "duration": 160,
    "start_time": "2023-08-05T14:13:22.585Z"
   },
   {
    "duration": 204,
    "start_time": "2023-08-05T14:44:23.093Z"
   },
   {
    "duration": 6,
    "start_time": "2023-08-05T15:02:12.085Z"
   },
   {
    "duration": 7,
    "start_time": "2023-08-05T15:02:32.443Z"
   },
   {
    "duration": 6,
    "start_time": "2023-08-05T15:05:13.248Z"
   },
   {
    "duration": 105,
    "start_time": "2023-08-05T15:09:56.492Z"
   },
   {
    "duration": 95,
    "start_time": "2023-08-05T15:10:08.136Z"
   },
   {
    "duration": 141,
    "start_time": "2023-08-05T15:22:15.878Z"
   },
   {
    "duration": 141,
    "start_time": "2023-08-05T15:22:44.273Z"
   },
   {
    "duration": 116,
    "start_time": "2023-08-05T15:23:21.383Z"
   },
   {
    "duration": 337,
    "start_time": "2023-08-05T15:23:33.832Z"
   },
   {
    "duration": 148,
    "start_time": "2023-08-05T15:23:41.643Z"
   },
   {
    "duration": 136,
    "start_time": "2023-08-05T15:23:49.782Z"
   },
   {
    "duration": 120,
    "start_time": "2023-08-05T15:23:56.323Z"
   },
   {
    "duration": 144,
    "start_time": "2023-08-05T15:24:02.343Z"
   },
   {
    "duration": 110,
    "start_time": "2023-08-05T15:24:07.897Z"
   },
   {
    "duration": 160,
    "start_time": "2023-08-05T15:24:15.339Z"
   },
   {
    "duration": 155,
    "start_time": "2023-08-05T15:24:25.832Z"
   },
   {
    "duration": 146,
    "start_time": "2023-08-05T15:24:48.208Z"
   },
   {
    "duration": 127,
    "start_time": "2023-08-05T15:24:58.894Z"
   },
   {
    "duration": 132,
    "start_time": "2023-08-05T15:25:03.804Z"
   },
   {
    "duration": 130,
    "start_time": "2023-08-05T15:25:09.092Z"
   },
   {
    "duration": 116,
    "start_time": "2023-08-05T15:25:15.765Z"
   },
   {
    "duration": 107,
    "start_time": "2023-08-05T15:25:21.096Z"
   },
   {
    "duration": 210,
    "start_time": "2023-08-05T15:25:26.731Z"
   },
   {
    "duration": 112,
    "start_time": "2023-08-05T15:25:33.076Z"
   },
   {
    "duration": 99,
    "start_time": "2023-08-05T15:25:39.284Z"
   },
   {
    "duration": 102,
    "start_time": "2023-08-05T15:25:45.593Z"
   },
   {
    "duration": 156,
    "start_time": "2023-08-05T15:25:52.954Z"
   },
   {
    "duration": 124,
    "start_time": "2023-08-05T15:25:57.480Z"
   },
   {
    "duration": 223,
    "start_time": "2023-08-05T16:13:17.085Z"
   },
   {
    "duration": 12,
    "start_time": "2023-08-05T16:20:49.379Z"
   },
   {
    "duration": 12,
    "start_time": "2023-08-05T16:21:07.782Z"
   },
   {
    "duration": 284,
    "start_time": "2023-08-05T16:22:17.655Z"
   },
   {
    "duration": 277,
    "start_time": "2023-08-05T16:22:36.946Z"
   },
   {
    "duration": 322,
    "start_time": "2023-08-05T16:23:21.022Z"
   },
   {
    "duration": 278,
    "start_time": "2023-08-05T16:23:30.401Z"
   },
   {
    "duration": 553,
    "start_time": "2023-08-05T16:24:02.018Z"
   },
   {
    "duration": 251,
    "start_time": "2023-08-05T16:24:17.544Z"
   },
   {
    "duration": 352,
    "start_time": "2023-08-05T16:24:48.899Z"
   },
   {
    "duration": 299,
    "start_time": "2023-08-05T16:25:10.937Z"
   },
   {
    "duration": 350,
    "start_time": "2023-08-05T16:25:18.450Z"
   },
   {
    "duration": 326,
    "start_time": "2023-08-05T16:25:53.585Z"
   },
   {
    "duration": 440,
    "start_time": "2023-08-05T16:26:13.357Z"
   },
   {
    "duration": 31,
    "start_time": "2023-08-05T16:27:20.446Z"
   },
   {
    "duration": 11,
    "start_time": "2023-08-05T16:31:11.823Z"
   },
   {
    "duration": 20,
    "start_time": "2023-08-05T16:32:19.598Z"
   },
   {
    "duration": 11,
    "start_time": "2023-08-05T16:32:53.634Z"
   },
   {
    "duration": 10,
    "start_time": "2023-08-05T16:33:09.942Z"
   },
   {
    "duration": 36,
    "start_time": "2023-08-05T16:34:11.872Z"
   },
   {
    "duration": 269,
    "start_time": "2023-08-05T16:38:37.034Z"
   },
   {
    "duration": 302,
    "start_time": "2023-08-05T16:38:51.473Z"
   },
   {
    "duration": 2535,
    "start_time": "2023-08-05T16:40:22.514Z"
   },
   {
    "duration": 35,
    "start_time": "2023-08-05T16:41:00.154Z"
   },
   {
    "duration": 378,
    "start_time": "2023-08-05T17:00:25.017Z"
   },
   {
    "duration": 23,
    "start_time": "2023-08-05T17:02:25.782Z"
   },
   {
    "duration": 51,
    "start_time": "2023-08-06T00:49:04.737Z"
   },
   {
    "duration": 1216,
    "start_time": "2023-08-06T00:49:24.210Z"
   },
   {
    "duration": 194,
    "start_time": "2023-08-06T00:49:25.428Z"
   },
   {
    "duration": 11,
    "start_time": "2023-08-06T00:49:25.624Z"
   },
   {
    "duration": 4,
    "start_time": "2023-08-06T00:49:25.637Z"
   },
   {
    "duration": 25,
    "start_time": "2023-08-06T00:49:25.642Z"
   },
   {
    "duration": 23,
    "start_time": "2023-08-06T00:49:25.668Z"
   },
   {
    "duration": 12,
    "start_time": "2023-08-06T00:49:25.692Z"
   },
   {
    "duration": 12,
    "start_time": "2023-08-06T00:49:25.706Z"
   },
   {
    "duration": 22,
    "start_time": "2023-08-06T00:49:25.719Z"
   },
   {
    "duration": 16,
    "start_time": "2023-08-06T00:49:25.743Z"
   },
   {
    "duration": 3,
    "start_time": "2023-08-06T00:49:25.760Z"
   },
   {
    "duration": 20,
    "start_time": "2023-08-06T00:49:25.765Z"
   },
   {
    "duration": 5,
    "start_time": "2023-08-06T00:49:25.786Z"
   },
   {
    "duration": 7,
    "start_time": "2023-08-06T00:49:25.793Z"
   },
   {
    "duration": 5,
    "start_time": "2023-08-06T00:49:25.802Z"
   },
   {
    "duration": 8,
    "start_time": "2023-08-06T00:49:25.808Z"
   },
   {
    "duration": 9,
    "start_time": "2023-08-06T00:49:25.817Z"
   },
   {
    "duration": 9,
    "start_time": "2023-08-06T00:49:25.827Z"
   },
   {
    "duration": 7,
    "start_time": "2023-08-06T00:49:25.838Z"
   },
   {
    "duration": 7,
    "start_time": "2023-08-06T00:49:25.846Z"
   },
   {
    "duration": 186,
    "start_time": "2023-08-06T00:49:25.855Z"
   },
   {
    "duration": 6,
    "start_time": "2023-08-06T00:49:26.043Z"
   },
   {
    "duration": 111,
    "start_time": "2023-08-06T00:49:26.050Z"
   },
   {
    "duration": 162,
    "start_time": "2023-08-06T00:49:26.163Z"
   },
   {
    "duration": 8,
    "start_time": "2023-08-06T00:49:26.328Z"
   },
   {
    "duration": 181,
    "start_time": "2023-08-06T00:49:26.338Z"
   },
   {
    "duration": 9,
    "start_time": "2023-08-06T00:49:26.520Z"
   },
   {
    "duration": 217,
    "start_time": "2023-08-06T00:49:26.533Z"
   },
   {
    "duration": 7,
    "start_time": "2023-08-06T00:49:26.752Z"
   },
   {
    "duration": 39,
    "start_time": "2023-08-06T00:49:26.761Z"
   },
   {
    "duration": 16,
    "start_time": "2023-08-06T00:49:26.802Z"
   },
   {
    "duration": 13,
    "start_time": "2023-08-06T00:49:26.819Z"
   },
   {
    "duration": 164,
    "start_time": "2023-08-06T00:49:26.833Z"
   },
   {
    "duration": 162,
    "start_time": "2023-08-06T00:49:26.998Z"
   },
   {
    "duration": 136,
    "start_time": "2023-08-06T00:49:27.161Z"
   },
   {
    "duration": 152,
    "start_time": "2023-08-06T00:49:27.298Z"
   },
   {
    "duration": 234,
    "start_time": "2023-08-06T00:49:27.451Z"
   },
   {
    "duration": 8,
    "start_time": "2023-08-06T00:49:27.687Z"
   },
   {
    "duration": 37,
    "start_time": "2023-08-06T00:49:27.696Z"
   },
   {
    "duration": 8,
    "start_time": "2023-08-06T00:49:27.735Z"
   },
   {
    "duration": 7,
    "start_time": "2023-08-06T00:49:27.745Z"
   },
   {
    "duration": 15,
    "start_time": "2023-08-06T00:49:27.753Z"
   },
   {
    "duration": 170,
    "start_time": "2023-08-06T00:49:44.110Z"
   },
   {
    "duration": 672,
    "start_time": "2023-08-06T00:50:17.051Z"
   },
   {
    "duration": 177,
    "start_time": "2023-08-06T00:50:31.279Z"
   },
   {
    "duration": 169,
    "start_time": "2023-08-06T00:53:11.625Z"
   },
   {
    "duration": 169,
    "start_time": "2023-08-06T00:55:06.719Z"
   },
   {
    "duration": 102,
    "start_time": "2023-08-06T01:14:52.887Z"
   },
   {
    "duration": 9,
    "start_time": "2023-08-06T01:15:08.112Z"
   },
   {
    "duration": 13,
    "start_time": "2023-08-06T01:15:54.999Z"
   },
   {
    "duration": 12,
    "start_time": "2023-08-06T01:16:04.083Z"
   },
   {
    "duration": 9,
    "start_time": "2023-08-06T01:17:16.241Z"
   },
   {
    "duration": 4,
    "start_time": "2023-08-06T01:17:30.591Z"
   },
   {
    "duration": 9,
    "start_time": "2023-08-06T01:19:02.091Z"
   },
   {
    "duration": 15,
    "start_time": "2023-08-06T01:20:13.558Z"
   },
   {
    "duration": 14,
    "start_time": "2023-08-06T01:20:24.400Z"
   },
   {
    "duration": 168,
    "start_time": "2023-08-06T01:24:18.411Z"
   },
   {
    "duration": 161,
    "start_time": "2023-08-06T01:26:31.225Z"
   },
   {
    "duration": 157,
    "start_time": "2023-08-06T01:26:40.087Z"
   },
   {
    "duration": 154,
    "start_time": "2023-08-06T01:26:45.602Z"
   },
   {
    "duration": 168,
    "start_time": "2023-08-06T01:27:18.439Z"
   },
   {
    "duration": 147,
    "start_time": "2023-08-06T01:28:04.896Z"
   },
   {
    "duration": 261,
    "start_time": "2023-08-06T01:29:34.200Z"
   },
   {
    "duration": 175,
    "start_time": "2023-08-06T01:30:44.999Z"
   },
   {
    "duration": 182,
    "start_time": "2023-08-06T01:30:53.879Z"
   },
   {
    "duration": 147,
    "start_time": "2023-08-06T01:31:54.833Z"
   },
   {
    "duration": 142,
    "start_time": "2023-08-06T01:32:54.537Z"
   },
   {
    "duration": 226,
    "start_time": "2023-08-06T01:33:09.881Z"
   },
   {
    "duration": 191,
    "start_time": "2023-08-06T01:33:27.243Z"
   },
   {
    "duration": 219,
    "start_time": "2023-08-06T01:34:47.289Z"
   },
   {
    "duration": 320,
    "start_time": "2023-08-06T01:35:24.862Z"
   },
   {
    "duration": 246,
    "start_time": "2023-08-06T01:35:32.689Z"
   },
   {
    "duration": 257,
    "start_time": "2023-08-06T01:35:39.058Z"
   },
   {
    "duration": 249,
    "start_time": "2023-08-06T01:36:18.586Z"
   },
   {
    "duration": 260,
    "start_time": "2023-08-06T01:36:52.811Z"
   },
   {
    "duration": 312,
    "start_time": "2023-08-06T01:38:41.277Z"
   },
   {
    "duration": 176,
    "start_time": "2023-08-06T02:08:22.628Z"
   },
   {
    "duration": 6,
    "start_time": "2023-08-06T02:11:56.178Z"
   },
   {
    "duration": 806,
    "start_time": "2023-08-06T02:12:56.904Z"
   },
   {
    "duration": 7,
    "start_time": "2023-08-06T02:13:57.338Z"
   },
   {
    "duration": 790,
    "start_time": "2023-08-06T02:14:29.377Z"
   },
   {
    "duration": 7,
    "start_time": "2023-08-06T02:15:46.915Z"
   },
   {
    "duration": 4,
    "start_time": "2023-08-06T02:15:56.253Z"
   },
   {
    "duration": 144,
    "start_time": "2023-08-06T02:16:05.574Z"
   },
   {
    "duration": 260,
    "start_time": "2023-08-06T02:46:22.451Z"
   },
   {
    "duration": 4,
    "start_time": "2023-08-06T02:51:57.108Z"
   },
   {
    "duration": 198,
    "start_time": "2023-08-06T02:52:00.267Z"
   },
   {
    "duration": 1322,
    "start_time": "2023-08-06T09:34:08.181Z"
   },
   {
    "duration": 210,
    "start_time": "2023-08-06T09:34:09.505Z"
   },
   {
    "duration": 14,
    "start_time": "2023-08-06T09:34:09.716Z"
   },
   {
    "duration": 13,
    "start_time": "2023-08-06T09:34:09.732Z"
   },
   {
    "duration": 15,
    "start_time": "2023-08-06T09:34:09.746Z"
   },
   {
    "duration": 13,
    "start_time": "2023-08-06T09:34:09.763Z"
   },
   {
    "duration": 37,
    "start_time": "2023-08-06T09:34:09.778Z"
   },
   {
    "duration": 13,
    "start_time": "2023-08-06T09:34:09.817Z"
   },
   {
    "duration": 26,
    "start_time": "2023-08-06T09:34:09.832Z"
   },
   {
    "duration": 20,
    "start_time": "2023-08-06T09:34:09.861Z"
   },
   {
    "duration": 7,
    "start_time": "2023-08-06T09:34:09.883Z"
   },
   {
    "duration": 25,
    "start_time": "2023-08-06T09:34:09.892Z"
   },
   {
    "duration": 12,
    "start_time": "2023-08-06T09:34:09.919Z"
   },
   {
    "duration": 11,
    "start_time": "2023-08-06T09:34:09.933Z"
   },
   {
    "duration": 13,
    "start_time": "2023-08-06T09:34:09.946Z"
   },
   {
    "duration": 10,
    "start_time": "2023-08-06T09:34:09.961Z"
   },
   {
    "duration": 34,
    "start_time": "2023-08-06T09:34:09.973Z"
   },
   {
    "duration": 23,
    "start_time": "2023-08-06T09:34:10.009Z"
   },
   {
    "duration": 27,
    "start_time": "2023-08-06T09:34:10.033Z"
   },
   {
    "duration": 21,
    "start_time": "2023-08-06T09:34:10.062Z"
   },
   {
    "duration": 190,
    "start_time": "2023-08-06T09:34:10.085Z"
   },
   {
    "duration": 6,
    "start_time": "2023-08-06T09:34:10.277Z"
   },
   {
    "duration": 128,
    "start_time": "2023-08-06T09:34:10.284Z"
   },
   {
    "duration": 209,
    "start_time": "2023-08-06T09:34:10.416Z"
   },
   {
    "duration": 9,
    "start_time": "2023-08-06T09:34:10.627Z"
   },
   {
    "duration": 204,
    "start_time": "2023-08-06T09:34:10.638Z"
   },
   {
    "duration": 10,
    "start_time": "2023-08-06T09:34:10.844Z"
   },
   {
    "duration": 201,
    "start_time": "2023-08-06T09:34:10.858Z"
   },
   {
    "duration": 9,
    "start_time": "2023-08-06T09:34:11.061Z"
   },
   {
    "duration": 41,
    "start_time": "2023-08-06T09:34:11.072Z"
   },
   {
    "duration": 4,
    "start_time": "2023-08-06T09:34:11.114Z"
   },
   {
    "duration": 12,
    "start_time": "2023-08-06T09:34:11.119Z"
   },
   {
    "duration": 16,
    "start_time": "2023-08-06T09:34:11.133Z"
   },
   {
    "duration": 14,
    "start_time": "2023-08-06T09:34:11.151Z"
   },
   {
    "duration": 259,
    "start_time": "2023-08-06T09:34:11.167Z"
   },
   {
    "duration": 264,
    "start_time": "2023-08-06T09:34:11.428Z"
   },
   {
    "duration": 7,
    "start_time": "2023-08-06T09:34:11.699Z"
   },
   {
    "duration": 1064,
    "start_time": "2023-08-06T09:34:11.708Z"
   },
   {
    "duration": 6,
    "start_time": "2023-08-06T09:34:12.774Z"
   },
   {
    "duration": 19,
    "start_time": "2023-08-06T09:34:12.782Z"
   },
   {
    "duration": 156,
    "start_time": "2023-08-06T09:34:12.803Z"
   },
   {
    "duration": 7,
    "start_time": "2023-08-06T09:34:12.961Z"
   },
   {
    "duration": 14,
    "start_time": "2023-08-06T09:34:12.969Z"
   },
   {
    "duration": 21,
    "start_time": "2023-08-06T09:34:12.984Z"
   },
   {
    "duration": 6,
    "start_time": "2023-08-06T09:42:56.323Z"
   },
   {
    "duration": 6,
    "start_time": "2023-08-06T09:49:27.072Z"
   },
   {
    "duration": 11,
    "start_time": "2023-08-06T09:57:33.837Z"
   },
   {
    "duration": 8,
    "start_time": "2023-08-06T11:24:54.178Z"
   },
   {
    "duration": 14,
    "start_time": "2023-08-06T11:24:57.315Z"
   },
   {
    "duration": 9,
    "start_time": "2023-08-06T11:26:10.569Z"
   },
   {
    "duration": 9,
    "start_time": "2023-08-06T11:26:13.065Z"
   },
   {
    "duration": 8,
    "start_time": "2023-08-06T11:46:44.528Z"
   },
   {
    "duration": 8,
    "start_time": "2023-08-06T11:47:19.581Z"
   },
   {
    "duration": 9,
    "start_time": "2023-08-06T11:49:22.035Z"
   },
   {
    "duration": 9,
    "start_time": "2023-08-06T11:49:26.733Z"
   },
   {
    "duration": 3,
    "start_time": "2023-08-06T13:12:44.917Z"
   },
   {
    "duration": 164,
    "start_time": "2023-08-06T13:13:13.081Z"
   },
   {
    "duration": 22,
    "start_time": "2023-08-06T13:13:24.383Z"
   },
   {
    "duration": 21,
    "start_time": "2023-08-06T13:13:48.242Z"
   },
   {
    "duration": 5,
    "start_time": "2023-08-06T13:14:07.630Z"
   },
   {
    "duration": 16,
    "start_time": "2023-08-06T13:14:10.827Z"
   },
   {
    "duration": 367,
    "start_time": "2023-08-06T13:14:20.474Z"
   },
   {
    "duration": 17,
    "start_time": "2023-08-06T13:14:31.230Z"
   },
   {
    "duration": 10,
    "start_time": "2023-08-06T13:14:56.183Z"
   },
   {
    "duration": 5,
    "start_time": "2023-08-06T13:17:10.329Z"
   },
   {
    "duration": 11,
    "start_time": "2023-08-06T13:17:26.446Z"
   },
   {
    "duration": 3,
    "start_time": "2023-08-06T13:17:51.050Z"
   },
   {
    "duration": 14,
    "start_time": "2023-08-06T13:17:53.671Z"
   },
   {
    "duration": 106,
    "start_time": "2023-08-06T13:18:47.586Z"
   },
   {
    "duration": 4,
    "start_time": "2023-08-06T13:19:10.223Z"
   },
   {
    "duration": 3,
    "start_time": "2023-08-06T13:26:42.244Z"
   },
   {
    "duration": 14,
    "start_time": "2023-08-06T13:26:45.729Z"
   },
   {
    "duration": 3,
    "start_time": "2023-08-06T13:49:19.947Z"
   },
   {
    "duration": 1360,
    "start_time": "2023-08-06T17:34:20.582Z"
   },
   {
    "duration": 341,
    "start_time": "2023-08-06T17:34:21.944Z"
   },
   {
    "duration": 18,
    "start_time": "2023-08-06T17:34:22.288Z"
   },
   {
    "duration": 15,
    "start_time": "2023-08-06T17:34:22.309Z"
   },
   {
    "duration": 15,
    "start_time": "2023-08-06T17:34:22.326Z"
   },
   {
    "duration": 29,
    "start_time": "2023-08-06T17:34:22.343Z"
   },
   {
    "duration": 11,
    "start_time": "2023-08-06T17:34:22.374Z"
   },
   {
    "duration": 10,
    "start_time": "2023-08-06T17:34:22.387Z"
   },
   {
    "duration": 17,
    "start_time": "2023-08-06T17:34:22.399Z"
   },
   {
    "duration": 5,
    "start_time": "2023-08-06T17:34:22.418Z"
   },
   {
    "duration": 19,
    "start_time": "2023-08-06T17:34:22.425Z"
   },
   {
    "duration": 7,
    "start_time": "2023-08-06T17:34:22.466Z"
   },
   {
    "duration": 12,
    "start_time": "2023-08-06T17:34:22.475Z"
   },
   {
    "duration": 6,
    "start_time": "2023-08-06T17:34:22.488Z"
   },
   {
    "duration": 4,
    "start_time": "2023-08-06T17:34:22.496Z"
   },
   {
    "duration": 6,
    "start_time": "2023-08-06T17:34:22.502Z"
   },
   {
    "duration": 18,
    "start_time": "2023-08-06T17:34:22.509Z"
   },
   {
    "duration": 4,
    "start_time": "2023-08-06T17:34:22.529Z"
   },
   {
    "duration": 33,
    "start_time": "2023-08-06T17:34:22.535Z"
   },
   {
    "duration": 207,
    "start_time": "2023-08-06T17:34:22.570Z"
   },
   {
    "duration": 7,
    "start_time": "2023-08-06T17:34:22.779Z"
   },
   {
    "duration": 128,
    "start_time": "2023-08-06T17:34:22.789Z"
   },
   {
    "duration": 222,
    "start_time": "2023-08-06T17:34:22.919Z"
   },
   {
    "duration": 10,
    "start_time": "2023-08-06T17:34:23.143Z"
   },
   {
    "duration": 236,
    "start_time": "2023-08-06T17:34:23.155Z"
   },
   {
    "duration": 10,
    "start_time": "2023-08-06T17:34:23.393Z"
   },
   {
    "duration": 215,
    "start_time": "2023-08-06T17:34:23.404Z"
   },
   {
    "duration": 9,
    "start_time": "2023-08-06T17:34:23.623Z"
   },
   {
    "duration": 98,
    "start_time": "2023-08-06T17:34:23.633Z"
   },
   {
    "duration": 5,
    "start_time": "2023-08-06T17:34:23.732Z"
   },
   {
    "duration": 26,
    "start_time": "2023-08-06T17:34:23.739Z"
   },
   {
    "duration": 36,
    "start_time": "2023-08-06T17:34:23.768Z"
   },
   {
    "duration": 16,
    "start_time": "2023-08-06T17:34:23.807Z"
   },
   {
    "duration": 359,
    "start_time": "2023-08-06T17:34:23.825Z"
   },
   {
    "duration": 12,
    "start_time": "2023-08-06T17:34:24.187Z"
   },
   {
    "duration": 24,
    "start_time": "2023-08-06T17:34:24.201Z"
   },
   {
    "duration": 379,
    "start_time": "2023-08-06T17:34:24.228Z"
   },
   {
    "duration": 19,
    "start_time": "2023-08-06T17:34:24.609Z"
   },
   {
    "duration": 22,
    "start_time": "2023-08-06T17:34:24.631Z"
   },
   {
    "duration": 16,
    "start_time": "2023-08-06T17:34:24.654Z"
   },
   {
    "duration": 1030,
    "start_time": "2023-08-06T17:34:24.671Z"
   },
   {
    "duration": 7,
    "start_time": "2023-08-06T17:34:25.703Z"
   },
   {
    "duration": 8,
    "start_time": "2023-08-06T17:34:25.712Z"
   },
   {
    "duration": 196,
    "start_time": "2023-08-06T17:34:25.722Z"
   },
   {
    "duration": 9,
    "start_time": "2023-08-06T17:34:25.919Z"
   },
   {
    "duration": 24,
    "start_time": "2023-08-06T17:34:25.930Z"
   },
   {
    "duration": 38,
    "start_time": "2023-08-06T17:34:25.956Z"
   },
   {
    "duration": 4,
    "start_time": "2023-08-06T17:36:30.863Z"
   },
   {
    "duration": 1038,
    "start_time": "2023-08-06T17:37:00.781Z"
   },
   {
    "duration": 10,
    "start_time": "2023-08-06T17:37:25.939Z"
   },
   {
    "duration": 10,
    "start_time": "2023-08-06T17:37:42.277Z"
   },
   {
    "duration": 4,
    "start_time": "2023-08-06T17:37:54.254Z"
   },
   {
    "duration": 7,
    "start_time": "2023-08-06T17:37:57.079Z"
   },
   {
    "duration": 3,
    "start_time": "2023-08-06T17:38:13.191Z"
   },
   {
    "duration": 12,
    "start_time": "2023-08-06T17:38:17.893Z"
   },
   {
    "duration": 3,
    "start_time": "2023-08-06T17:38:28.676Z"
   },
   {
    "duration": 10,
    "start_time": "2023-08-06T17:38:30.644Z"
   },
   {
    "duration": 97,
    "start_time": "2023-08-06T17:38:55.693Z"
   },
   {
    "duration": 4,
    "start_time": "2023-08-06T17:39:04.015Z"
   },
   {
    "duration": 11,
    "start_time": "2023-08-06T17:39:05.833Z"
   },
   {
    "duration": 3,
    "start_time": "2023-08-06T17:44:10.560Z"
   },
   {
    "duration": 19,
    "start_time": "2023-08-06T17:44:15.633Z"
   },
   {
    "duration": 66,
    "start_time": "2023-08-06T17:47:09.086Z"
   },
   {
    "duration": 10,
    "start_time": "2023-08-06T17:47:11.196Z"
   },
   {
    "duration": 1447,
    "start_time": "2023-08-07T01:03:17.662Z"
   },
   {
    "duration": 249,
    "start_time": "2023-08-07T01:03:19.120Z"
   },
   {
    "duration": 15,
    "start_time": "2023-08-07T01:03:19.370Z"
   },
   {
    "duration": 52,
    "start_time": "2023-08-07T01:03:19.388Z"
   },
   {
    "duration": 12,
    "start_time": "2023-08-07T01:03:19.442Z"
   },
   {
    "duration": 12,
    "start_time": "2023-08-07T01:03:19.455Z"
   },
   {
    "duration": 6,
    "start_time": "2023-08-07T01:03:19.469Z"
   },
   {
    "duration": 12,
    "start_time": "2023-08-07T01:03:19.476Z"
   },
   {
    "duration": 56,
    "start_time": "2023-08-07T01:03:19.490Z"
   },
   {
    "duration": 4,
    "start_time": "2023-08-07T01:03:19.549Z"
   },
   {
    "duration": 17,
    "start_time": "2023-08-07T01:03:19.555Z"
   },
   {
    "duration": 5,
    "start_time": "2023-08-07T01:03:19.574Z"
   },
   {
    "duration": 10,
    "start_time": "2023-08-07T01:03:19.581Z"
   },
   {
    "duration": 42,
    "start_time": "2023-08-07T01:03:19.593Z"
   },
   {
    "duration": 6,
    "start_time": "2023-08-07T01:03:19.638Z"
   },
   {
    "duration": 6,
    "start_time": "2023-08-07T01:03:19.646Z"
   },
   {
    "duration": 12,
    "start_time": "2023-08-07T01:03:19.654Z"
   },
   {
    "duration": 6,
    "start_time": "2023-08-07T01:03:19.667Z"
   },
   {
    "duration": 8,
    "start_time": "2023-08-07T01:03:19.675Z"
   },
   {
    "duration": 218,
    "start_time": "2023-08-07T01:03:19.684Z"
   },
   {
    "duration": 9,
    "start_time": "2023-08-07T01:03:19.904Z"
   },
   {
    "duration": 112,
    "start_time": "2023-08-07T01:03:19.920Z"
   },
   {
    "duration": 208,
    "start_time": "2023-08-07T01:03:20.035Z"
   },
   {
    "duration": 8,
    "start_time": "2023-08-07T01:03:20.245Z"
   },
   {
    "duration": 247,
    "start_time": "2023-08-07T01:03:20.254Z"
   },
   {
    "duration": 15,
    "start_time": "2023-08-07T01:03:20.503Z"
   },
   {
    "duration": 247,
    "start_time": "2023-08-07T01:03:20.524Z"
   },
   {
    "duration": 9,
    "start_time": "2023-08-07T01:03:20.775Z"
   },
   {
    "duration": 54,
    "start_time": "2023-08-07T01:03:20.795Z"
   },
   {
    "duration": 4,
    "start_time": "2023-08-07T01:03:20.851Z"
   },
   {
    "duration": 16,
    "start_time": "2023-08-07T01:03:20.857Z"
   },
   {
    "duration": 43,
    "start_time": "2023-08-07T01:03:20.875Z"
   },
   {
    "duration": 41,
    "start_time": "2023-08-07T01:03:20.924Z"
   },
   {
    "duration": 322,
    "start_time": "2023-08-07T01:03:20.967Z"
   },
   {
    "duration": 20,
    "start_time": "2023-08-07T01:03:21.291Z"
   },
   {
    "duration": 25,
    "start_time": "2023-08-07T01:03:21.320Z"
   },
   {
    "duration": 308,
    "start_time": "2023-08-07T01:03:21.347Z"
   },
   {
    "duration": 8,
    "start_time": "2023-08-07T01:03:21.657Z"
   },
   {
    "duration": 7,
    "start_time": "2023-08-07T01:03:21.666Z"
   },
   {
    "duration": 38,
    "start_time": "2023-08-07T01:03:21.675Z"
   },
   {
    "duration": 1087,
    "start_time": "2023-08-07T01:03:21.722Z"
   },
   {
    "duration": 14,
    "start_time": "2023-08-07T01:03:22.811Z"
   },
   {
    "duration": 17,
    "start_time": "2023-08-07T01:03:22.828Z"
   },
   {
    "duration": 176,
    "start_time": "2023-08-07T01:03:22.847Z"
   },
   {
    "duration": 12,
    "start_time": "2023-08-07T01:03:23.024Z"
   },
   {
    "duration": 23,
    "start_time": "2023-08-07T01:03:23.038Z"
   },
   {
    "duration": 28,
    "start_time": "2023-08-07T01:03:23.063Z"
   },
   {
    "duration": 53,
    "start_time": "2023-08-07T06:29:40.128Z"
   },
   {
    "duration": 1310,
    "start_time": "2023-08-07T06:29:46.012Z"
   },
   {
    "duration": 89,
    "start_time": "2023-08-07T06:29:47.324Z"
   },
   {
    "duration": 14,
    "start_time": "2023-08-07T06:29:47.415Z"
   },
   {
    "duration": 18,
    "start_time": "2023-08-07T06:29:47.432Z"
   },
   {
    "duration": 23,
    "start_time": "2023-08-07T06:29:47.451Z"
   },
   {
    "duration": 28,
    "start_time": "2023-08-07T06:29:47.480Z"
   },
   {
    "duration": 27,
    "start_time": "2023-08-07T06:29:47.510Z"
   },
   {
    "duration": 40,
    "start_time": "2023-08-07T06:29:47.539Z"
   },
   {
    "duration": 46,
    "start_time": "2023-08-07T06:29:47.581Z"
   },
   {
    "duration": 18,
    "start_time": "2023-08-07T06:29:47.630Z"
   },
   {
    "duration": 101,
    "start_time": "2023-08-07T06:29:47.650Z"
   },
   {
    "duration": 26,
    "start_time": "2023-08-07T06:29:47.754Z"
   },
   {
    "duration": 27,
    "start_time": "2023-08-07T06:29:47.788Z"
   },
   {
    "duration": 8,
    "start_time": "2023-08-07T06:29:47.817Z"
   },
   {
    "duration": 25,
    "start_time": "2023-08-07T06:29:47.827Z"
   },
   {
    "duration": 28,
    "start_time": "2023-08-07T06:29:47.854Z"
   },
   {
    "duration": 36,
    "start_time": "2023-08-07T06:29:47.883Z"
   },
   {
    "duration": 16,
    "start_time": "2023-08-07T06:29:47.921Z"
   },
   {
    "duration": 32,
    "start_time": "2023-08-07T06:29:47.940Z"
   },
   {
    "duration": 323,
    "start_time": "2023-08-07T06:29:47.974Z"
   },
   {
    "duration": 9,
    "start_time": "2023-08-07T06:29:48.302Z"
   },
   {
    "duration": 149,
    "start_time": "2023-08-07T06:29:48.313Z"
   },
   {
    "duration": 270,
    "start_time": "2023-08-07T06:29:48.464Z"
   },
   {
    "duration": 11,
    "start_time": "2023-08-07T06:29:48.737Z"
   },
   {
    "duration": 261,
    "start_time": "2023-08-07T06:29:48.751Z"
   },
   {
    "duration": 13,
    "start_time": "2023-08-07T06:29:49.014Z"
   },
   {
    "duration": 239,
    "start_time": "2023-08-07T06:29:49.030Z"
   },
   {
    "duration": 20,
    "start_time": "2023-08-07T06:29:49.273Z"
   },
   {
    "duration": 32,
    "start_time": "2023-08-07T06:29:49.298Z"
   },
   {
    "duration": 4,
    "start_time": "2023-08-07T06:29:49.332Z"
   },
   {
    "duration": 22,
    "start_time": "2023-08-07T06:29:49.337Z"
   },
   {
    "duration": 45,
    "start_time": "2023-08-07T06:29:49.361Z"
   },
   {
    "duration": 22,
    "start_time": "2023-08-07T06:29:49.411Z"
   },
   {
    "duration": 306,
    "start_time": "2023-08-07T06:29:49.435Z"
   },
   {
    "duration": 12,
    "start_time": "2023-08-07T06:29:49.743Z"
   },
   {
    "duration": 30,
    "start_time": "2023-08-07T06:29:49.757Z"
   },
   {
    "duration": 360,
    "start_time": "2023-08-07T06:29:49.792Z"
   },
   {
    "duration": 22,
    "start_time": "2023-08-07T06:29:50.154Z"
   },
   {
    "duration": 16,
    "start_time": "2023-08-07T06:29:50.183Z"
   },
   {
    "duration": 20,
    "start_time": "2023-08-07T06:29:50.201Z"
   },
   {
    "duration": 1091,
    "start_time": "2023-08-07T06:29:50.223Z"
   },
   {
    "duration": 10,
    "start_time": "2023-08-07T06:29:51.321Z"
   },
   {
    "duration": 22,
    "start_time": "2023-08-07T06:29:51.333Z"
   },
   {
    "duration": 210,
    "start_time": "2023-08-07T06:29:51.358Z"
   },
   {
    "duration": 10,
    "start_time": "2023-08-07T06:29:51.570Z"
   },
   {
    "duration": 40,
    "start_time": "2023-08-07T06:29:51.582Z"
   },
   {
    "duration": 45,
    "start_time": "2023-08-07T06:29:51.624Z"
   },
   {
    "duration": 23,
    "start_time": "2023-08-07T06:30:12.472Z"
   },
   {
    "duration": 10,
    "start_time": "2023-08-07T06:34:46.398Z"
   },
   {
    "duration": 51,
    "start_time": "2023-08-07T06:48:37.172Z"
   },
   {
    "duration": 9,
    "start_time": "2023-08-07T06:48:59.102Z"
   },
   {
    "duration": 1277,
    "start_time": "2023-08-07T06:49:07.152Z"
   },
   {
    "duration": 550,
    "start_time": "2023-08-07T06:49:08.431Z"
   },
   {
    "duration": 17,
    "start_time": "2023-08-07T06:49:08.983Z"
   },
   {
    "duration": 15,
    "start_time": "2023-08-07T06:49:09.003Z"
   },
   {
    "duration": 16,
    "start_time": "2023-08-07T06:49:09.020Z"
   },
   {
    "duration": 20,
    "start_time": "2023-08-07T06:49:09.038Z"
   },
   {
    "duration": 6,
    "start_time": "2023-08-07T06:49:09.060Z"
   },
   {
    "duration": 11,
    "start_time": "2023-08-07T06:49:09.068Z"
   },
   {
    "duration": 18,
    "start_time": "2023-08-07T06:49:09.081Z"
   },
   {
    "duration": 4,
    "start_time": "2023-08-07T06:49:09.101Z"
   },
   {
    "duration": 17,
    "start_time": "2023-08-07T06:49:09.107Z"
   },
   {
    "duration": 38,
    "start_time": "2023-08-07T06:49:09.126Z"
   },
   {
    "duration": 13,
    "start_time": "2023-08-07T06:49:09.166Z"
   },
   {
    "duration": 7,
    "start_time": "2023-08-07T06:49:09.181Z"
   },
   {
    "duration": 11,
    "start_time": "2023-08-07T06:49:09.189Z"
   },
   {
    "duration": 11,
    "start_time": "2023-08-07T06:49:09.202Z"
   },
   {
    "duration": 10,
    "start_time": "2023-08-07T06:49:09.214Z"
   },
   {
    "duration": 5,
    "start_time": "2023-08-07T06:49:09.226Z"
   },
   {
    "duration": 6,
    "start_time": "2023-08-07T06:49:09.257Z"
   },
   {
    "duration": 191,
    "start_time": "2023-08-07T06:49:09.265Z"
   },
   {
    "duration": 6,
    "start_time": "2023-08-07T06:49:09.458Z"
   },
   {
    "duration": 97,
    "start_time": "2023-08-07T06:49:09.466Z"
   },
   {
    "duration": 176,
    "start_time": "2023-08-07T06:49:09.564Z"
   },
   {
    "duration": 15,
    "start_time": "2023-08-07T06:49:09.742Z"
   },
   {
    "duration": 185,
    "start_time": "2023-08-07T06:49:09.758Z"
   },
   {
    "duration": 12,
    "start_time": "2023-08-07T06:49:09.945Z"
   },
   {
    "duration": 197,
    "start_time": "2023-08-07T06:49:09.959Z"
   },
   {
    "duration": 9,
    "start_time": "2023-08-07T06:49:10.158Z"
   },
   {
    "duration": 40,
    "start_time": "2023-08-07T06:49:10.168Z"
   },
   {
    "duration": 3,
    "start_time": "2023-08-07T06:49:10.210Z"
   },
   {
    "duration": 26,
    "start_time": "2023-08-07T06:49:10.215Z"
   },
   {
    "duration": 27,
    "start_time": "2023-08-07T06:49:10.242Z"
   },
   {
    "duration": 25,
    "start_time": "2023-08-07T06:49:10.270Z"
   },
   {
    "duration": 247,
    "start_time": "2023-08-07T06:49:10.297Z"
   },
   {
    "duration": 13,
    "start_time": "2023-08-07T06:49:10.545Z"
   },
   {
    "duration": 26,
    "start_time": "2023-08-07T06:49:10.559Z"
   },
   {
    "duration": 271,
    "start_time": "2023-08-07T06:49:10.587Z"
   },
   {
    "duration": 9,
    "start_time": "2023-08-07T06:49:10.860Z"
   },
   {
    "duration": 17,
    "start_time": "2023-08-07T06:49:10.871Z"
   },
   {
    "duration": 20,
    "start_time": "2023-08-07T06:49:10.890Z"
   },
   {
    "duration": 783,
    "start_time": "2023-08-07T06:49:10.913Z"
   },
   {
    "duration": 5,
    "start_time": "2023-08-07T06:49:11.698Z"
   },
   {
    "duration": 14,
    "start_time": "2023-08-07T06:49:11.705Z"
   },
   {
    "duration": 242,
    "start_time": "2023-08-07T06:49:11.721Z"
   },
   {
    "duration": 6,
    "start_time": "2023-08-07T06:49:11.965Z"
   },
   {
    "duration": 13,
    "start_time": "2023-08-07T06:49:11.972Z"
   },
   {
    "duration": 25,
    "start_time": "2023-08-07T06:49:11.986Z"
   },
   {
    "duration": 9,
    "start_time": "2023-08-07T06:49:22.535Z"
   }
  ],
  "kernelspec": {
   "display_name": "Python 3 (ipykernel)",
   "language": "python",
   "name": "python3"
  },
  "language_info": {
   "codemirror_mode": {
    "name": "ipython",
    "version": 3
   },
   "file_extension": ".py",
   "mimetype": "text/x-python",
   "name": "python",
   "nbconvert_exporter": "python",
   "pygments_lexer": "ipython3",
   "version": "3.11.4"
  },
  "toc": {
   "base_numbering": 1,
   "nav_menu": {},
   "number_sections": true,
   "sideBar": true,
   "skip_h1_title": true,
   "title_cell": "Table of Contents",
   "title_sidebar": "Contents",
   "toc_cell": false,
   "toc_position": {},
   "toc_section_display": true,
   "toc_window_display": false
  }
 },
 "nbformat": 4,
 "nbformat_minor": 5
}
